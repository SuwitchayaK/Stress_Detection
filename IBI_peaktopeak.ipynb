{
 "cells": [
  {
   "cell_type": "markdown",
   "id": "e669b7ba",
   "metadata": {},
   "source": [
    "# IBI Data"
   ]
  },
  {
   "cell_type": "code",
   "execution_count": 25,
   "id": "45a9c9c9",
   "metadata": {},
   "outputs": [],
   "source": [
    "import pandas as pd\n",
    "import numpy as np"
   ]
  },
  {
   "cell_type": "code",
   "execution_count": 2,
   "id": "579c3a05",
   "metadata": {},
   "outputs": [],
   "source": [
    "IBI11 = pd.read_csv('https://raw.githubusercontent.com/italha-d/Stress-Predict-Dataset/main/Raw_data/S11/IBI.csv',skiprows=[0],names=['IBI1','IBI2'])\n",
    "IBI12 = pd.read_csv('https://raw.githubusercontent.com/italha-d/Stress-Predict-Dataset/main/Raw_data/S12/IBI.csv',skiprows=[0],names=['IBI1','IBI2'])\n",
    "IBI13 = pd.read_csv('https://raw.githubusercontent.com/italha-d/Stress-Predict-Dataset/main/Raw_data/S13/IBI.csv',skiprows=[0],names=['IBI1','IBI2'])\n",
    "IBI14 = pd.read_csv('https://raw.githubusercontent.com/italha-d/Stress-Predict-Dataset/main/Raw_data/S14/IBI.csv',skiprows=[0],names=['IBI1','IBI2'])\n",
    "IBI15 = pd.read_csv('https://raw.githubusercontent.com/italha-d/Stress-Predict-Dataset/main/Raw_data/S15/IBI.csv',skiprows=[0],names=['IBI1','IBI2'])\n",
    "IBI16 = pd.read_csv('https://raw.githubusercontent.com/italha-d/Stress-Predict-Dataset/main/Raw_data/S16/IBI.csv',skiprows=[0],names=['IBI1','IBI2'])\n",
    "IBI17 = pd.read_csv('https://raw.githubusercontent.com/italha-d/Stress-Predict-Dataset/main/Raw_data/S17/IBI.csv',skiprows=[0],names=['IBI1','IBI2'])\n",
    "IBI18 = pd.read_csv('https://raw.githubusercontent.com/italha-d/Stress-Predict-Dataset/main/Raw_data/S18/IBI.csv',skiprows=[0],names=['IBI1','IBI2'])\n",
    "IBI19 = pd.read_csv('https://raw.githubusercontent.com/italha-d/Stress-Predict-Dataset/main/Raw_data/S19/IBI.csv',skiprows=[0],names=['IBI1','IBI2'])\n",
    "IBI20 = pd.read_csv('https://raw.githubusercontent.com/italha-d/Stress-Predict-Dataset/main/Raw_data/S20/IBI.csv',skiprows=[0],names=['IBI1','IBI2'])\n",
    "IBI21 = pd.read_csv('https://raw.githubusercontent.com/italha-d/Stress-Predict-Dataset/main/Raw_data/S21/IBI.csv',skiprows=[0],names=['IBI1','IBI2'])\n",
    "IBI22 = pd.read_csv('https://raw.githubusercontent.com/italha-d/Stress-Predict-Dataset/main/Raw_data/S22/IBI.csv',skiprows=[0],names=['IBI1','IBI2'])\n",
    "IBI23 = pd.read_csv('https://raw.githubusercontent.com/italha-d/Stress-Predict-Dataset/main/Raw_data/S23/IBI.csv',skiprows=[0],names=['IBI1','IBI2'])\n",
    "IBI24 = pd.read_csv('https://raw.githubusercontent.com/italha-d/Stress-Predict-Dataset/main/Raw_data/S24/IBI.csv',skiprows=[0],names=['IBI1','IBI2'])\n",
    "IBI25 = pd.read_csv('https://raw.githubusercontent.com/italha-d/Stress-Predict-Dataset/main/Raw_data/S25/IBI.csv',skiprows=[0],names=['IBI1','IBI2'])\n",
    "IBI26 = pd.read_csv('https://raw.githubusercontent.com/italha-d/Stress-Predict-Dataset/main/Raw_data/S26/IBI.csv',skiprows=[0],names=['IBI1','IBI2'])\n",
    "IBI27 = pd.read_csv('https://raw.githubusercontent.com/italha-d/Stress-Predict-Dataset/main/Raw_data/S27/IBI.csv',skiprows=[0],names=['IBI1','IBI2'])\n",
    "IBI28 = pd.read_csv('https://raw.githubusercontent.com/italha-d/Stress-Predict-Dataset/main/Raw_data/S28/IBI.csv',skiprows=[0],names=['IBI1','IBI2'])\n",
    "IBI29 = pd.read_csv('https://raw.githubusercontent.com/italha-d/Stress-Predict-Dataset/main/Raw_data/S29/IBI.csv',skiprows=[0],names=['IBI1','IBI2'])\n",
    "IBI30 = pd.read_csv('https://raw.githubusercontent.com/italha-d/Stress-Predict-Dataset/main/Raw_data/S30/IBI.csv',skiprows=[0],names=['IBI1','IBI2'])\n",
    "IBI31 = pd.read_csv('https://raw.githubusercontent.com/italha-d/Stress-Predict-Dataset/main/Raw_data/S31/IBI.csv',skiprows=[0],names=['IBI1','IBI2'])\n",
    "IBI32 = pd.read_csv('https://raw.githubusercontent.com/italha-d/Stress-Predict-Dataset/main/Raw_data/S32/IBI.csv',skiprows=[0],names=['IBI1','IBI2'])\n",
    "IBI33 = pd.read_csv('https://raw.githubusercontent.com/italha-d/Stress-Predict-Dataset/main/Raw_data/S33/IBI.csv',skiprows=[0],names=['IBI1','IBI2'])\n",
    "IBI34 = pd.read_csv('https://raw.githubusercontent.com/italha-d/Stress-Predict-Dataset/main/Raw_data/S34/IBI.csv',skiprows=[0],names=['IBI1','IBI2'])\n",
    "IBI35 = pd.read_csv('https://raw.githubusercontent.com/italha-d/Stress-Predict-Dataset/main/Raw_data/S35/IBI.csv',skiprows=[0],names=['IBI1','IBI2'])"
   ]
  },
  {
   "cell_type": "code",
   "execution_count": 3,
   "id": "904e2e29",
   "metadata": {},
   "outputs": [],
   "source": [
    "#Create ID for each participant\n",
    "# List of dataframes\n",
    "dataframes = [IBI11, IBI12, IBI13, IBI14, IBI15, IBI16, IBI17, IBI18, IBI19, IBI20, IBI21, IBI22, IBI23, IBI24, IBI25, IBI26, IBI27, IBI28, IBI29, IBI30, IBI31, IBI32, IBI33, IBI34, IBI35]\n",
    "\n",
    "# Iterate through each dataframe and assign a unique ID\n",
    "for i, df in enumerate(dataframes):\n",
    "    df['ID'] = 'S' + str(i+11).zfill(2)"
   ]
  },
  {
   "cell_type": "code",
   "execution_count": 4,
   "id": "dd279ba5",
   "metadata": {},
   "outputs": [],
   "source": [
    "#Concatenate all IBI datasets\n",
    "concat_IBI = [IBI11, IBI12, IBI13, IBI14, IBI15, IBI16, IBI17, IBI18, IBI19, IBI20, IBI21, IBI22, IBI23, IBI24, IBI25, IBI26, IBI27, IBI28, IBI29, IBI30, IBI31, IBI32, IBI33, IBI34, IBI35]\n",
    "IBI = pd.concat(concat_IBI, axis=0)"
   ]
  },
  {
   "cell_type": "code",
   "execution_count": 5,
   "id": "02817dec",
   "metadata": {},
   "outputs": [],
   "source": [
    "#Create all the start time for each ID\n",
    "start_values = [1644852028, 1645434908, 1645442647, 1645444063, 1645446989, 1645449146, 1645456369, 1645457685, 1646039930, 1646041789, 1646048637, 1646050723, 1646052269, 1646059181, 1646061149, 1646062904, 1646646345, 1646655386, 1646656769, 1646657973, 1646665728, 1646667379, 1646828080, 1646836594, 1646838724]\n",
    "\n",
    "for i, start_time in enumerate(start_values):\n",
    "    ID = 'S{}'.format(i+11)\n",
    "    IBI.loc[IBI['ID'] == ID, 'Initial_Time'] = start_time"
   ]
  },
  {
   "cell_type": "code",
   "execution_count": 6,
   "id": "daf76c16",
   "metadata": {},
   "outputs": [],
   "source": [
    "#Convert Time column to date-time format\n",
    "IBI['Initial_Time'] = pd.to_datetime(IBI['Initial_Time'], unit='s')"
   ]
  },
  {
   "cell_type": "code",
   "execution_count": 7,
   "id": "d295dfb3",
   "metadata": {},
   "outputs": [
    {
     "name": "stdout",
     "output_type": "stream",
     "text": [
      "             IBI1      IBI2   ID        Initial_Time\n",
      "0       11.859375  0.640625  S11 2022-02-14 15:20:28\n",
      "1       12.500000  0.640625  S11 2022-02-14 15:20:28\n",
      "2       13.140625  0.640625  S11 2022-02-14 15:20:28\n",
      "3       13.734375  0.593750  S11 2022-02-14 15:20:28\n",
      "4       25.125000  0.671875  S11 2022-02-14 15:20:28\n",
      "...           ...       ...  ...                 ...\n",
      "1105  3256.296875  0.921875  S35 2022-03-09 15:12:04\n",
      "1106  3306.687500  0.484375  S35 2022-03-09 15:12:04\n",
      "1107  3307.296875  0.609375  S35 2022-03-09 15:12:04\n",
      "1108  3344.734375  0.781250  S35 2022-03-09 15:12:04\n",
      "1109  3345.750000  1.015625  S35 2022-03-09 15:12:04\n",
      "\n",
      "[33700 rows x 4 columns]\n"
     ]
    }
   ],
   "source": [
    "print(IBI)"
   ]
  },
  {
   "cell_type": "code",
   "execution_count": 8,
   "id": "147e8386",
   "metadata": {},
   "outputs": [],
   "source": [
    "# Group the data by windows\n",
    "def group_data_by_windows(data, window_size):\n",
    "    grouped_data = data.groupby('ID')\n",
    "    all_windows = []\n",
    "\n",
    "    for _, group in grouped_data:\n",
    "        window_start = group['time'].min()\n",
    "        window_end = window_start + pd.Timedelta(seconds=window_size)\n",
    "\n",
    "        windows = []\n",
    "\n",
    "        while window_end <= group['time'].max():\n",
    "            window_data = group[(group['time'] >= window_start) & (group['time'] < window_end)]\n",
    "            windows.append(window_data)\n",
    "            window_start = window_end\n",
    "            window_end += pd.Timedelta(seconds=window_size)\n",
    "\n",
    "        all_windows.extend(windows)\n",
    "\n",
    "    return all_windows"
   ]
  },
  {
   "cell_type": "code",
   "execution_count": 10,
   "id": "2a39edd8",
   "metadata": {},
   "outputs": [],
   "source": [
    "IBI['time'] = IBI.apply(lambda row: row['Initial_Time'] + pd.Timedelta(seconds=row['IBI1']), axis=1)"
   ]
  },
  {
   "cell_type": "code",
   "execution_count": 11,
   "id": "7a15ad40",
   "metadata": {},
   "outputs": [],
   "source": [
    "windows = group_data_by_windows(IBI, 5)"
   ]
  },
  {
   "cell_type": "code",
   "execution_count": 12,
   "id": "0b812a63",
   "metadata": {},
   "outputs": [],
   "source": [
    "peak_to_peak_data = []\n",
    "\n",
    "for window in windows:\n",
    "    if not window.empty:\n",
    "        peak_to_peak = window['IBI2'].max() - window['IBI2'].min()\n",
    "        window_start_time = window['time'].min()\n",
    "        window_id = window['ID'].iloc[0]\n",
    "        peak_to_peak_data.append({'ID': window_id, 'Timestamp': window_start_time, 'Peak_to_Peak': peak_to_peak})\n",
    "\n",
    "peak_to_peak_df = pd.DataFrame(peak_to_peak_data)"
   ]
  },
  {
   "cell_type": "code",
   "execution_count": 17,
   "id": "695e8c65",
   "metadata": {},
   "outputs": [
    {
     "name": "stdout",
     "output_type": "stream",
     "text": [
      "       ID           Timestamp  Peak_to_Peak\n",
      "0     S11 2022-02-14 15:20:40      0.046875\n",
      "1     S11 2022-02-14 15:20:53      0.015625\n",
      "2     S11 2022-02-14 15:21:00      0.000000\n",
      "3     S11 2022-02-14 15:21:00      0.046875\n",
      "4     S11 2022-02-14 15:21:13      0.062500\n",
      "...   ...                 ...           ...\n",
      "7602  S35 2022-03-09 16:04:17      0.000000\n",
      "7603  S35 2022-03-09 16:05:10      0.000000\n",
      "7604  S35 2022-03-09 16:05:22      0.015625\n",
      "7605  S35 2022-03-09 16:06:19      0.046875\n",
      "7606  S35 2022-03-09 16:07:11      0.125000\n",
      "\n",
      "[7607 rows x 3 columns]\n"
     ]
    }
   ],
   "source": [
    "print(peak_to_peak_df)"
   ]
  },
  {
   "cell_type": "code",
   "execution_count": 16,
   "id": "0611405d",
   "metadata": {},
   "outputs": [],
   "source": [
    "peak_to_peak_df['Timestamp'] = peak_to_peak_df['Timestamp'].dt.round('S')"
   ]
  },
  {
   "cell_type": "code",
   "execution_count": 18,
   "id": "0e854a97",
   "metadata": {},
   "outputs": [],
   "source": [
    "IBI = peak_to_peak_df.rename(columns={'Timestamp': 'Time'})"
   ]
  },
  {
   "cell_type": "code",
   "execution_count": null,
   "id": "bfe9e207",
   "metadata": {},
   "outputs": [],
   "source": [
    "IBI = IBI.rename(columns={'Timestamp': 'Time'})"
   ]
  },
  {
   "cell_type": "code",
   "execution_count": 19,
   "id": "6e2365c7",
   "metadata": {},
   "outputs": [
    {
     "data": {
      "text/html": [
       "<div>\n",
       "<style scoped>\n",
       "    .dataframe tbody tr th:only-of-type {\n",
       "        vertical-align: middle;\n",
       "    }\n",
       "\n",
       "    .dataframe tbody tr th {\n",
       "        vertical-align: top;\n",
       "    }\n",
       "\n",
       "    .dataframe thead th {\n",
       "        text-align: right;\n",
       "    }\n",
       "</style>\n",
       "<table border=\"1\" class=\"dataframe\">\n",
       "  <thead>\n",
       "    <tr style=\"text-align: right;\">\n",
       "      <th></th>\n",
       "      <th>ID</th>\n",
       "      <th>Time</th>\n",
       "      <th>Peak_to_Peak</th>\n",
       "    </tr>\n",
       "  </thead>\n",
       "  <tbody>\n",
       "    <tr>\n",
       "      <th>0</th>\n",
       "      <td>S11</td>\n",
       "      <td>2022-02-14 15:20:40</td>\n",
       "      <td>0.046875</td>\n",
       "    </tr>\n",
       "    <tr>\n",
       "      <th>1</th>\n",
       "      <td>S11</td>\n",
       "      <td>2022-02-14 15:20:53</td>\n",
       "      <td>0.015625</td>\n",
       "    </tr>\n",
       "    <tr>\n",
       "      <th>2</th>\n",
       "      <td>S11</td>\n",
       "      <td>2022-02-14 15:21:00</td>\n",
       "      <td>0.000000</td>\n",
       "    </tr>\n",
       "    <tr>\n",
       "      <th>3</th>\n",
       "      <td>S11</td>\n",
       "      <td>2022-02-14 15:21:00</td>\n",
       "      <td>0.046875</td>\n",
       "    </tr>\n",
       "    <tr>\n",
       "      <th>4</th>\n",
       "      <td>S11</td>\n",
       "      <td>2022-02-14 15:21:13</td>\n",
       "      <td>0.062500</td>\n",
       "    </tr>\n",
       "    <tr>\n",
       "      <th>...</th>\n",
       "      <td>...</td>\n",
       "      <td>...</td>\n",
       "      <td>...</td>\n",
       "    </tr>\n",
       "    <tr>\n",
       "      <th>7602</th>\n",
       "      <td>S35</td>\n",
       "      <td>2022-03-09 16:04:17</td>\n",
       "      <td>0.000000</td>\n",
       "    </tr>\n",
       "    <tr>\n",
       "      <th>7603</th>\n",
       "      <td>S35</td>\n",
       "      <td>2022-03-09 16:05:10</td>\n",
       "      <td>0.000000</td>\n",
       "    </tr>\n",
       "    <tr>\n",
       "      <th>7604</th>\n",
       "      <td>S35</td>\n",
       "      <td>2022-03-09 16:05:22</td>\n",
       "      <td>0.015625</td>\n",
       "    </tr>\n",
       "    <tr>\n",
       "      <th>7605</th>\n",
       "      <td>S35</td>\n",
       "      <td>2022-03-09 16:06:19</td>\n",
       "      <td>0.046875</td>\n",
       "    </tr>\n",
       "    <tr>\n",
       "      <th>7606</th>\n",
       "      <td>S35</td>\n",
       "      <td>2022-03-09 16:07:11</td>\n",
       "      <td>0.125000</td>\n",
       "    </tr>\n",
       "  </tbody>\n",
       "</table>\n",
       "<p>7607 rows × 3 columns</p>\n",
       "</div>"
      ],
      "text/plain": [
       "       ID                Time  Peak_to_Peak\n",
       "0     S11 2022-02-14 15:20:40      0.046875\n",
       "1     S11 2022-02-14 15:20:53      0.015625\n",
       "2     S11 2022-02-14 15:21:00      0.000000\n",
       "3     S11 2022-02-14 15:21:00      0.046875\n",
       "4     S11 2022-02-14 15:21:13      0.062500\n",
       "...   ...                 ...           ...\n",
       "7602  S35 2022-03-09 16:04:17      0.000000\n",
       "7603  S35 2022-03-09 16:05:10      0.000000\n",
       "7604  S35 2022-03-09 16:05:22      0.015625\n",
       "7605  S35 2022-03-09 16:06:19      0.046875\n",
       "7606  S35 2022-03-09 16:07:11      0.125000\n",
       "\n",
       "[7607 rows x 3 columns]"
      ]
     },
     "execution_count": 19,
     "metadata": {},
     "output_type": "execute_result"
    }
   ],
   "source": [
    "IBI"
   ]
  },
  {
   "cell_type": "code",
   "execution_count": 20,
   "id": "54226216",
   "metadata": {},
   "outputs": [],
   "source": [
    "IBI.to_csv('IBI_peaktopeak.csv')"
   ]
  },
  {
   "cell_type": "code",
   "execution_count": 21,
   "id": "38a033fc",
   "metadata": {},
   "outputs": [],
   "source": [
    "data = pd.read_csv('data.csv')"
   ]
  },
  {
   "cell_type": "code",
   "execution_count": 26,
   "id": "21bf7de8",
   "metadata": {},
   "outputs": [],
   "source": [
    "IBI['Time'] = IBI['Time'].astype(np.int64) // 10**9"
   ]
  },
  {
   "cell_type": "code",
   "execution_count": 30,
   "id": "b20989b0",
   "metadata": {},
   "outputs": [],
   "source": [
    "data['Time'] = pd.to_datetime(data['Time'])"
   ]
  },
  {
   "cell_type": "code",
   "execution_count": 31,
   "id": "564d0657",
   "metadata": {},
   "outputs": [],
   "source": [
    "data['Time'] = data['Time'].astype(np.int64) // 10**9"
   ]
  },
  {
   "cell_type": "code",
   "execution_count": 33,
   "id": "f021b199",
   "metadata": {},
   "outputs": [],
   "source": [
    "data = pd.merge(data, IBI, on=['Time', 'ID'], how='outer')"
   ]
  },
  {
   "cell_type": "code",
   "execution_count": 36,
   "id": "12f957d4",
   "metadata": {},
   "outputs": [],
   "source": [
    "data = data.drop(['Unnamed: 0', 'IBI_detected'], axis=1)"
   ]
  },
  {
   "cell_type": "code",
   "execution_count": 43,
   "id": "90f44c93",
   "metadata": {},
   "outputs": [
    {
     "data": {
      "text/html": [
       "<div>\n",
       "<style scoped>\n",
       "    .dataframe tbody tr th:only-of-type {\n",
       "        vertical-align: middle;\n",
       "    }\n",
       "\n",
       "    .dataframe tbody tr th {\n",
       "        vertical-align: top;\n",
       "    }\n",
       "\n",
       "    .dataframe thead th {\n",
       "        text-align: right;\n",
       "    }\n",
       "</style>\n",
       "<table border=\"1\" class=\"dataframe\">\n",
       "  <thead>\n",
       "    <tr style=\"text-align: right;\">\n",
       "      <th></th>\n",
       "      <th>HR</th>\n",
       "      <th>Time</th>\n",
       "      <th>ID</th>\n",
       "      <th>BVP</th>\n",
       "      <th>TEMP</th>\n",
       "      <th>EDA</th>\n",
       "      <th>ACC</th>\n",
       "      <th>Stress</th>\n",
       "      <th>Peak_to_Peak</th>\n",
       "    </tr>\n",
       "  </thead>\n",
       "  <tbody>\n",
       "    <tr>\n",
       "      <th>0</th>\n",
       "      <td>56.00</td>\n",
       "      <td>1644852028</td>\n",
       "      <td>S11</td>\n",
       "      <td>-0.00</td>\n",
       "      <td>27.25</td>\n",
       "      <td>0.000000</td>\n",
       "      <td>36.706039</td>\n",
       "      <td>0.0</td>\n",
       "      <td>0.046875</td>\n",
       "    </tr>\n",
       "    <tr>\n",
       "      <th>1</th>\n",
       "      <td>55.67</td>\n",
       "      <td>1644852029</td>\n",
       "      <td>S11</td>\n",
       "      <td>-0.00</td>\n",
       "      <td>27.25</td>\n",
       "      <td>0.060219</td>\n",
       "      <td>36.762709</td>\n",
       "      <td>0.0</td>\n",
       "      <td>0.046875</td>\n",
       "    </tr>\n",
       "    <tr>\n",
       "      <th>2</th>\n",
       "      <td>55.75</td>\n",
       "      <td>1644852030</td>\n",
       "      <td>S11</td>\n",
       "      <td>-0.00</td>\n",
       "      <td>27.25</td>\n",
       "      <td>0.060219</td>\n",
       "      <td>36.762709</td>\n",
       "      <td>0.0</td>\n",
       "      <td>0.046875</td>\n",
       "    </tr>\n",
       "    <tr>\n",
       "      <th>3</th>\n",
       "      <td>57.40</td>\n",
       "      <td>1644852031</td>\n",
       "      <td>S11</td>\n",
       "      <td>-0.00</td>\n",
       "      <td>27.25</td>\n",
       "      <td>0.060219</td>\n",
       "      <td>36.762709</td>\n",
       "      <td>0.0</td>\n",
       "      <td>0.046875</td>\n",
       "    </tr>\n",
       "    <tr>\n",
       "      <th>4</th>\n",
       "      <td>57.00</td>\n",
       "      <td>1644852032</td>\n",
       "      <td>S11</td>\n",
       "      <td>-0.00</td>\n",
       "      <td>27.25</td>\n",
       "      <td>0.120438</td>\n",
       "      <td>36.762709</td>\n",
       "      <td>0.0</td>\n",
       "      <td>0.046875</td>\n",
       "    </tr>\n",
       "    <tr>\n",
       "      <th>...</th>\n",
       "      <td>...</td>\n",
       "      <td>...</td>\n",
       "      <td>...</td>\n",
       "      <td>...</td>\n",
       "      <td>...</td>\n",
       "      <td>...</td>\n",
       "      <td>...</td>\n",
       "      <td>...</td>\n",
       "      <td>...</td>\n",
       "    </tr>\n",
       "    <tr>\n",
       "      <th>89820</th>\n",
       "      <td>65.37</td>\n",
       "      <td>1646842231</td>\n",
       "      <td>S35</td>\n",
       "      <td>38.43</td>\n",
       "      <td>33.55</td>\n",
       "      <td>0.481407</td>\n",
       "      <td>37.834261</td>\n",
       "      <td>0.0</td>\n",
       "      <td>0.125000</td>\n",
       "    </tr>\n",
       "    <tr>\n",
       "      <th>89821</th>\n",
       "      <td>65.42</td>\n",
       "      <td>1646842232</td>\n",
       "      <td>S35</td>\n",
       "      <td>38.43</td>\n",
       "      <td>33.55</td>\n",
       "      <td>0.480766</td>\n",
       "      <td>37.834261</td>\n",
       "      <td>0.0</td>\n",
       "      <td>0.125000</td>\n",
       "    </tr>\n",
       "    <tr>\n",
       "      <th>89822</th>\n",
       "      <td>65.45</td>\n",
       "      <td>1646842233</td>\n",
       "      <td>S35</td>\n",
       "      <td>38.43</td>\n",
       "      <td>30.81</td>\n",
       "      <td>0.363384</td>\n",
       "      <td>37.834261</td>\n",
       "      <td>0.0</td>\n",
       "      <td>0.125000</td>\n",
       "    </tr>\n",
       "    <tr>\n",
       "      <th>89823</th>\n",
       "      <td>65.47</td>\n",
       "      <td>1646842234</td>\n",
       "      <td>S35</td>\n",
       "      <td>38.43</td>\n",
       "      <td>30.81</td>\n",
       "      <td>0.363384</td>\n",
       "      <td>37.834261</td>\n",
       "      <td>0.0</td>\n",
       "      <td>0.125000</td>\n",
       "    </tr>\n",
       "    <tr>\n",
       "      <th>89824</th>\n",
       "      <td>65.50</td>\n",
       "      <td>1646842235</td>\n",
       "      <td>S35</td>\n",
       "      <td>38.43</td>\n",
       "      <td>30.81</td>\n",
       "      <td>0.363384</td>\n",
       "      <td>37.834261</td>\n",
       "      <td>0.0</td>\n",
       "      <td>0.125000</td>\n",
       "    </tr>\n",
       "  </tbody>\n",
       "</table>\n",
       "<p>89825 rows × 9 columns</p>\n",
       "</div>"
      ],
      "text/plain": [
       "          HR        Time   ID    BVP   TEMP       EDA        ACC  Stress  \\\n",
       "0      56.00  1644852028  S11  -0.00  27.25  0.000000  36.706039     0.0   \n",
       "1      55.67  1644852029  S11  -0.00  27.25  0.060219  36.762709     0.0   \n",
       "2      55.75  1644852030  S11  -0.00  27.25  0.060219  36.762709     0.0   \n",
       "3      57.40  1644852031  S11  -0.00  27.25  0.060219  36.762709     0.0   \n",
       "4      57.00  1644852032  S11  -0.00  27.25  0.120438  36.762709     0.0   \n",
       "...      ...         ...  ...    ...    ...       ...        ...     ...   \n",
       "89820  65.37  1646842231  S35  38.43  33.55  0.481407  37.834261     0.0   \n",
       "89821  65.42  1646842232  S35  38.43  33.55  0.480766  37.834261     0.0   \n",
       "89822  65.45  1646842233  S35  38.43  30.81  0.363384  37.834261     0.0   \n",
       "89823  65.47  1646842234  S35  38.43  30.81  0.363384  37.834261     0.0   \n",
       "89824  65.50  1646842235  S35  38.43  30.81  0.363384  37.834261     0.0   \n",
       "\n",
       "       Peak_to_Peak  \n",
       "0          0.046875  \n",
       "1          0.046875  \n",
       "2          0.046875  \n",
       "3          0.046875  \n",
       "4          0.046875  \n",
       "...             ...  \n",
       "89820      0.125000  \n",
       "89821      0.125000  \n",
       "89822      0.125000  \n",
       "89823      0.125000  \n",
       "89824      0.125000  \n",
       "\n",
       "[89825 rows x 9 columns]"
      ]
     },
     "execution_count": 43,
     "metadata": {},
     "output_type": "execute_result"
    }
   ],
   "source": [
    "data"
   ]
  },
  {
   "cell_type": "code",
   "execution_count": 38,
   "id": "00ff243d",
   "metadata": {},
   "outputs": [],
   "source": [
    "data['Peak_to_Peak'] = data['Peak_to_Peak'].interpolate()"
   ]
  },
  {
   "cell_type": "code",
   "execution_count": 42,
   "id": "29baa0d8",
   "metadata": {},
   "outputs": [],
   "source": [
    "data = data.bfill()"
   ]
  },
  {
   "cell_type": "code",
   "execution_count": 44,
   "id": "988b11d4",
   "metadata": {},
   "outputs": [
    {
     "data": {
      "text/plain": [
       "0"
      ]
     },
     "execution_count": 44,
     "metadata": {},
     "output_type": "execute_result"
    }
   ],
   "source": [
    "data['Peak_to_Peak'].isna().sum()"
   ]
  },
  {
   "cell_type": "code",
   "execution_count": 45,
   "id": "5d500044",
   "metadata": {},
   "outputs": [],
   "source": [
    "data = data.rename(columns={'Peak_to_Peak': 'IBI'})"
   ]
  },
  {
   "cell_type": "code",
   "execution_count": 46,
   "id": "2510b3fc",
   "metadata": {},
   "outputs": [],
   "source": [
    "data.to_csv('data_peakIBI.csv')"
   ]
  },
  {
   "cell_type": "code",
   "execution_count": null,
   "id": "94a05106",
   "metadata": {},
   "outputs": [],
   "source": []
  }
 ],
 "metadata": {
  "kernelspec": {
   "display_name": "Python 3 (ipykernel)",
   "language": "python",
   "name": "python3"
  },
  "language_info": {
   "codemirror_mode": {
    "name": "ipython",
    "version": 3
   },
   "file_extension": ".py",
   "mimetype": "text/x-python",
   "name": "python",
   "nbconvert_exporter": "python",
   "pygments_lexer": "ipython3",
   "version": "3.9.12"
  }
 },
 "nbformat": 4,
 "nbformat_minor": 5
}
