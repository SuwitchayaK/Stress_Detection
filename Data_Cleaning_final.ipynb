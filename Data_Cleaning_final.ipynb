{
 "cells": [
  {
   "cell_type": "markdown",
   "id": "338f4145",
   "metadata": {},
   "source": [
    "# Data Cleaning"
   ]
  },
  {
   "cell_type": "code",
   "execution_count": 1,
   "id": "bfbddc73",
   "metadata": {},
   "outputs": [],
   "source": [
    "import pandas as pd\n",
    "import numpy as np"
   ]
  },
  {
   "cell_type": "markdown",
   "id": "4d31010b",
   "metadata": {},
   "source": [
    "# HR Data"
   ]
  },
  {
   "cell_type": "code",
   "execution_count": 2,
   "id": "c0dd47f9",
   "metadata": {},
   "outputs": [],
   "source": [
    "#Load HR Datasets\n",
    "#I leave first two rows when I load the data as it shows the time start measuring the data\n",
    "HR11 = pd.read_csv('https://raw.githubusercontent.com/italha-d/Stress-Predict-Dataset/main/Raw_data/S11/HR.csv',header=[0,1])\n",
    "HR12 = pd.read_csv('https://raw.githubusercontent.com/italha-d/Stress-Predict-Dataset/main/Raw_data/S12/HR.csv',header=[0,1])\n",
    "HR13 = pd.read_csv('https://raw.githubusercontent.com/italha-d/Stress-Predict-Dataset/main/Raw_data/S13/HR.csv',header=[0,1])\n",
    "HR14 = pd.read_csv('https://raw.githubusercontent.com/italha-d/Stress-Predict-Dataset/main/Raw_data/S14/HR.csv',header=[0,1])\n",
    "HR15 = pd.read_csv('https://raw.githubusercontent.com/italha-d/Stress-Predict-Dataset/main/Raw_data/S15/HR.csv',header=[0,1])\n",
    "HR16 = pd.read_csv('https://raw.githubusercontent.com/italha-d/Stress-Predict-Dataset/main/Raw_data/S16/HR.csv',header=[0,1])\n",
    "HR17 = pd.read_csv('https://raw.githubusercontent.com/italha-d/Stress-Predict-Dataset/main/Raw_data/S17/HR.csv',header=[0,1])\n",
    "HR18 = pd.read_csv('https://raw.githubusercontent.com/italha-d/Stress-Predict-Dataset/main/Raw_data/S18/HR.csv',header=[0,1])\n",
    "HR19 = pd.read_csv('https://raw.githubusercontent.com/italha-d/Stress-Predict-Dataset/main/Raw_data/S19/HR.csv',header=[0,1])\n",
    "HR20 = pd.read_csv('https://raw.githubusercontent.com/italha-d/Stress-Predict-Dataset/main/Raw_data/S20/HR.csv',header=[0,1])\n",
    "HR21 = pd.read_csv('https://raw.githubusercontent.com/italha-d/Stress-Predict-Dataset/main/Raw_data/S21/HR.csv',header=[0,1])\n",
    "HR22 = pd.read_csv('https://raw.githubusercontent.com/italha-d/Stress-Predict-Dataset/main/Raw_data/S22/HR.csv',header=[0,1])\n",
    "HR23 = pd.read_csv('https://raw.githubusercontent.com/italha-d/Stress-Predict-Dataset/main/Raw_data/S23/HR.csv',header=[0,1])\n",
    "HR24 = pd.read_csv('https://raw.githubusercontent.com/italha-d/Stress-Predict-Dataset/main/Raw_data/S24/HR.csv',header=[0,1])\n",
    "HR25 = pd.read_csv('https://raw.githubusercontent.com/italha-d/Stress-Predict-Dataset/main/Raw_data/S25/HR.csv',header=[0,1])\n",
    "HR26 = pd.read_csv('https://raw.githubusercontent.com/italha-d/Stress-Predict-Dataset/main/Raw_data/S26/HR.csv',header=[0,1])\n",
    "HR27 = pd.read_csv('https://raw.githubusercontent.com/italha-d/Stress-Predict-Dataset/main/Raw_data/S27/HR.csv',header=[0,1])\n",
    "HR28 = pd.read_csv('https://raw.githubusercontent.com/italha-d/Stress-Predict-Dataset/main/Raw_data/S28/HR.csv',header=[0,1])\n",
    "HR29 = pd.read_csv('https://raw.githubusercontent.com/italha-d/Stress-Predict-Dataset/main/Raw_data/S29/HR.csv',header=[0,1])\n",
    "HR30 = pd.read_csv('https://raw.githubusercontent.com/italha-d/Stress-Predict-Dataset/main/Raw_data/S30/HR.csv',header=[0,1])\n",
    "HR31 = pd.read_csv('https://raw.githubusercontent.com/italha-d/Stress-Predict-Dataset/main/Raw_data/S31/HR.csv',header=[0,1])\n",
    "HR32 = pd.read_csv('https://raw.githubusercontent.com/italha-d/Stress-Predict-Dataset/main/Raw_data/S32/HR.csv',header=[0,1])\n",
    "HR33 = pd.read_csv('https://raw.githubusercontent.com/italha-d/Stress-Predict-Dataset/main/Raw_data/S33/HR.csv',header=[0,1])\n",
    "HR34 = pd.read_csv('https://raw.githubusercontent.com/italha-d/Stress-Predict-Dataset/main/Raw_data/S34/HR.csv',header=[0,1])\n",
    "HR35 = pd.read_csv('https://raw.githubusercontent.com/italha-d/Stress-Predict-Dataset/main/Raw_data/S35/HR.csv',header=[0,1])"
   ]
  },
  {
   "cell_type": "code",
   "execution_count": 4,
   "id": "9c3646e8",
   "metadata": {},
   "outputs": [],
   "source": [
    "#Set column names as 'HR'\n",
    "dataframes = [HR11, HR12, HR13, HR14, HR15, HR16, HR17, HR18, HR19, HR20, HR21, HR22, HR23, HR24, HR25, HR26, HR27, HR28, HR29, HR30, HR31, HR32, HR33, HR34, HR35]\n",
    "\n",
    "for df in dataframes:\n",
    "    df.columns = df.iloc[0]\n",
    "    df.drop(df.index[0], inplace=True)\n",
    "    df.columns = ['HR']"
   ]
  },
  {
   "cell_type": "code",
   "execution_count": 5,
   "id": "86ccf0b0",
   "metadata": {},
   "outputs": [],
   "source": [
    "#Create time column for each participants\n",
    "start_values = [1644852028, 1645434908, 1645442647, 1645444063, 1645446989, 1645449146, 1645456369, 1645457685, 1646039930, 1646041789, 1646048637, 1646050723, 1646052269, 1646059181, 1646061149, 1646062904, 1646646345, 1646655386, 1646656769, 1646657973, 1646665728, 1646667379, 1646828080, 1646836594, 1646838724]  \n",
    "dataframes = [HR11, HR12, HR13, HR14, HR15, HR16, HR17, HR18, HR19, HR20, HR21, HR22, HR23, HR24, HR25, HR26, HR27, HR28, HR29, HR30, HR31, HR32, HR33, HR34, HR35]\n",
    "\n",
    "for i, df in enumerate(dataframes):\n",
    "    start_value = start_values[i]\n",
    "    df['Time'] = [start_value + j*1 for j in range(len(df))]"
   ]
  },
  {
   "cell_type": "code",
   "execution_count": 6,
   "id": "0a171f55",
   "metadata": {},
   "outputs": [],
   "source": [
    "#Create ID for each participant\n",
    "# List of dataframes\n",
    "dataframes = [HR11, HR12, HR13, HR14, HR15, HR16, HR17, HR18, HR19, HR20, HR21, HR22, HR23, HR24, HR25, HR26, HR27, HR28, HR29, HR30, HR31, HR32, HR33, HR34, HR35]\n",
    "\n",
    "# Iterate through each dataframe and assign a unique ID\n",
    "for i, df in enumerate(dataframes):\n",
    "    df['ID'] = 'S' + str(i+11).zfill(2)"
   ]
  },
  {
   "cell_type": "code",
   "execution_count": 7,
   "id": "9a1e41f5",
   "metadata": {},
   "outputs": [],
   "source": [
    "#Combine HR dataset\n",
    "concat_HR = [HR11, HR12, HR13, HR14, HR15, HR16, HR17, HR18, HR19, HR20, HR21, HR22, HR23, HR24, HR25, HR26, HR27, HR28, HR29, HR30, HR31, HR32, HR33, HR34, HR35]\n",
    "HR = pd.concat(concat_HR, axis=0)"
   ]
  },
  {
   "cell_type": "code",
   "execution_count": 8,
   "id": "5d2c3c1c",
   "metadata": {},
   "outputs": [],
   "source": [
    "#Convert Time column to date-time format\n",
    "HR['Time'] = pd.to_datetime(HR['Time'], unit='s')"
   ]
  },
  {
   "cell_type": "markdown",
   "id": "9218bbc8",
   "metadata": {},
   "source": [
    "# BVP Data"
   ]
  },
  {
   "cell_type": "code",
   "execution_count": 9,
   "id": "50bb7f32",
   "metadata": {},
   "outputs": [],
   "source": [
    "#Load BVP dataset\n",
    "BVP11 = pd.read_csv('https://raw.githubusercontent.com/italha-d/Stress-Predict-Dataset/main/Raw_data/S11/BVP.csv',header=[0,1])\n",
    "BVP12 = pd.read_csv('https://raw.githubusercontent.com/italha-d/Stress-Predict-Dataset/main/Raw_data/S12/BVP.csv',header=[0,1])\n",
    "BVP13 = pd.read_csv('https://raw.githubusercontent.com/italha-d/Stress-Predict-Dataset/main/Raw_data/S13/BVP.csv',header=[0,1])\n",
    "BVP14 = pd.read_csv('https://raw.githubusercontent.com/italha-d/Stress-Predict-Dataset/main/Raw_data/S14/BVP.csv',header=[0,1])\n",
    "BVP15 = pd.read_csv('https://raw.githubusercontent.com/italha-d/Stress-Predict-Dataset/main/Raw_data/S15/BVP.csv',header=[0,1])\n",
    "BVP16 = pd.read_csv('https://raw.githubusercontent.com/italha-d/Stress-Predict-Dataset/main/Raw_data/S16/BVP.csv',header=[0,1])\n",
    "BVP17 = pd.read_csv('https://raw.githubusercontent.com/italha-d/Stress-Predict-Dataset/main/Raw_data/S17/BVP.csv',header=[0,1])\n",
    "BVP18 = pd.read_csv('https://raw.githubusercontent.com/italha-d/Stress-Predict-Dataset/main/Raw_data/S18/BVP.csv',header=[0,1])\n",
    "BVP19 = pd.read_csv('https://raw.githubusercontent.com/italha-d/Stress-Predict-Dataset/main/Raw_data/S19/BVP.csv',header=[0,1])\n",
    "BVP20 = pd.read_csv('https://raw.githubusercontent.com/italha-d/Stress-Predict-Dataset/main/Raw_data/S20/BVP.csv',header=[0,1])\n",
    "BVP21 = pd.read_csv('https://raw.githubusercontent.com/italha-d/Stress-Predict-Dataset/main/Raw_data/S21/BVP.csv',header=[0,1])\n",
    "BVP22 = pd.read_csv('https://raw.githubusercontent.com/italha-d/Stress-Predict-Dataset/main/Raw_data/S22/BVP.csv',header=[0,1])\n",
    "BVP23 = pd.read_csv('https://raw.githubusercontent.com/italha-d/Stress-Predict-Dataset/main/Raw_data/S23/BVP.csv',header=[0,1])\n",
    "BVP24 = pd.read_csv('https://raw.githubusercontent.com/italha-d/Stress-Predict-Dataset/main/Raw_data/S24/BVP.csv',header=[0,1])\n",
    "BVP25 = pd.read_csv('https://raw.githubusercontent.com/italha-d/Stress-Predict-Dataset/main/Raw_data/S25/BVP.csv',header=[0,1])\n",
    "BVP26 = pd.read_csv('https://raw.githubusercontent.com/italha-d/Stress-Predict-Dataset/main/Raw_data/S26/BVP.csv',header=[0,1])\n",
    "BVP27 = pd.read_csv('https://raw.githubusercontent.com/italha-d/Stress-Predict-Dataset/main/Raw_data/S27/BVP.csv',header=[0,1])\n",
    "BVP28 = pd.read_csv('https://raw.githubusercontent.com/italha-d/Stress-Predict-Dataset/main/Raw_data/S28/BVP.csv',header=[0,1])\n",
    "BVP29 = pd.read_csv('https://raw.githubusercontent.com/italha-d/Stress-Predict-Dataset/main/Raw_data/S29/BVP.csv',header=[0,1])\n",
    "BVP30 = pd.read_csv('https://raw.githubusercontent.com/italha-d/Stress-Predict-Dataset/main/Raw_data/S30/BVP.csv',header=[0,1])\n",
    "BVP31 = pd.read_csv('https://raw.githubusercontent.com/italha-d/Stress-Predict-Dataset/main/Raw_data/S31/BVP.csv',header=[0,1])\n",
    "BVP32 = pd.read_csv('https://raw.githubusercontent.com/italha-d/Stress-Predict-Dataset/main/Raw_data/S32/BVP.csv',header=[0,1])\n",
    "BVP33 = pd.read_csv('https://raw.githubusercontent.com/italha-d/Stress-Predict-Dataset/main/Raw_data/S33/BVP.csv',header=[0,1])\n",
    "BVP34 = pd.read_csv('https://raw.githubusercontent.com/italha-d/Stress-Predict-Dataset/main/Raw_data/S34/BVP.csv',header=[0,1])\n",
    "BVP35 = pd.read_csv('https://raw.githubusercontent.com/italha-d/Stress-Predict-Dataset/main/Raw_data/S35/BVP.csv',header=[0,1])"
   ]
  },
  {
   "cell_type": "code",
   "execution_count": 10,
   "id": "6e00a626",
   "metadata": {},
   "outputs": [],
   "source": [
    "#Set column names as 'BVP'\n",
    "dataframes = [BVP11, BVP12, BVP13, BVP14, BVP15, BVP16, BVP17, BVP18, BVP19, BVP20, BVP21, BVP22, BVP23, BVP24, BVP25, BVP26, BVP27, BVP28, BVP29, BVP30, BVP31, BVP32, BVP33, BVP34, BVP35]\n",
    "\n",
    "for df in dataframes:\n",
    "    df.columns = df.iloc[0]\n",
    "    df.drop(df.index[0], inplace=True)\n",
    "    df.columns = ['BVP']"
   ]
  },
  {
   "cell_type": "code",
   "execution_count": 11,
   "id": "48f6923f",
   "metadata": {},
   "outputs": [],
   "source": [
    "#Create time column for each participants\n",
    "start_values = [1644852028, 1645434908, 1645442647, 1645444063, 1645446989, 1645449146, 1645456369, 1645457685, 1646039930, 1646041789, 1646048637, 1646050723, 1646052269, 1646059181, 1646061149, 1646062904, 1646646345, 1646655386, 1646656769, 1646657973, 1646665728, 1646667379, 1646828080, 1646836594, 1646838724]  \n",
    "dataframes = [BVP11, BVP12, BVP13, BVP14, BVP15, BVP16, BVP17, BVP18, BVP19, BVP20, BVP21, BVP22, BVP23, BVP24, BVP25, BVP26, BVP27, BVP28, BVP29, BVP30, BVP31, BVP32, BVP33, BVP34, BVP35]\n",
    "\n",
    "for i, df in enumerate(dataframes):\n",
    "    start_value = start_values[i]\n",
    "    df['Time'] = [start_value + j*64 for j in range(len(df))]"
   ]
  },
  {
   "cell_type": "code",
   "execution_count": 12,
   "id": "92273b61",
   "metadata": {},
   "outputs": [],
   "source": [
    "#Create ID for each participant\n",
    "# List of dataframes\n",
    "dataframes = [BVP11, BVP12, BVP13, BVP14, BVP15, BVP16, BVP17, BVP18, BVP19, BVP20, BVP21, BVP22, BVP23, BVP24, BVP25, BVP26, BVP27, BVP28, BVP29, BVP30, BVP31, BVP32, BVP33, BVP34, BVP35]\n",
    "\n",
    "# Iterate through each dataframe and assign a unique ID\n",
    "for i, df in enumerate(dataframes):\n",
    "    df['ID'] = 'S' + str(i+11).zfill(2)"
   ]
  },
  {
   "cell_type": "code",
   "execution_count": 13,
   "id": "16233a41",
   "metadata": {},
   "outputs": [],
   "source": [
    "#Concatenate all BVP datasets\n",
    "concat_BVP = [BVP11, BVP12, BVP13, BVP14, BVP15, BVP16, BVP17, BVP18, BVP19, BVP20, BVP21, BVP22, BVP23, BVP24, BVP25, BVP26, BVP27, BVP28, BVP29, BVP30, BVP31, BVP32, BVP33, BVP34, BVP35]\n",
    "BVP = pd.concat(concat_BVP, axis=0)"
   ]
  },
  {
   "cell_type": "code",
   "execution_count": 14,
   "id": "9bca1e25",
   "metadata": {},
   "outputs": [],
   "source": [
    "#Convert Time column to date-time format\n",
    "BVP['Time'] = pd.to_datetime(BVP['Time'], unit='s')"
   ]
  },
  {
   "cell_type": "code",
   "execution_count": 15,
   "id": "0b3d170f",
   "metadata": {},
   "outputs": [],
   "source": [
    "data = pd.merge(HR, BVP, on=['Time', 'ID'], how='outer')"
   ]
  },
  {
   "cell_type": "markdown",
   "id": "9522c153",
   "metadata": {},
   "source": [
    "# Fill Mean Boundary Rows"
   ]
  },
  {
   "cell_type": "code",
   "execution_count": 17,
   "id": "611d5092",
   "metadata": {},
   "outputs": [],
   "source": [
    "def fill_with_mean_of_immediate_boundary_rows(data, column):\n",
    "    forward_fill = data[column].fillna(method='ffill')\n",
    "    backward_fill = data[column].fillna(method='bfill')\n",
    "\n",
    "    mean_fill = (forward_fill + backward_fill) / 2\n",
    "    data[column] = data[column].fillna(mean_fill)\n",
    "\n",
    "    return data"
   ]
  },
  {
   "cell_type": "code",
   "execution_count": 18,
   "id": "f06d25ff",
   "metadata": {},
   "outputs": [],
   "source": [
    "filled_data = fill_with_mean_of_immediate_boundary_rows(data, 'BVP')"
   ]
  },
  {
   "cell_type": "markdown",
   "id": "fbb813bc",
   "metadata": {},
   "source": [
    "# TEMP Data"
   ]
  },
  {
   "cell_type": "code",
   "execution_count": 19,
   "id": "9034326b",
   "metadata": {},
   "outputs": [],
   "source": [
    "#Download TEMP datasets\n",
    "#I skip first two rows as the start time is the same as BVP data, then I add column name 'TEMP'\n",
    "TEMP11 = pd.read_csv('https://raw.githubusercontent.com/italha-d/Stress-Predict-Dataset/main/Raw_data/S11/TEMP.csv',skiprows=[0,1],names=['TEMP'])\n",
    "TEMP12 = pd.read_csv('https://raw.githubusercontent.com/italha-d/Stress-Predict-Dataset/main/Raw_data/S12/TEMP.csv',skiprows=[0,1],names=['TEMP'])\n",
    "TEMP13 = pd.read_csv('https://raw.githubusercontent.com/italha-d/Stress-Predict-Dataset/main/Raw_data/S13/TEMP.csv',skiprows=[0,1],names=['TEMP'])\n",
    "TEMP14 = pd.read_csv('https://raw.githubusercontent.com/italha-d/Stress-Predict-Dataset/main/Raw_data/S14/TEMP.csv',skiprows=[0,1],names=['TEMP'])\n",
    "TEMP15 = pd.read_csv('https://raw.githubusercontent.com/italha-d/Stress-Predict-Dataset/main/Raw_data/S15/TEMP.csv',skiprows=[0,1],names=['TEMP'])\n",
    "TEMP16 = pd.read_csv('https://raw.githubusercontent.com/italha-d/Stress-Predict-Dataset/main/Raw_data/S16/TEMP.csv',skiprows=[0,1],names=['TEMP'])\n",
    "TEMP17 = pd.read_csv('https://raw.githubusercontent.com/italha-d/Stress-Predict-Dataset/main/Raw_data/S17/TEMP.csv',skiprows=[0,1],names=['TEMP'])\n",
    "TEMP18 = pd.read_csv('https://raw.githubusercontent.com/italha-d/Stress-Predict-Dataset/main/Raw_data/S18/TEMP.csv',skiprows=[0,1],names=['TEMP'])\n",
    "TEMP19 = pd.read_csv('https://raw.githubusercontent.com/italha-d/Stress-Predict-Dataset/main/Raw_data/S19/TEMP.csv',skiprows=[0,1],names=['TEMP'])\n",
    "TEMP20 = pd.read_csv('https://raw.githubusercontent.com/italha-d/Stress-Predict-Dataset/main/Raw_data/S20/TEMP.csv',skiprows=[0,1],names=['TEMP'])\n",
    "TEMP21 = pd.read_csv('https://raw.githubusercontent.com/italha-d/Stress-Predict-Dataset/main/Raw_data/S21/TEMP.csv',skiprows=[0,1],names=['TEMP'])\n",
    "TEMP22 = pd.read_csv('https://raw.githubusercontent.com/italha-d/Stress-Predict-Dataset/main/Raw_data/S22/TEMP.csv',skiprows=[0,1],names=['TEMP'])\n",
    "TEMP23 = pd.read_csv('https://raw.githubusercontent.com/italha-d/Stress-Predict-Dataset/main/Raw_data/S23/TEMP.csv',skiprows=[0,1],names=['TEMP'])\n",
    "TEMP24 = pd.read_csv('https://raw.githubusercontent.com/italha-d/Stress-Predict-Dataset/main/Raw_data/S24/TEMP.csv',skiprows=[0,1],names=['TEMP'])\n",
    "TEMP25 = pd.read_csv('https://raw.githubusercontent.com/italha-d/Stress-Predict-Dataset/main/Raw_data/S25/TEMP.csv',skiprows=[0,1],names=['TEMP'])\n",
    "TEMP26 = pd.read_csv('https://raw.githubusercontent.com/italha-d/Stress-Predict-Dataset/main/Raw_data/S26/TEMP.csv',skiprows=[0,1],names=['TEMP'])\n",
    "TEMP27 = pd.read_csv('https://raw.githubusercontent.com/italha-d/Stress-Predict-Dataset/main/Raw_data/S27/TEMP.csv',skiprows=[0,1],names=['TEMP'])\n",
    "TEMP28 = pd.read_csv('https://raw.githubusercontent.com/italha-d/Stress-Predict-Dataset/main/Raw_data/S28/TEMP.csv',skiprows=[0,1],names=['TEMP'])\n",
    "TEMP29 = pd.read_csv('https://raw.githubusercontent.com/italha-d/Stress-Predict-Dataset/main/Raw_data/S29/TEMP.csv',skiprows=[0,1],names=['TEMP'])\n",
    "TEMP30 = pd.read_csv('https://raw.githubusercontent.com/italha-d/Stress-Predict-Dataset/main/Raw_data/S30/TEMP.csv',skiprows=[0,1],names=['TEMP'])\n",
    "TEMP31 = pd.read_csv('https://raw.githubusercontent.com/italha-d/Stress-Predict-Dataset/main/Raw_data/S31/TEMP.csv',skiprows=[0,1],names=['TEMP'])\n",
    "TEMP32 = pd.read_csv('https://raw.githubusercontent.com/italha-d/Stress-Predict-Dataset/main/Raw_data/S32/TEMP.csv',skiprows=[0,1],names=['TEMP'])\n",
    "TEMP33 = pd.read_csv('https://raw.githubusercontent.com/italha-d/Stress-Predict-Dataset/main/Raw_data/S33/TEMP.csv',skiprows=[0,1],names=['TEMP'])\n",
    "TEMP34 = pd.read_csv('https://raw.githubusercontent.com/italha-d/Stress-Predict-Dataset/main/Raw_data/S34/TEMP.csv',skiprows=[0,1],names=['TEMP'])\n",
    "TEMP35 = pd.read_csv('https://raw.githubusercontent.com/italha-d/Stress-Predict-Dataset/main/Raw_data/S35/TEMP.csv',skiprows=[0,1],names=['TEMP'])"
   ]
  },
  {
   "cell_type": "code",
   "execution_count": 20,
   "id": "d8b0734e",
   "metadata": {},
   "outputs": [],
   "source": [
    " #Create time column for each participants\n",
    "start_values = start_values = [1644852028, 1645434908, 1645442647, 1645444063, 1645446989, 1645449146, 1645456369, 1645457685, 1646039930, 1646041789, 1646048637, 1646050723, 1646052269, 1646059181, 1646061149, 1646062904, 1646646345, 1646655386, 1646656769, 1646657973, 1646665728, 1646667379, 1646828080, 1646836594, 1646838724]\n",
    "dataframes = [TEMP11, TEMP12, TEMP13, TEMP14, TEMP15, TEMP16, TEMP17, TEMP18, TEMP19, TEMP20, TEMP21, TEMP22, TEMP23, TEMP24, TEMP25, TEMP26, TEMP27, TEMP28, TEMP29, TEMP30, TEMP31, TEMP32, TEMP33, TEMP34, TEMP35]\n",
    "\n",
    "for i, df in enumerate(dataframes):\n",
    "    start_value = start_values[i]\n",
    "    df['Time'] = [start_value + j*4 for j in range(len(df))]"
   ]
  },
  {
   "cell_type": "code",
   "execution_count": 21,
   "id": "a2c88e63",
   "metadata": {},
   "outputs": [],
   "source": [
    "#Create ID for each participant\n",
    "# List of dataframes\n",
    "dataframes = [TEMP11, TEMP12, TEMP13, TEMP14, TEMP15, TEMP16, TEMP17, TEMP18, TEMP19, TEMP20, TEMP21, TEMP22, TEMP23, TEMP24, TEMP25, TEMP26, TEMP27, TEMP28, TEMP29, TEMP30, TEMP31, TEMP32, TEMP33, TEMP34, TEMP35]\n",
    "\n",
    "# Iterate through each dataframe and assign a unique ID\n",
    "for i, df in enumerate(dataframes):\n",
    "    df['ID'] = 'S' + str(i+11).zfill(2)"
   ]
  },
  {
   "cell_type": "code",
   "execution_count": 22,
   "id": "d660c353",
   "metadata": {},
   "outputs": [],
   "source": [
    "#Concatenate all BVP datasets\n",
    "concat_TEMP = [TEMP11, TEMP12, TEMP13, TEMP14, TEMP15, TEMP16, TEMP17, TEMP18, TEMP19, TEMP20, TEMP21, TEMP22, TEMP23, TEMP24, TEMP25, TEMP26, TEMP27, TEMP28, TEMP29, TEMP30, TEMP31, TEMP32, TEMP33, TEMP34, TEMP35]\n",
    "TEMP = pd.concat(concat_TEMP, axis=0)"
   ]
  },
  {
   "cell_type": "code",
   "execution_count": 23,
   "id": "eb430c6a",
   "metadata": {},
   "outputs": [],
   "source": [
    "#Convert Time column to date-time format\n",
    "TEMP['Time'] = pd.to_datetime(TEMP['Time'], unit='s')"
   ]
  },
  {
   "cell_type": "code",
   "execution_count": 24,
   "id": "517941b8",
   "metadata": {},
   "outputs": [],
   "source": [
    "data = pd.merge(filled_data, TEMP, on=['Time','ID'], how='outer')"
   ]
  },
  {
   "cell_type": "code",
   "execution_count": 25,
   "id": "9a732ade",
   "metadata": {},
   "outputs": [],
   "source": [
    "filled_TEMP = fill_with_mean_of_immediate_boundary_rows(data, 'TEMP')"
   ]
  },
  {
   "cell_type": "markdown",
   "id": "87e705dc",
   "metadata": {},
   "source": [
    "# EDA Data"
   ]
  },
  {
   "cell_type": "code",
   "execution_count": 29,
   "id": "2f30cda9",
   "metadata": {},
   "outputs": [],
   "source": [
    "#Download EDA datasets\n",
    "#I skip first two rows as the start time is the same as BVP data, then I add column name 'EDA'\n",
    "EDA11 = pd.read_csv('https://raw.githubusercontent.com/italha-d/Stress-Predict-Dataset/main/Raw_data/S11/EDA.csv',skiprows=[0,1],names=['EDA'])\n",
    "EDA12 = pd.read_csv('https://raw.githubusercontent.com/italha-d/Stress-Predict-Dataset/main/Raw_data/S12/EDA.csv',skiprows=[0,1],names=['EDA'])\n",
    "EDA13 = pd.read_csv('https://raw.githubusercontent.com/italha-d/Stress-Predict-Dataset/main/Raw_data/S13/EDA.csv',skiprows=[0,1],names=['EDA'])\n",
    "EDA14 = pd.read_csv('https://raw.githubusercontent.com/italha-d/Stress-Predict-Dataset/main/Raw_data/S14/EDA.csv',skiprows=[0,1],names=['EDA'])\n",
    "EDA15 = pd.read_csv('https://raw.githubusercontent.com/italha-d/Stress-Predict-Dataset/main/Raw_data/S15/EDA.csv',skiprows=[0,1],names=['EDA'])\n",
    "EDA16 = pd.read_csv('https://raw.githubusercontent.com/italha-d/Stress-Predict-Dataset/main/Raw_data/S16/EDA.csv',skiprows=[0,1],names=['EDA'])\n",
    "EDA17 = pd.read_csv('https://raw.githubusercontent.com/italha-d/Stress-Predict-Dataset/main/Raw_data/S17/EDA.csv',skiprows=[0,1],names=['EDA'])\n",
    "EDA18 = pd.read_csv('https://raw.githubusercontent.com/italha-d/Stress-Predict-Dataset/main/Raw_data/S18/EDA.csv',skiprows=[0,1],names=['EDA'])\n",
    "EDA19 = pd.read_csv('https://raw.githubusercontent.com/italha-d/Stress-Predict-Dataset/main/Raw_data/S19/EDA.csv',skiprows=[0,1],names=['EDA'])\n",
    "EDA20 = pd.read_csv('https://raw.githubusercontent.com/italha-d/Stress-Predict-Dataset/main/Raw_data/S20/EDA.csv',skiprows=[0,1],names=['EDA'])\n",
    "EDA21 = pd.read_csv('https://raw.githubusercontent.com/italha-d/Stress-Predict-Dataset/main/Raw_data/S21/EDA.csv',skiprows=[0,1],names=['EDA'])\n",
    "EDA22 = pd.read_csv('https://raw.githubusercontent.com/italha-d/Stress-Predict-Dataset/main/Raw_data/S22/EDA.csv',skiprows=[0,1],names=['EDA'])\n",
    "EDA23 = pd.read_csv('https://raw.githubusercontent.com/italha-d/Stress-Predict-Dataset/main/Raw_data/S23/EDA.csv',skiprows=[0,1],names=['EDA'])\n",
    "EDA24 = pd.read_csv('https://raw.githubusercontent.com/italha-d/Stress-Predict-Dataset/main/Raw_data/S24/EDA.csv',skiprows=[0,1],names=['EDA'])\n",
    "EDA25 = pd.read_csv('https://raw.githubusercontent.com/italha-d/Stress-Predict-Dataset/main/Raw_data/S25/EDA.csv',skiprows=[0,1],names=['EDA'])\n",
    "EDA26 = pd.read_csv('https://raw.githubusercontent.com/italha-d/Stress-Predict-Dataset/main/Raw_data/S26/EDA.csv',skiprows=[0,1],names=['EDA'])\n",
    "EDA27 = pd.read_csv('https://raw.githubusercontent.com/italha-d/Stress-Predict-Dataset/main/Raw_data/S27/EDA.csv',skiprows=[0,1],names=['EDA'])\n",
    "EDA28 = pd.read_csv('https://raw.githubusercontent.com/italha-d/Stress-Predict-Dataset/main/Raw_data/S28/EDA.csv',skiprows=[0,1],names=['EDA'])\n",
    "EDA29 = pd.read_csv('https://raw.githubusercontent.com/italha-d/Stress-Predict-Dataset/main/Raw_data/S29/EDA.csv',skiprows=[0,1],names=['EDA'])\n",
    "EDA30 = pd.read_csv('https://raw.githubusercontent.com/italha-d/Stress-Predict-Dataset/main/Raw_data/S30/EDA.csv',skiprows=[0,1],names=['EDA'])\n",
    "EDA31 = pd.read_csv('https://raw.githubusercontent.com/italha-d/Stress-Predict-Dataset/main/Raw_data/S31/EDA.csv',skiprows=[0,1],names=['EDA'])\n",
    "EDA32 = pd.read_csv('https://raw.githubusercontent.com/italha-d/Stress-Predict-Dataset/main/Raw_data/S32/EDA.csv',skiprows=[0,1],names=['EDA'])\n",
    "EDA33 = pd.read_csv('https://raw.githubusercontent.com/italha-d/Stress-Predict-Dataset/main/Raw_data/S33/EDA.csv',skiprows=[0,1],names=['EDA'])\n",
    "EDA34 = pd.read_csv('https://raw.githubusercontent.com/italha-d/Stress-Predict-Dataset/main/Raw_data/S34/EDA.csv',skiprows=[0,1],names=['EDA'])\n",
    "EDA35 = pd.read_csv('https://raw.githubusercontent.com/italha-d/Stress-Predict-Dataset/main/Raw_data/S35/EDA.csv',skiprows=[0,1],names=['EDA'])"
   ]
  },
  {
   "cell_type": "code",
   "execution_count": 30,
   "id": "252407e3",
   "metadata": {},
   "outputs": [],
   "source": [
    "#Create time column for each participants\n",
    "start_values = start_values = [1644852028, 1645434908, 1645442647, 1645444063, 1645446989, 1645449146, 1645456369, 1645457685, 1646039930, 1646041789, 1646048637, 1646050723, 1646052269, 1646059181, 1646061149, 1646062904, 1646646345, 1646655386, 1646656769, 1646657973, 1646665728, 1646667379, 1646828080, 1646836594, 1646838724]\n",
    "dataframes = [EDA11, EDA12, EDA13, EDA14, EDA15, EDA16, EDA17, EDA18, EDA19, EDA20, EDA21, EDA22, EDA23, EDA24, EDA25, EDA26, EDA27, EDA28, EDA29, EDA30, EDA31, EDA32, EDA33, EDA34, EDA35]\n",
    "\n",
    "for i, df in enumerate(dataframes):\n",
    "    start_value = start_values[i]\n",
    "    df['Time'] = [start_value + j*4 for j in range(len(df))]"
   ]
  },
  {
   "cell_type": "code",
   "execution_count": 31,
   "id": "05452a16",
   "metadata": {},
   "outputs": [],
   "source": [
    "#Create ID for each participant\n",
    "# List of dataframes\n",
    "dataframes = [EDA11, EDA12, EDA13, EDA14, EDA15, EDA16, EDA17, EDA18, EDA19, EDA20, EDA21, EDA22, EDA23, EDA24, EDA25, EDA26, EDA27, EDA28, EDA29, EDA30, EDA31, EDA32, EDA33, EDA34, EDA35]\n",
    "\n",
    "# Iterate through each dataframe and assign a unique ID\n",
    "for i, df in enumerate(dataframes):\n",
    "    df['ID'] = 'S' + str(i+11).zfill(2)"
   ]
  },
  {
   "cell_type": "code",
   "execution_count": 32,
   "id": "b66dee20",
   "metadata": {},
   "outputs": [],
   "source": [
    "#Concatenate all EDA datasets\n",
    "concat_EDA = [EDA11, EDA12, EDA13, EDA14, EDA15, EDA16, EDA17, EDA18, EDA19, EDA20, EDA21, EDA22, EDA23, EDA24, EDA25, EDA26, EDA27, EDA28, EDA29, EDA30, EDA31, EDA32, EDA33, EDA34, EDA35]\n",
    "EDA = pd.concat(concat_EDA, axis=0)"
   ]
  },
  {
   "cell_type": "code",
   "execution_count": 33,
   "id": "d7dfdc10",
   "metadata": {},
   "outputs": [],
   "source": [
    "#Convert Time column to date-time format\n",
    "EDA['Time'] = pd.to_datetime(EDA['Time'], unit='s')"
   ]
  },
  {
   "cell_type": "code",
   "execution_count": 34,
   "id": "c645f46f",
   "metadata": {},
   "outputs": [],
   "source": [
    "data = pd.merge(filled_TEMP, EDA, on=['Time', 'ID'], how='outer')"
   ]
  },
  {
   "cell_type": "code",
   "execution_count": 35,
   "id": "23d8be86",
   "metadata": {},
   "outputs": [],
   "source": [
    "filled_EDA = fill_with_mean_of_immediate_boundary_rows(data, 'EDA')"
   ]
  },
  {
   "cell_type": "markdown",
   "id": "223233c0",
   "metadata": {},
   "source": [
    "# IBI Data"
   ]
  },
  {
   "cell_type": "code",
   "execution_count": 312,
   "id": "9aecb400",
   "metadata": {},
   "outputs": [],
   "source": [
    "#Download IBI Data\n",
    "IBI11 = pd.read_csv('https://raw.githubusercontent.com/italha-d/Stress-Predict-Dataset/main/Raw_data/S11/IBI.csv',skiprows=[0],names=['IBI1','IBI2'])\n",
    "IBI12 = pd.read_csv('https://raw.githubusercontent.com/italha-d/Stress-Predict-Dataset/main/Raw_data/S12/IBI.csv',skiprows=[0],names=['IBI1','IBI2'])\n",
    "IBI13 = pd.read_csv('https://raw.githubusercontent.com/italha-d/Stress-Predict-Dataset/main/Raw_data/S13/IBI.csv',skiprows=[0],names=['IBI1','IBI2'])\n",
    "IBI14 = pd.read_csv('https://raw.githubusercontent.com/italha-d/Stress-Predict-Dataset/main/Raw_data/S14/IBI.csv',skiprows=[0],names=['IBI1','IBI2'])\n",
    "IBI15 = pd.read_csv('https://raw.githubusercontent.com/italha-d/Stress-Predict-Dataset/main/Raw_data/S15/IBI.csv',skiprows=[0],names=['IBI1','IBI2'])\n",
    "IBI16 = pd.read_csv('https://raw.githubusercontent.com/italha-d/Stress-Predict-Dataset/main/Raw_data/S16/IBI.csv',skiprows=[0],names=['IBI1','IBI2'])\n",
    "IBI17 = pd.read_csv('https://raw.githubusercontent.com/italha-d/Stress-Predict-Dataset/main/Raw_data/S17/IBI.csv',skiprows=[0],names=['IBI1','IBI2'])\n",
    "IBI18 = pd.read_csv('https://raw.githubusercontent.com/italha-d/Stress-Predict-Dataset/main/Raw_data/S18/IBI.csv',skiprows=[0],names=['IBI1','IBI2'])\n",
    "IBI19 = pd.read_csv('https://raw.githubusercontent.com/italha-d/Stress-Predict-Dataset/main/Raw_data/S19/IBI.csv',skiprows=[0],names=['IBI1','IBI2'])\n",
    "IBI20 = pd.read_csv('https://raw.githubusercontent.com/italha-d/Stress-Predict-Dataset/main/Raw_data/S20/IBI.csv',skiprows=[0],names=['IBI1','IBI2'])\n",
    "IBI21 = pd.read_csv('https://raw.githubusercontent.com/italha-d/Stress-Predict-Dataset/main/Raw_data/S21/IBI.csv',skiprows=[0],names=['IBI1','IBI2'])\n",
    "IBI22 = pd.read_csv('https://raw.githubusercontent.com/italha-d/Stress-Predict-Dataset/main/Raw_data/S22/IBI.csv',skiprows=[0],names=['IBI1','IBI2'])\n",
    "IBI23 = pd.read_csv('https://raw.githubusercontent.com/italha-d/Stress-Predict-Dataset/main/Raw_data/S23/IBI.csv',skiprows=[0],names=['IBI1','IBI2'])\n",
    "IBI24 = pd.read_csv('https://raw.githubusercontent.com/italha-d/Stress-Predict-Dataset/main/Raw_data/S24/IBI.csv',skiprows=[0],names=['IBI1','IBI2'])\n",
    "IBI25 = pd.read_csv('https://raw.githubusercontent.com/italha-d/Stress-Predict-Dataset/main/Raw_data/S25/IBI.csv',skiprows=[0],names=['IBI1','IBI2'])\n",
    "IBI26 = pd.read_csv('https://raw.githubusercontent.com/italha-d/Stress-Predict-Dataset/main/Raw_data/S26/IBI.csv',skiprows=[0],names=['IBI1','IBI2'])\n",
    "IBI27 = pd.read_csv('https://raw.githubusercontent.com/italha-d/Stress-Predict-Dataset/main/Raw_data/S27/IBI.csv',skiprows=[0],names=['IBI1','IBI2'])\n",
    "IBI28 = pd.read_csv('https://raw.githubusercontent.com/italha-d/Stress-Predict-Dataset/main/Raw_data/S28/IBI.csv',skiprows=[0],names=['IBI1','IBI2'])\n",
    "IBI29 = pd.read_csv('https://raw.githubusercontent.com/italha-d/Stress-Predict-Dataset/main/Raw_data/S29/IBI.csv',skiprows=[0],names=['IBI1','IBI2'])\n",
    "IBI30 = pd.read_csv('https://raw.githubusercontent.com/italha-d/Stress-Predict-Dataset/main/Raw_data/S30/IBI.csv',skiprows=[0],names=['IBI1','IBI2'])\n",
    "IBI31 = pd.read_csv('https://raw.githubusercontent.com/italha-d/Stress-Predict-Dataset/main/Raw_data/S31/IBI.csv',skiprows=[0],names=['IBI1','IBI2'])\n",
    "IBI32 = pd.read_csv('https://raw.githubusercontent.com/italha-d/Stress-Predict-Dataset/main/Raw_data/S32/IBI.csv',skiprows=[0],names=['IBI1','IBI2'])\n",
    "IBI33 = pd.read_csv('https://raw.githubusercontent.com/italha-d/Stress-Predict-Dataset/main/Raw_data/S33/IBI.csv',skiprows=[0],names=['IBI1','IBI2'])\n",
    "IBI34 = pd.read_csv('https://raw.githubusercontent.com/italha-d/Stress-Predict-Dataset/main/Raw_data/S34/IBI.csv',skiprows=[0],names=['IBI1','IBI2'])\n",
    "IBI35 = pd.read_csv('https://raw.githubusercontent.com/italha-d/Stress-Predict-Dataset/main/Raw_data/S35/IBI.csv',skiprows=[0],names=['IBI1','IBI2'])"
   ]
  },
  {
   "cell_type": "code",
   "execution_count": 313,
   "id": "2bd46b7e",
   "metadata": {},
   "outputs": [],
   "source": [
    "#Create ID for each participant\n",
    "# List of dataframes\n",
    "dataframes = [IBI11, IBI12, IBI13, IBI14, IBI15, IBI16, IBI17, IBI18, IBI19, IBI20, IBI21, IBI22, IBI23, IBI24, IBI25, IBI26, IBI27, IBI28, IBI29, IBI30, IBI31, IBI32, IBI33, IBI34, IBI35]\n",
    "\n",
    "# Iterate through each dataframe and assign a unique ID\n",
    "for i, df in enumerate(dataframes):\n",
    "    df['ID'] = 'S' + str(i+11).zfill(2)"
   ]
  },
  {
   "cell_type": "code",
   "execution_count": 314,
   "id": "057b5bda",
   "metadata": {},
   "outputs": [
    {
     "data": {
      "text/html": [
       "<div>\n",
       "<style scoped>\n",
       "    .dataframe tbody tr th:only-of-type {\n",
       "        vertical-align: middle;\n",
       "    }\n",
       "\n",
       "    .dataframe tbody tr th {\n",
       "        vertical-align: top;\n",
       "    }\n",
       "\n",
       "    .dataframe thead th {\n",
       "        text-align: right;\n",
       "    }\n",
       "</style>\n",
       "<table border=\"1\" class=\"dataframe\">\n",
       "  <thead>\n",
       "    <tr style=\"text-align: right;\">\n",
       "      <th></th>\n",
       "      <th>IBI1</th>\n",
       "      <th>IBI2</th>\n",
       "      <th>ID</th>\n",
       "    </tr>\n",
       "  </thead>\n",
       "  <tbody>\n",
       "    <tr>\n",
       "      <th>0</th>\n",
       "      <td>11.859375</td>\n",
       "      <td>0.640625</td>\n",
       "      <td>S11</td>\n",
       "    </tr>\n",
       "    <tr>\n",
       "      <th>1</th>\n",
       "      <td>12.500000</td>\n",
       "      <td>0.640625</td>\n",
       "      <td>S11</td>\n",
       "    </tr>\n",
       "    <tr>\n",
       "      <th>2</th>\n",
       "      <td>13.140625</td>\n",
       "      <td>0.640625</td>\n",
       "      <td>S11</td>\n",
       "    </tr>\n",
       "    <tr>\n",
       "      <th>3</th>\n",
       "      <td>13.734375</td>\n",
       "      <td>0.593750</td>\n",
       "      <td>S11</td>\n",
       "    </tr>\n",
       "    <tr>\n",
       "      <th>4</th>\n",
       "      <td>25.125000</td>\n",
       "      <td>0.671875</td>\n",
       "      <td>S11</td>\n",
       "    </tr>\n",
       "  </tbody>\n",
       "</table>\n",
       "</div>"
      ],
      "text/plain": [
       "        IBI1      IBI2   ID\n",
       "0  11.859375  0.640625  S11\n",
       "1  12.500000  0.640625  S11\n",
       "2  13.140625  0.640625  S11\n",
       "3  13.734375  0.593750  S11\n",
       "4  25.125000  0.671875  S11"
      ]
     },
     "execution_count": 314,
     "metadata": {},
     "output_type": "execute_result"
    }
   ],
   "source": [
    "IBI11.head()"
   ]
  },
  {
   "cell_type": "markdown",
   "id": "d4f73c94",
   "metadata": {},
   "source": [
    "#Create time column for each participants\n",
    "start_values = start_values = [1644852028, 1645434908, 1645442647, 1645444063, 1645446989, 1645449146, 1645456369, 1645457685, 1646039930, 1646041789, 1646048637, 1646050723, 1646052269, 1646059181, 1646061149, 1646062904, 1646646345, 1646655386, 1646656769, 1646657973, 1646665728, 1646667379, 1646828080, 1646836594, 1646838724]\n",
    "dataframes = [IBI11, IBI12, IBI13, IBI14, IBI15, IBI16, IBI17, IBI18, IBI19, IBI20, IBI21, IBI22, IBI23, IBI24, IBI25, IBI26, IBI27, IBI28, IBI29, IBI30, IBI31, IBI32, IBI33, IBI34, IBI35]\n",
    "\n",
    "for i, df in enumerate(dataframes):\n",
    "    start_value = start_values[i]\n",
    "    df['Time'] = [start_value + j*1 for j in range(len(df))]"
   ]
  },
  {
   "cell_type": "code",
   "execution_count": 315,
   "id": "70d31138",
   "metadata": {},
   "outputs": [],
   "source": [
    "#Concatenate all IBI datasets\n",
    "concat_IBI = [IBI11, IBI12, IBI13, IBI14, IBI15, IBI16, IBI17, IBI18, IBI19, IBI20, IBI21, IBI22, IBI23, IBI24, IBI25, IBI26, IBI27, IBI28, IBI29, IBI30, IBI31, IBI32, IBI33, IBI34, IBI35]\n",
    "IBI = pd.concat(concat_IBI, axis=0)"
   ]
  },
  {
   "cell_type": "code",
   "execution_count": 61,
   "id": "6cc68d56",
   "metadata": {},
   "outputs": [],
   "source": [
    "#Drop columns\n",
    "IBI = IBI.drop(columns=['IBI1','IBI2'])"
   ]
  },
  {
   "cell_type": "code",
   "execution_count": 62,
   "id": "f8e5da3e",
   "metadata": {},
   "outputs": [],
   "source": [
    "#Convert Time column to date-time format\n",
    "IBI['Time'] = pd.to_datetime(IBI['Time'], unit='s')"
   ]
  },
  {
   "cell_type": "code",
   "execution_count": 64,
   "id": "4aa70132",
   "metadata": {},
   "outputs": [],
   "source": [
    "data = pd.merge(filled_EDA, IBI, on=['Time', 'ID'], how='outer')"
   ]
  },
  {
   "cell_type": "code",
   "execution_count": 305,
   "id": "140751e3",
   "metadata": {},
   "outputs": [
    {
     "data": {
      "text/html": [
       "<div>\n",
       "<style scoped>\n",
       "    .dataframe tbody tr th:only-of-type {\n",
       "        vertical-align: middle;\n",
       "    }\n",
       "\n",
       "    .dataframe tbody tr th {\n",
       "        vertical-align: top;\n",
       "    }\n",
       "\n",
       "    .dataframe thead th {\n",
       "        text-align: right;\n",
       "    }\n",
       "</style>\n",
       "<table border=\"1\" class=\"dataframe\">\n",
       "  <thead>\n",
       "    <tr style=\"text-align: right;\">\n",
       "      <th></th>\n",
       "      <th>Time</th>\n",
       "      <th>ID</th>\n",
       "      <th>IBI</th>\n",
       "    </tr>\n",
       "  </thead>\n",
       "  <tbody>\n",
       "    <tr>\n",
       "      <th>0</th>\n",
       "      <td>2022-02-14 15:20:28</td>\n",
       "      <td>S11</td>\n",
       "      <td>11.876665</td>\n",
       "    </tr>\n",
       "    <tr>\n",
       "      <th>1</th>\n",
       "      <td>2022-02-14 15:20:29</td>\n",
       "      <td>S11</td>\n",
       "      <td>12.516405</td>\n",
       "    </tr>\n",
       "    <tr>\n",
       "      <th>2</th>\n",
       "      <td>2022-02-14 15:20:30</td>\n",
       "      <td>S11</td>\n",
       "      <td>13.156231</td>\n",
       "    </tr>\n",
       "    <tr>\n",
       "      <th>3</th>\n",
       "      <td>2022-02-14 15:20:31</td>\n",
       "      <td>S11</td>\n",
       "      <td>13.747203</td>\n",
       "    </tr>\n",
       "    <tr>\n",
       "      <th>4</th>\n",
       "      <td>2022-02-14 15:20:32</td>\n",
       "      <td>S11</td>\n",
       "      <td>25.133982</td>\n",
       "    </tr>\n",
       "  </tbody>\n",
       "</table>\n",
       "</div>"
      ],
      "text/plain": [
       "                 Time   ID        IBI\n",
       "0 2022-02-14 15:20:28  S11  11.876665\n",
       "1 2022-02-14 15:20:29  S11  12.516405\n",
       "2 2022-02-14 15:20:30  S11  13.156231\n",
       "3 2022-02-14 15:20:31  S11  13.747203\n",
       "4 2022-02-14 15:20:32  S11  25.133982"
      ]
     },
     "execution_count": 305,
     "metadata": {},
     "output_type": "execute_result"
    }
   ],
   "source": [
    "IBI.head()"
   ]
  },
  {
   "cell_type": "code",
   "execution_count": 306,
   "id": "dc8f666e",
   "metadata": {},
   "outputs": [
    {
     "data": {
      "text/html": [
       "<div>\n",
       "<style scoped>\n",
       "    .dataframe tbody tr th:only-of-type {\n",
       "        vertical-align: middle;\n",
       "    }\n",
       "\n",
       "    .dataframe tbody tr th {\n",
       "        vertical-align: top;\n",
       "    }\n",
       "\n",
       "    .dataframe thead th {\n",
       "        text-align: right;\n",
       "    }\n",
       "</style>\n",
       "<table border=\"1\" class=\"dataframe\">\n",
       "  <thead>\n",
       "    <tr style=\"text-align: right;\">\n",
       "      <th></th>\n",
       "      <th>IBI1</th>\n",
       "      <th>IBI2</th>\n",
       "      <th>Time</th>\n",
       "      <th>ID</th>\n",
       "    </tr>\n",
       "  </thead>\n",
       "  <tbody>\n",
       "    <tr>\n",
       "      <th>0</th>\n",
       "      <td>11.859375</td>\n",
       "      <td>0.640625</td>\n",
       "      <td>1644852028</td>\n",
       "      <td>S11</td>\n",
       "    </tr>\n",
       "    <tr>\n",
       "      <th>1</th>\n",
       "      <td>12.500000</td>\n",
       "      <td>0.640625</td>\n",
       "      <td>1644852029</td>\n",
       "      <td>S11</td>\n",
       "    </tr>\n",
       "    <tr>\n",
       "      <th>2</th>\n",
       "      <td>13.140625</td>\n",
       "      <td>0.640625</td>\n",
       "      <td>1644852030</td>\n",
       "      <td>S11</td>\n",
       "    </tr>\n",
       "    <tr>\n",
       "      <th>3</th>\n",
       "      <td>13.734375</td>\n",
       "      <td>0.593750</td>\n",
       "      <td>1644852031</td>\n",
       "      <td>S11</td>\n",
       "    </tr>\n",
       "    <tr>\n",
       "      <th>4</th>\n",
       "      <td>25.125000</td>\n",
       "      <td>0.671875</td>\n",
       "      <td>1644852032</td>\n",
       "      <td>S11</td>\n",
       "    </tr>\n",
       "  </tbody>\n",
       "</table>\n",
       "</div>"
      ],
      "text/plain": [
       "        IBI1      IBI2        Time   ID\n",
       "0  11.859375  0.640625  1644852028  S11\n",
       "1  12.500000  0.640625  1644852029  S11\n",
       "2  13.140625  0.640625  1644852030  S11\n",
       "3  13.734375  0.593750  1644852031  S11\n",
       "4  25.125000  0.671875  1644852032  S11"
      ]
     },
     "execution_count": 306,
     "metadata": {},
     "output_type": "execute_result"
    }
   ],
   "source": [
    "IBI11.head()"
   ]
  },
  {
   "cell_type": "markdown",
   "id": "8a06b9b3",
   "metadata": {},
   "source": [
    "# ACC Data"
   ]
  },
  {
   "cell_type": "code",
   "execution_count": 71,
   "id": "c6198c36",
   "metadata": {},
   "outputs": [],
   "source": [
    "#Load ACC Data\n",
    "ACC11 = pd.read_csv('https://raw.githubusercontent.com/italha-d/Stress-Predict-Dataset/main/Raw_data/S11/ACC.csv',skiprows=[0,1],names=['ACC_x','ACC_y','ACC_z'])\n",
    "ACC12 = pd.read_csv('https://raw.githubusercontent.com/italha-d/Stress-Predict-Dataset/main/Raw_data/S12/ACC.csv',skiprows=[0,1],names=['ACC_x','ACC_y','ACC_z'])\n",
    "ACC13 = pd.read_csv('https://raw.githubusercontent.com/italha-d/Stress-Predict-Dataset/main/Raw_data/S13/ACC.csv',skiprows=[0,1],names=['ACC_x','ACC_y','ACC_z'])\n",
    "ACC14 = pd.read_csv('https://raw.githubusercontent.com/italha-d/Stress-Predict-Dataset/main/Raw_data/S14/ACC.csv',skiprows=[0,1],names=['ACC_x','ACC_y','ACC_z'])\n",
    "ACC15 = pd.read_csv('https://raw.githubusercontent.com/italha-d/Stress-Predict-Dataset/main/Raw_data/S15/ACC.csv',skiprows=[0,1],names=['ACC_x','ACC_y','ACC_z'])\n",
    "ACC16 = pd.read_csv('https://raw.githubusercontent.com/italha-d/Stress-Predict-Dataset/main/Raw_data/S16/ACC.csv',skiprows=[0,1],names=['ACC_x','ACC_y','ACC_z'])\n",
    "ACC17 = pd.read_csv('https://raw.githubusercontent.com/italha-d/Stress-Predict-Dataset/main/Raw_data/S17/ACC.csv',skiprows=[0,1],names=['ACC_x','ACC_y','ACC_z'])\n",
    "ACC18 = pd.read_csv('https://raw.githubusercontent.com/italha-d/Stress-Predict-Dataset/main/Raw_data/S18/ACC.csv',skiprows=[0,1],names=['ACC_x','ACC_y','ACC_z'])\n",
    "ACC19 = pd.read_csv('https://raw.githubusercontent.com/italha-d/Stress-Predict-Dataset/main/Raw_data/S19/ACC.csv',skiprows=[0,1],names=['ACC_x','ACC_y','ACC_z'])\n",
    "ACC20 = pd.read_csv('https://raw.githubusercontent.com/italha-d/Stress-Predict-Dataset/main/Raw_data/S20/ACC.csv',skiprows=[0,1],names=['ACC_x','ACC_y','ACC_z'])\n",
    "ACC21 = pd.read_csv('https://raw.githubusercontent.com/italha-d/Stress-Predict-Dataset/main/Raw_data/S21/ACC.csv',skiprows=[0,1],names=['ACC_x','ACC_y','ACC_z'])\n",
    "ACC22 = pd.read_csv('https://raw.githubusercontent.com/italha-d/Stress-Predict-Dataset/main/Raw_data/S22/ACC.csv',skiprows=[0,1],names=['ACC_x','ACC_y','ACC_z'])\n",
    "ACC23 = pd.read_csv('https://raw.githubusercontent.com/italha-d/Stress-Predict-Dataset/main/Raw_data/S23/ACC.csv',skiprows=[0,1],names=['ACC_x','ACC_y','ACC_z'])\n",
    "ACC24 = pd.read_csv('https://raw.githubusercontent.com/italha-d/Stress-Predict-Dataset/main/Raw_data/S24/ACC.csv',skiprows=[0,1],names=['ACC_x','ACC_y','ACC_z'])\n",
    "ACC25 = pd.read_csv('https://raw.githubusercontent.com/italha-d/Stress-Predict-Dataset/main/Raw_data/S25/ACC.csv',skiprows=[0,1],names=['ACC_x','ACC_y','ACC_z'])\n",
    "ACC26 = pd.read_csv('https://raw.githubusercontent.com/italha-d/Stress-Predict-Dataset/main/Raw_data/S26/ACC.csv',skiprows=[0,1],names=['ACC_x','ACC_y','ACC_z'])\n",
    "ACC27 = pd.read_csv('https://raw.githubusercontent.com/italha-d/Stress-Predict-Dataset/main/Raw_data/S27/ACC.csv',skiprows=[0,1],names=['ACC_x','ACC_y','ACC_z'])\n",
    "ACC28 = pd.read_csv('https://raw.githubusercontent.com/italha-d/Stress-Predict-Dataset/main/Raw_data/S28/ACC.csv',skiprows=[0,1],names=['ACC_x','ACC_y','ACC_z'])\n",
    "ACC29 = pd.read_csv('https://raw.githubusercontent.com/italha-d/Stress-Predict-Dataset/main/Raw_data/S29/ACC.csv',skiprows=[0,1],names=['ACC_x','ACC_y','ACC_z'])\n",
    "ACC30 = pd.read_csv('https://raw.githubusercontent.com/italha-d/Stress-Predict-Dataset/main/Raw_data/S30/ACC.csv',skiprows=[0,1],names=['ACC_x','ACC_y','ACC_z'])\n",
    "ACC31 = pd.read_csv('https://raw.githubusercontent.com/italha-d/Stress-Predict-Dataset/main/Raw_data/S31/ACC.csv',skiprows=[0,1],names=['ACC_x','ACC_y','ACC_z'])\n",
    "ACC32 = pd.read_csv('https://raw.githubusercontent.com/italha-d/Stress-Predict-Dataset/main/Raw_data/S32/ACC.csv',skiprows=[0,1],names=['ACC_x','ACC_y','ACC_z'])\n",
    "ACC33 = pd.read_csv('https://raw.githubusercontent.com/italha-d/Stress-Predict-Dataset/main/Raw_data/S33/ACC.csv',skiprows=[0,1],names=['ACC_x','ACC_y','ACC_z'])\n",
    "ACC34 = pd.read_csv('https://raw.githubusercontent.com/italha-d/Stress-Predict-Dataset/main/Raw_data/S34/ACC.csv',skiprows=[0,1],names=['ACC_x','ACC_y','ACC_z'])\n",
    "ACC35 = pd.read_csv('https://raw.githubusercontent.com/italha-d/Stress-Predict-Dataset/main/Raw_data/S35/ACC.csv',skiprows=[0,1],names=['ACC_x','ACC_y','ACC_z'])"
   ]
  },
  {
   "cell_type": "code",
   "execution_count": 72,
   "id": "ba4495b4",
   "metadata": {},
   "outputs": [],
   "source": [
    "#Create time column for each participants\n",
    "start_values = [1644852028, 1645434908, 1645442647, 1645444063, 1645446989, 1645449146, 1645456369, 1645457685, 1646039930, 1646041789, 1646048637, 1646050723, 1646052269, 1646059181, 1646061149, 1646062904, 1646646345, 1646655386, 1646656769, 1646657973, 1646665728, 1646667379, 1646828080, 1646836594, 1646838724]\n",
    "dataframes = [ACC11, ACC12, ACC13, ACC14, ACC15, ACC16, ACC17, ACC18, ACC19, ACC20, ACC21, ACC22, ACC23, ACC24, ACC25, ACC26, ACC27, ACC28, ACC29, ACC30, ACC31, ACC32, ACC33, ACC34, ACC35]\n",
    "\n",
    "for i, df in enumerate(dataframes):\n",
    "    start_value = start_values[i]\n",
    "    df['Time'] = [start_value + j*32 for j in range(len(df))]"
   ]
  },
  {
   "cell_type": "code",
   "execution_count": 73,
   "id": "7484fd39",
   "metadata": {},
   "outputs": [],
   "source": [
    "#Create ID for each participant\n",
    "# List of dataframes\n",
    "dataframes = [ACC11, ACC12, ACC13, ACC14, ACC15, ACC16, ACC17, ACC18, ACC19, ACC20, ACC21, ACC22, ACC23, ACC24, ACC25, ACC26, ACC27, ACC28, ACC29, ACC30, ACC31, ACC32, ACC33, ACC34, ACC35]\n",
    "\n",
    "# Iterate through each dataframe and assign a unique ID\n",
    "for i, df in enumerate(dataframes):\n",
    "    df['ID'] = 'S' + str(i+11).zfill(2)"
   ]
  },
  {
   "cell_type": "code",
   "execution_count": 74,
   "id": "71074ecb",
   "metadata": {},
   "outputs": [],
   "source": [
    "#Concatenate all IBI datasets\n",
    "concat_ACC = [ACC11, ACC12, ACC13, ACC14, ACC15, ACC16, ACC17, ACC18, ACC19, ACC20, ACC21, ACC22, ACC23, ACC24, ACC25, ACC26, ACC27, ACC28, ACC29, ACC30, ACC31, ACC32, ACC33, ACC34, ACC35]\n",
    "ACC = pd.concat(concat_ACC, axis=0)"
   ]
  },
  {
   "cell_type": "code",
   "execution_count": 79,
   "id": "3e178493",
   "metadata": {},
   "outputs": [],
   "source": [
    "#Calculate magnitude of ACC\n",
    "ACC['ACC'] = np.sqrt(((ACC['ACC_x']**2) + (ACC['ACC_y']**2) + (ACC['ACC_z']**2))/3)"
   ]
  },
  {
   "cell_type": "code",
   "execution_count": 81,
   "id": "3904a78f",
   "metadata": {},
   "outputs": [],
   "source": [
    "#Drop columns\n",
    "ACC = ACC.drop(columns=['ACC_x','ACC_y', 'ACC_z'])"
   ]
  },
  {
   "cell_type": "code",
   "execution_count": 83,
   "id": "e4dece4a",
   "metadata": {},
   "outputs": [],
   "source": [
    "#Convert Time column to date-time format\n",
    "ACC['Time'] = pd.to_datetime(ACC['Time'], unit='s')"
   ]
  },
  {
   "cell_type": "code",
   "execution_count": 84,
   "id": "2730677d",
   "metadata": {},
   "outputs": [],
   "source": [
    "data = pd.merge(data, ACC, on=['Time', 'ID'], how='outer')"
   ]
  },
  {
   "cell_type": "code",
   "execution_count": 89,
   "id": "3fc8a09c",
   "metadata": {},
   "outputs": [],
   "source": [
    "data = fill_with_mean_of_immediate_boundary_rows(data, 'ACC')"
   ]
  },
  {
   "cell_type": "code",
   "execution_count": 269,
   "id": "77535605",
   "metadata": {},
   "outputs": [
    {
     "data": {
      "text/html": [
       "<div>\n",
       "<style scoped>\n",
       "    .dataframe tbody tr th:only-of-type {\n",
       "        vertical-align: middle;\n",
       "    }\n",
       "\n",
       "    .dataframe tbody tr th {\n",
       "        vertical-align: top;\n",
       "    }\n",
       "\n",
       "    .dataframe thead th {\n",
       "        text-align: right;\n",
       "    }\n",
       "</style>\n",
       "<table border=\"1\" class=\"dataframe\">\n",
       "  <thead>\n",
       "    <tr style=\"text-align: right;\">\n",
       "      <th></th>\n",
       "      <th>HR</th>\n",
       "      <th>Time</th>\n",
       "      <th>ID</th>\n",
       "      <th>BVP</th>\n",
       "      <th>TEMP</th>\n",
       "      <th>EDA</th>\n",
       "      <th>IBI</th>\n",
       "      <th>ACC</th>\n",
       "    </tr>\n",
       "  </thead>\n",
       "  <tbody>\n",
       "    <tr>\n",
       "      <th>0</th>\n",
       "      <td>56.00</td>\n",
       "      <td>2022-02-14 15:20:28</td>\n",
       "      <td>S11</td>\n",
       "      <td>-0.0</td>\n",
       "      <td>27.25</td>\n",
       "      <td>0.000000</td>\n",
       "      <td>11.876665</td>\n",
       "      <td>36.706039</td>\n",
       "    </tr>\n",
       "    <tr>\n",
       "      <th>1</th>\n",
       "      <td>55.67</td>\n",
       "      <td>2022-02-14 15:20:29</td>\n",
       "      <td>S11</td>\n",
       "      <td>-0.0</td>\n",
       "      <td>27.25</td>\n",
       "      <td>0.060219</td>\n",
       "      <td>12.516405</td>\n",
       "      <td>36.762709</td>\n",
       "    </tr>\n",
       "    <tr>\n",
       "      <th>2</th>\n",
       "      <td>55.75</td>\n",
       "      <td>2022-02-14 15:20:30</td>\n",
       "      <td>S11</td>\n",
       "      <td>-0.0</td>\n",
       "      <td>27.25</td>\n",
       "      <td>0.060219</td>\n",
       "      <td>13.156231</td>\n",
       "      <td>36.762709</td>\n",
       "    </tr>\n",
       "    <tr>\n",
       "      <th>3</th>\n",
       "      <td>57.40</td>\n",
       "      <td>2022-02-14 15:20:31</td>\n",
       "      <td>S11</td>\n",
       "      <td>-0.0</td>\n",
       "      <td>27.25</td>\n",
       "      <td>0.060219</td>\n",
       "      <td>13.747203</td>\n",
       "      <td>36.762709</td>\n",
       "    </tr>\n",
       "    <tr>\n",
       "      <th>4</th>\n",
       "      <td>57.00</td>\n",
       "      <td>2022-02-14 15:20:32</td>\n",
       "      <td>S11</td>\n",
       "      <td>-0.0</td>\n",
       "      <td>27.25</td>\n",
       "      <td>0.120438</td>\n",
       "      <td>25.133982</td>\n",
       "      <td>36.762709</td>\n",
       "    </tr>\n",
       "  </tbody>\n",
       "</table>\n",
       "</div>"
      ],
      "text/plain": [
       "      HR                Time   ID  BVP   TEMP       EDA        IBI        ACC\n",
       "0  56.00 2022-02-14 15:20:28  S11 -0.0  27.25  0.000000  11.876665  36.706039\n",
       "1  55.67 2022-02-14 15:20:29  S11 -0.0  27.25  0.060219  12.516405  36.762709\n",
       "2  55.75 2022-02-14 15:20:30  S11 -0.0  27.25  0.060219  13.156231  36.762709\n",
       "3  57.40 2022-02-14 15:20:31  S11 -0.0  27.25  0.060219  13.747203  36.762709\n",
       "4  57.00 2022-02-14 15:20:32  S11 -0.0  27.25  0.120438  25.133982  36.762709"
      ]
     },
     "execution_count": 269,
     "metadata": {},
     "output_type": "execute_result"
    }
   ],
   "source": [
    "data.head()"
   ]
  },
  {
   "cell_type": "markdown",
   "id": "60672ef6",
   "metadata": {},
   "source": [
    "# Tags Data"
   ]
  },
  {
   "cell_type": "code",
   "execution_count": 138,
   "id": "53532d7d",
   "metadata": {},
   "outputs": [],
   "source": [
    "#Download Tags Data\n",
    "tag11 = pd.read_csv('https://raw.githubusercontent.com/italha-d/Stress-Predict-Dataset/main/Raw_data/S11/tags_S11.csv',header=None,names=['tag'])\n",
    "tag12 = pd.read_csv('https://raw.githubusercontent.com/italha-d/Stress-Predict-Dataset/main/Raw_data/S12/tags_S12.csv',header=None,names=['tag'])\n",
    "tag13 = pd.read_csv('https://raw.githubusercontent.com/italha-d/Stress-Predict-Dataset/main/Raw_data/S13/tags_S13.csv',header=None,names=['tag'])\n",
    "tag14 = pd.read_csv('https://raw.githubusercontent.com/italha-d/Stress-Predict-Dataset/main/Raw_data/S14/tags_S14.csv',header=None,names=['tag'])\n",
    "tag15 = pd.read_csv('https://raw.githubusercontent.com/italha-d/Stress-Predict-Dataset/main/Raw_data/S15/tags_S15.csv',header=None,names=['tag'])\n",
    "tag16 = pd.read_csv('https://raw.githubusercontent.com/italha-d/Stress-Predict-Dataset/main/Raw_data/S16/tags_S16.csv',header=None,names=['tag'])\n",
    "tag17 = pd.read_csv('https://raw.githubusercontent.com/italha-d/Stress-Predict-Dataset/main/Raw_data/S17/tags_S17.csv',header=None,names=['tag'])\n",
    "tag18 = pd.read_csv('https://raw.githubusercontent.com/italha-d/Stress-Predict-Dataset/main/Raw_data/S18/tags_S18.csv',header=None,names=['tag'])\n",
    "tag19 = pd.read_csv('https://raw.githubusercontent.com/italha-d/Stress-Predict-Dataset/main/Raw_data/S19/tags_S19.csv',header=None,names=['tag'])\n",
    "tag20 = pd.read_csv('https://raw.githubusercontent.com/italha-d/Stress-Predict-Dataset/main/Raw_data/S20/tags_S20.csv',header=None,names=['tag'])\n",
    "tag21 = pd.read_csv('https://raw.githubusercontent.com/italha-d/Stress-Predict-Dataset/main/Raw_data/S21/tags_S21.csv',header=None,names=['tag'])\n",
    "tag22 = pd.read_csv('https://raw.githubusercontent.com/italha-d/Stress-Predict-Dataset/main/Raw_data/S22/tags_S22.csv',header=None,names=['tag'])\n",
    "tag23 = pd.read_csv('https://raw.githubusercontent.com/italha-d/Stress-Predict-Dataset/main/Raw_data/S23/tags_S23.csv',header=None,names=['tag'])\n",
    "tag24 = pd.read_csv('https://raw.githubusercontent.com/italha-d/Stress-Predict-Dataset/main/Raw_data/S24/tags_S24.csv',header=None,names=['tag'])\n",
    "tag25 = pd.read_csv('https://raw.githubusercontent.com/italha-d/Stress-Predict-Dataset/main/Raw_data/S25/tags_S25.csv',header=None,names=['tag'])\n",
    "tag26 = pd.read_csv('https://raw.githubusercontent.com/italha-d/Stress-Predict-Dataset/main/Raw_data/S26/tags_S26.csv',header=None,names=['tag'])\n",
    "tag27 = pd.read_csv('https://raw.githubusercontent.com/italha-d/Stress-Predict-Dataset/main/Raw_data/S27/tags_S27.csv',header=None,names=['tag'])\n",
    "tag28 = pd.read_csv('https://raw.githubusercontent.com/italha-d/Stress-Predict-Dataset/main/Raw_data/S28/tags_S28.csv',header=None,names=['tag'])\n",
    "tag29 = pd.read_csv('https://raw.githubusercontent.com/italha-d/Stress-Predict-Dataset/main/Raw_data/S29/tags_S29.csv',header=None,names=['tag'])\n",
    "tag30 = pd.read_csv('https://raw.githubusercontent.com/italha-d/Stress-Predict-Dataset/main/Raw_data/S30/tags_S30.csv',header=None,names=['tag'])\n",
    "tag31 = pd.read_csv('https://raw.githubusercontent.com/italha-d/Stress-Predict-Dataset/main/Raw_data/S31/tags_S31.csv',header=None,names=['tag'])\n",
    "tag32 = pd.read_csv('https://raw.githubusercontent.com/italha-d/Stress-Predict-Dataset/main/Raw_data/S32/tags_S32.csv',header=None,names=['tag'])\n",
    "tag33 = pd.read_csv('https://raw.githubusercontent.com/italha-d/Stress-Predict-Dataset/main/Raw_data/S33/tags_S33.csv',header=None,names=['tag'])\n",
    "tag34 = pd.read_csv('https://raw.githubusercontent.com/italha-d/Stress-Predict-Dataset/main/Raw_data/S34/tags_S34.csv',header=None,names=['tag'])\n",
    "tag35 = pd.read_csv('https://raw.githubusercontent.com/italha-d/Stress-Predict-Dataset/main/Raw_data/S35/tags_S35.csv',header=None,names=['tag'])"
   ]
  },
  {
   "cell_type": "code",
   "execution_count": 139,
   "id": "17fa91c5",
   "metadata": {},
   "outputs": [],
   "source": [
    "#Create ID for each participant\n",
    "# List of dataframes\n",
    "dataframes = [tag11, tag12, tag13, tag14, tag15, tag16, tag17, tag18, tag19, tag20, tag21, tag22, tag23, tag24, tag25, tag26, tag27, tag28, tag29, tag30, tag31, tag32, tag33, tag34, tag35]\n",
    "\n",
    "# Iterate through each dataframe and assign a unique ID\n",
    "for i, df in enumerate(dataframes):\n",
    "    df['ID'] = 'S' + str(i+11).zfill(2)"
   ]
  },
  {
   "cell_type": "code",
   "execution_count": 140,
   "id": "1d6a0b0a",
   "metadata": {},
   "outputs": [],
   "source": [
    "#Convert Time column to date-time format for each dataframe\n",
    "dataframes = [tag11, tag12, tag13, tag14, tag15, tag16, tag17, tag18, tag19, tag20, tag21, tag22, tag23, tag24, tag25, tag26, tag27, tag28, tag29, tag30, tag31, tag32, tag33, tag34, tag35]\n",
    "\n",
    "for i, df in enumerate(dataframes):\n",
    "    df['tag'] = pd.to_datetime(df['tag'], unit='s')"
   ]
  },
  {
   "cell_type": "markdown",
   "id": "6a023891",
   "metadata": {},
   "source": [
    "The time data in each dataset is missing the end time of the last stress period is missing. I will add row based on the precessed data from original source."
   ]
  },
  {
   "cell_type": "code",
   "execution_count": 150,
   "id": "5297f772",
   "metadata": {},
   "outputs": [
    {
     "name": "stderr",
     "output_type": "stream",
     "text": [
      "/var/folders/t6/l2wwgc754y9_xqgy__gwmrj40000gn/T/ipykernel_1327/2093102644.py:2: FutureWarning: The frame.append method is deprecated and will be removed from pandas in a future version. Use pandas.concat instead.\n",
      "  tag11 = tag11.append(new_row, ignore_index=True)\n"
     ]
    }
   ],
   "source": [
    "new_row = {'tag': '2022-02-14 16:10:00', 'ID': 'S11'}\n",
    "tag11 = tag11.append(new_row, ignore_index=True)"
   ]
  },
  {
   "cell_type": "code",
   "execution_count": 148,
   "id": "63472733",
   "metadata": {},
   "outputs": [
    {
     "name": "stderr",
     "output_type": "stream",
     "text": [
      "/var/folders/t6/l2wwgc754y9_xqgy__gwmrj40000gn/T/ipykernel_1327/3037295354.py:2: FutureWarning: The frame.append method is deprecated and will be removed from pandas in a future version. Use pandas.concat instead.\n",
      "  tag12 = tag12.append(new_row, ignore_index=True)\n"
     ]
    }
   ],
   "source": [
    "new_row = {'tag': '2022-02-21 10:05:00', 'ID': 'S12'}\n",
    "tag12 = tag12.append(new_row, ignore_index=True)"
   ]
  },
  {
   "cell_type": "code",
   "execution_count": 154,
   "id": "a38b0c14",
   "metadata": {},
   "outputs": [
    {
     "name": "stderr",
     "output_type": "stream",
     "text": [
      "/var/folders/t6/l2wwgc754y9_xqgy__gwmrj40000gn/T/ipykernel_1327/2990189146.py:2: FutureWarning: The frame.append method is deprecated and will be removed from pandas in a future version. Use pandas.concat instead.\n",
      "  tag13 = tag13.append(new_row, ignore_index=True)\n"
     ]
    }
   ],
   "source": [
    "new_row = {'tag': '2022-02-21 12:14:00', 'ID': 'S13'}\n",
    "tag13 = tag13.append(new_row, ignore_index=True)"
   ]
  },
  {
   "cell_type": "code",
   "execution_count": 157,
   "id": "bcb7dc87",
   "metadata": {},
   "outputs": [
    {
     "name": "stderr",
     "output_type": "stream",
     "text": [
      "/var/folders/t6/l2wwgc754y9_xqgy__gwmrj40000gn/T/ipykernel_1327/3192944193.py:2: FutureWarning: The frame.append method is deprecated and will be removed from pandas in a future version. Use pandas.concat instead.\n",
      "  tag14 = tag14.append(new_row, ignore_index=True)\n"
     ]
    }
   ],
   "source": [
    "new_row = {'tag': '2022-02-21 12:42:00', 'ID': 'S14'}\n",
    "tag14 = tag14.append(new_row, ignore_index=True)"
   ]
  },
  {
   "cell_type": "code",
   "execution_count": 160,
   "id": "8632fc99",
   "metadata": {},
   "outputs": [
    {
     "name": "stderr",
     "output_type": "stream",
     "text": [
      "/var/folders/t6/l2wwgc754y9_xqgy__gwmrj40000gn/T/ipykernel_1327/1529415112.py:2: FutureWarning: The frame.append method is deprecated and will be removed from pandas in a future version. Use pandas.concat instead.\n",
      "  tag15 = tag15.append(new_row, ignore_index=True)\n"
     ]
    }
   ],
   "source": [
    "new_row = {'tag': '2022-02-21 13:29:00', 'ID': 'S15'}\n",
    "tag15 = tag15.append(new_row, ignore_index=True)"
   ]
  },
  {
   "cell_type": "code",
   "execution_count": 163,
   "id": "d9c2f540",
   "metadata": {},
   "outputs": [
    {
     "name": "stderr",
     "output_type": "stream",
     "text": [
      "/var/folders/t6/l2wwgc754y9_xqgy__gwmrj40000gn/T/ipykernel_1327/4281425579.py:2: FutureWarning: The frame.append method is deprecated and will be removed from pandas in a future version. Use pandas.concat instead.\n",
      "  tag16 = tag16.append(new_row, ignore_index=True)\n"
     ]
    }
   ],
   "source": [
    "new_row = {'tag': '2022-02-21 14:06:00', 'ID': 'S16'}\n",
    "tag16 = tag16.append(new_row, ignore_index=True)"
   ]
  },
  {
   "cell_type": "code",
   "execution_count": 173,
   "id": "667d4158",
   "metadata": {},
   "outputs": [
    {
     "name": "stderr",
     "output_type": "stream",
     "text": [
      "/var/folders/t6/l2wwgc754y9_xqgy__gwmrj40000gn/T/ipykernel_1327/1913440316.py:2: FutureWarning: The frame.append method is deprecated and will be removed from pandas in a future version. Use pandas.concat instead.\n",
      "  tag17 = tag17.append(new_row, ignore_index=True)\n"
     ]
    }
   ],
   "source": [
    "new_row = {'tag': '2022-02-21 16:03:00', 'ID': 'S17'}\n",
    "tag17 = tag17.append(new_row, ignore_index=True)"
   ]
  },
  {
   "cell_type": "code",
   "execution_count": null,
   "id": "52162e1b",
   "metadata": {},
   "outputs": [],
   "source": [
    "new_value = '2022-02-21 15:46:04'\n",
    "tag17.at[3, 'tag'] = new_value"
   ]
  },
  {
   "cell_type": "code",
   "execution_count": 177,
   "id": "48c8bc52",
   "metadata": {},
   "outputs": [],
   "source": [
    "new_value = '2022-02-21 15:59:04'\n",
    "tag17.at[6, 'tag'] = new_value"
   ]
  },
  {
   "cell_type": "code",
   "execution_count": 180,
   "id": "8a63fb3d",
   "metadata": {},
   "outputs": [
    {
     "name": "stderr",
     "output_type": "stream",
     "text": [
      "/var/folders/t6/l2wwgc754y9_xqgy__gwmrj40000gn/T/ipykernel_1327/3976861013.py:2: FutureWarning: The frame.append method is deprecated and will be removed from pandas in a future version. Use pandas.concat instead.\n",
      "  tag18 = tag18.append(new_row, ignore_index=True)\n"
     ]
    }
   ],
   "source": [
    "new_row = {'tag': '2022-02-21 16:26:00', 'ID': 'S18'}\n",
    "tag18 = tag18.append(new_row, ignore_index=True)"
   ]
  },
  {
   "cell_type": "code",
   "execution_count": 183,
   "id": "d70b20a2",
   "metadata": {},
   "outputs": [
    {
     "name": "stderr",
     "output_type": "stream",
     "text": [
      "/var/folders/t6/l2wwgc754y9_xqgy__gwmrj40000gn/T/ipykernel_1327/321479393.py:2: FutureWarning: The frame.append method is deprecated and will be removed from pandas in a future version. Use pandas.concat instead.\n",
      "  tag19 = tag19.append(new_row, ignore_index=True)\n"
     ]
    }
   ],
   "source": [
    "new_row = {'tag': '2022-02-28 10:07:00', 'ID': 'S19'}\n",
    "tag19 = tag19.append(new_row, ignore_index=True)"
   ]
  },
  {
   "cell_type": "code",
   "execution_count": 186,
   "id": "b6ddc992",
   "metadata": {},
   "outputs": [
    {
     "name": "stderr",
     "output_type": "stream",
     "text": [
      "/var/folders/t6/l2wwgc754y9_xqgy__gwmrj40000gn/T/ipykernel_1327/3700002030.py:2: FutureWarning: The frame.append method is deprecated and will be removed from pandas in a future version. Use pandas.concat instead.\n",
      "  tag20 = tag20.append(new_row, ignore_index=True)\n"
     ]
    }
   ],
   "source": [
    "new_row = {'tag': '2022-02-28 10:39:00', 'ID': 'S20'}\n",
    "tag20 = tag20.append(new_row, ignore_index=True)"
   ]
  },
  {
   "cell_type": "code",
   "execution_count": 191,
   "id": "016b7376",
   "metadata": {},
   "outputs": [
    {
     "name": "stderr",
     "output_type": "stream",
     "text": [
      "/var/folders/t6/l2wwgc754y9_xqgy__gwmrj40000gn/T/ipykernel_1327/369380452.py:2: FutureWarning: The frame.append method is deprecated and will be removed from pandas in a future version. Use pandas.concat instead.\n",
      "  tag21 = tag21.append(new_row, ignore_index=True)\n"
     ]
    }
   ],
   "source": [
    "new_row = {'tag': '2022-02-28 12:34:00', 'ID': 'S21'}\n",
    "tag21 = tag21.append(new_row, ignore_index=True)"
   ]
  },
  {
   "cell_type": "code",
   "execution_count": 194,
   "id": "43562b69",
   "metadata": {},
   "outputs": [
    {
     "name": "stderr",
     "output_type": "stream",
     "text": [
      "/var/folders/t6/l2wwgc754y9_xqgy__gwmrj40000gn/T/ipykernel_1327/531027374.py:2: FutureWarning: The frame.append method is deprecated and will be removed from pandas in a future version. Use pandas.concat instead.\n",
      "  tag22 = tag22.append(new_row, ignore_index=True)\n"
     ]
    }
   ],
   "source": [
    "new_row = {'tag': '2022-02-28 13:06:00', 'ID': 'S22'}\n",
    "tag22 = tag22.append(new_row, ignore_index=True)"
   ]
  },
  {
   "cell_type": "code",
   "execution_count": 196,
   "id": "d282117a",
   "metadata": {},
   "outputs": [
    {
     "name": "stderr",
     "output_type": "stream",
     "text": [
      "/var/folders/t6/l2wwgc754y9_xqgy__gwmrj40000gn/T/ipykernel_1327/1863304037.py:2: FutureWarning: The frame.append method is deprecated and will be removed from pandas in a future version. Use pandas.concat instead.\n",
      "  tag23 = tag23.append(new_row, ignore_index=True)\n"
     ]
    }
   ],
   "source": [
    "new_row = {'tag': '2022-02-28 13:31:00', 'ID': 'S23'}\n",
    "tag23 = tag23.append(new_row, ignore_index=True)"
   ]
  },
  {
   "cell_type": "code",
   "execution_count": 199,
   "id": "c031672a",
   "metadata": {},
   "outputs": [
    {
     "name": "stderr",
     "output_type": "stream",
     "text": [
      "/var/folders/t6/l2wwgc754y9_xqgy__gwmrj40000gn/T/ipykernel_1327/456722650.py:2: FutureWarning: The frame.append method is deprecated and will be removed from pandas in a future version. Use pandas.concat instead.\n",
      "  tag24 = tag24.append(new_row, ignore_index=True)\n"
     ]
    }
   ],
   "source": [
    "new_row = {'tag': '2022-02-28 15:30:00', 'ID': 'S24'}\n",
    "tag24 = tag24.append(new_row, ignore_index=True)"
   ]
  },
  {
   "cell_type": "code",
   "execution_count": 202,
   "id": "ca000dbd",
   "metadata": {},
   "outputs": [
    {
     "name": "stderr",
     "output_type": "stream",
     "text": [
      "/var/folders/t6/l2wwgc754y9_xqgy__gwmrj40000gn/T/ipykernel_1327/1650629197.py:2: FutureWarning: The frame.append method is deprecated and will be removed from pandas in a future version. Use pandas.concat instead.\n",
      "  tag25 = tag25.append(new_row, ignore_index=True)\n"
     ]
    }
   ],
   "source": [
    "new_row = {'tag': '2022-02-28 16:02:00', 'ID': 'S25'}\n",
    "tag25 = tag25.append(new_row, ignore_index=True)"
   ]
  },
  {
   "cell_type": "code",
   "execution_count": 205,
   "id": "554d3df0",
   "metadata": {},
   "outputs": [
    {
     "name": "stderr",
     "output_type": "stream",
     "text": [
      "/var/folders/t6/l2wwgc754y9_xqgy__gwmrj40000gn/T/ipykernel_1327/2549686517.py:2: FutureWarning: The frame.append method is deprecated and will be removed from pandas in a future version. Use pandas.concat instead.\n",
      "  tag26 = tag26.append(new_row, ignore_index=True)\n"
     ]
    }
   ],
   "source": [
    "new_row = {'tag': '2022-02-28 16:28:00', 'ID': 'S26'}\n",
    "tag26 = tag26.append(new_row, ignore_index=True)"
   ]
  },
  {
   "cell_type": "code",
   "execution_count": 208,
   "id": "713e28a6",
   "metadata": {},
   "outputs": [
    {
     "name": "stderr",
     "output_type": "stream",
     "text": [
      "/var/folders/t6/l2wwgc754y9_xqgy__gwmrj40000gn/T/ipykernel_1327/2672557277.py:2: FutureWarning: The frame.append method is deprecated and will be removed from pandas in a future version. Use pandas.concat instead.\n",
      "  tag27 = tag27.append(new_row, ignore_index=True)\n"
     ]
    }
   ],
   "source": [
    "new_row = {'tag': '2022-03-07 10:37:00', 'ID': 'S27'}\n",
    "tag27 = tag27.append(new_row, ignore_index=True)"
   ]
  },
  {
   "cell_type": "code",
   "execution_count": 211,
   "id": "e464cd3f",
   "metadata": {},
   "outputs": [
    {
     "name": "stderr",
     "output_type": "stream",
     "text": [
      "/var/folders/t6/l2wwgc754y9_xqgy__gwmrj40000gn/T/ipykernel_1327/2678225288.py:2: FutureWarning: The frame.append method is deprecated and will be removed from pandas in a future version. Use pandas.concat instead.\n",
      "  tag28 = tag28.append(new_row, ignore_index=True)\n"
     ]
    }
   ],
   "source": [
    "new_row = {'tag': '2022-03-07 13:08:00', 'ID': 'S28'}\n",
    "tag28 = tag28.append(new_row, ignore_index=True)"
   ]
  },
  {
   "cell_type": "code",
   "execution_count": 214,
   "id": "f47fcfe8",
   "metadata": {},
   "outputs": [
    {
     "name": "stderr",
     "output_type": "stream",
     "text": [
      "/var/folders/t6/l2wwgc754y9_xqgy__gwmrj40000gn/T/ipykernel_1327/3169724611.py:2: FutureWarning: The frame.append method is deprecated and will be removed from pandas in a future version. Use pandas.concat instead.\n",
      "  tag29 = tag29.append(new_row, ignore_index=True)\n"
     ]
    }
   ],
   "source": [
    "new_row = {'tag': '2022-03-07 13:29:00', 'ID': 'S29'}\n",
    "tag29 = tag29.append(new_row, ignore_index=True)"
   ]
  },
  {
   "cell_type": "code",
   "execution_count": 217,
   "id": "3778a9ce",
   "metadata": {},
   "outputs": [
    {
     "name": "stderr",
     "output_type": "stream",
     "text": [
      "/var/folders/t6/l2wwgc754y9_xqgy__gwmrj40000gn/T/ipykernel_1327/758467289.py:2: FutureWarning: The frame.append method is deprecated and will be removed from pandas in a future version. Use pandas.concat instead.\n",
      "  tag30 = tag30.append(new_row, ignore_index=True)\n"
     ]
    }
   ],
   "source": [
    "new_row = {'tag': '2022-03-07 13:50:00', 'ID': 'S30'}\n",
    "tag30 = tag30.append(new_row, ignore_index=True)"
   ]
  },
  {
   "cell_type": "code",
   "execution_count": 221,
   "id": "e3e3618a",
   "metadata": {},
   "outputs": [],
   "source": [
    "new_value = '2022-03-07 13:11:04'\n",
    "tag30.at[0, 'tag'] = new_value"
   ]
  },
  {
   "cell_type": "code",
   "execution_count": 231,
   "id": "e3c78968",
   "metadata": {},
   "outputs": [
    {
     "name": "stderr",
     "output_type": "stream",
     "text": [
      "/var/folders/t6/l2wwgc754y9_xqgy__gwmrj40000gn/T/ipykernel_1327/3691226418.py:2: FutureWarning: The frame.append method is deprecated and will be removed from pandas in a future version. Use pandas.concat instead.\n",
      "  tag31 = tag31.append(new_row, ignore_index=True)\n"
     ]
    }
   ],
   "source": [
    "new_row = {'tag': '2022-03-07 15:57:00', 'ID': 'S31'}\n",
    "tag31 = tag31.append(new_row, ignore_index=True)"
   ]
  },
  {
   "cell_type": "code",
   "execution_count": 234,
   "id": "a08c1a77",
   "metadata": {},
   "outputs": [
    {
     "name": "stderr",
     "output_type": "stream",
     "text": [
      "/var/folders/t6/l2wwgc754y9_xqgy__gwmrj40000gn/T/ipykernel_1327/947163432.py:2: FutureWarning: The frame.append method is deprecated and will be removed from pandas in a future version. Use pandas.concat instead.\n",
      "  tag32 = tag32.append(new_row, ignore_index=True)\n"
     ]
    }
   ],
   "source": [
    "new_row = {'tag': '2022-03-07 16:24:00', 'ID': 'S32'}\n",
    "tag32 = tag32.append(new_row, ignore_index=True)"
   ]
  },
  {
   "cell_type": "code",
   "execution_count": 236,
   "id": "1696469e",
   "metadata": {},
   "outputs": [
    {
     "name": "stderr",
     "output_type": "stream",
     "text": [
      "/var/folders/t6/l2wwgc754y9_xqgy__gwmrj40000gn/T/ipykernel_1327/2647534913.py:2: FutureWarning: The frame.append method is deprecated and will be removed from pandas in a future version. Use pandas.concat instead.\n",
      "  tag33 = tag33.append(new_row, ignore_index=True)\n"
     ]
    }
   ],
   "source": [
    "new_row = {'tag': '2022-03-09 13:05:00', 'ID': 'S33'}\n",
    "tag33 = tag33.append(new_row, ignore_index=True)"
   ]
  },
  {
   "cell_type": "code",
   "execution_count": 239,
   "id": "6bbc8e0c",
   "metadata": {},
   "outputs": [
    {
     "name": "stderr",
     "output_type": "stream",
     "text": [
      "/var/folders/t6/l2wwgc754y9_xqgy__gwmrj40000gn/T/ipykernel_1327/64535692.py:2: FutureWarning: The frame.append method is deprecated and will be removed from pandas in a future version. Use pandas.concat instead.\n",
      "  tag34 = tag34.append(new_row, ignore_index=True)\n"
     ]
    }
   ],
   "source": [
    "new_row = {'tag': '2022-03-09 15:30:00', 'ID': 'S34'}\n",
    "tag34 = tag34.append(new_row, ignore_index=True)"
   ]
  },
  {
   "cell_type": "code",
   "execution_count": 242,
   "id": "2777c05e",
   "metadata": {},
   "outputs": [
    {
     "name": "stderr",
     "output_type": "stream",
     "text": [
      "/var/folders/t6/l2wwgc754y9_xqgy__gwmrj40000gn/T/ipykernel_1327/1676065431.py:2: FutureWarning: The frame.append method is deprecated and will be removed from pandas in a future version. Use pandas.concat instead.\n",
      "  tag35 = tag35.append(new_row, ignore_index=True)\n"
     ]
    }
   ],
   "source": [
    "new_row = {'tag': '2022-03-09 16:01:00', 'ID': 'S35'}\n",
    "tag35 = tag35.append(new_row, ignore_index=True)"
   ]
  },
  {
   "cell_type": "code",
   "execution_count": 243,
   "id": "c0c3f19c",
   "metadata": {},
   "outputs": [
    {
     "data": {
      "text/html": [
       "<div>\n",
       "<style scoped>\n",
       "    .dataframe tbody tr th:only-of-type {\n",
       "        vertical-align: middle;\n",
       "    }\n",
       "\n",
       "    .dataframe tbody tr th {\n",
       "        vertical-align: top;\n",
       "    }\n",
       "\n",
       "    .dataframe thead th {\n",
       "        text-align: right;\n",
       "    }\n",
       "</style>\n",
       "<table border=\"1\" class=\"dataframe\">\n",
       "  <thead>\n",
       "    <tr style=\"text-align: right;\">\n",
       "      <th></th>\n",
       "      <th>tag</th>\n",
       "      <th>ID</th>\n",
       "    </tr>\n",
       "  </thead>\n",
       "  <tbody>\n",
       "    <tr>\n",
       "      <th>0</th>\n",
       "      <td>2022-03-09 15:21:44</td>\n",
       "      <td>S35</td>\n",
       "    </tr>\n",
       "    <tr>\n",
       "      <th>1</th>\n",
       "      <td>2022-03-09 15:29:09</td>\n",
       "      <td>S35</td>\n",
       "    </tr>\n",
       "    <tr>\n",
       "      <th>2</th>\n",
       "      <td>2022-03-09 15:33:47</td>\n",
       "      <td>S35</td>\n",
       "    </tr>\n",
       "    <tr>\n",
       "      <th>3</th>\n",
       "      <td>2022-03-09 15:43:40</td>\n",
       "      <td>S35</td>\n",
       "    </tr>\n",
       "    <tr>\n",
       "      <th>4</th>\n",
       "      <td>2022-03-09 15:48:55</td>\n",
       "      <td>S35</td>\n",
       "    </tr>\n",
       "    <tr>\n",
       "      <th>5</th>\n",
       "      <td>2022-03-09 15:50:40</td>\n",
       "      <td>S35</td>\n",
       "    </tr>\n",
       "    <tr>\n",
       "      <th>6</th>\n",
       "      <td>2022-03-09 15:56:52</td>\n",
       "      <td>S35</td>\n",
       "    </tr>\n",
       "    <tr>\n",
       "      <th>7</th>\n",
       "      <td>2022-03-09 16:01:00</td>\n",
       "      <td>S35</td>\n",
       "    </tr>\n",
       "  </tbody>\n",
       "</table>\n",
       "</div>"
      ],
      "text/plain": [
       "                   tag   ID\n",
       "0  2022-03-09 15:21:44  S35\n",
       "1  2022-03-09 15:29:09  S35\n",
       "2  2022-03-09 15:33:47  S35\n",
       "3  2022-03-09 15:43:40  S35\n",
       "4  2022-03-09 15:48:55  S35\n",
       "5  2022-03-09 15:50:40  S35\n",
       "6  2022-03-09 15:56:52  S35\n",
       "7  2022-03-09 16:01:00  S35"
      ]
     },
     "execution_count": 243,
     "metadata": {},
     "output_type": "execute_result"
    }
   ],
   "source": [
    "tag35"
   ]
  },
  {
   "cell_type": "code",
   "execution_count": 244,
   "id": "2a9dc360",
   "metadata": {},
   "outputs": [],
   "source": [
    "concat_tag = [tag11, tag12, tag13, tag14, tag15, tag16, tag17, tag18, tag19, tag20, tag21, tag22, tag23, tag24, tag25, tag26, tag27, tag28, tag29, tag30, tag31, tag32, tag33, tag34, tag35]\n",
    "TAG = pd.concat(concat_tag, axis=0)"
   ]
  },
  {
   "cell_type": "code",
   "execution_count": 245,
   "id": "ce87cd05",
   "metadata": {},
   "outputs": [
    {
     "data": {
      "text/html": [
       "<div>\n",
       "<style scoped>\n",
       "    .dataframe tbody tr th:only-of-type {\n",
       "        vertical-align: middle;\n",
       "    }\n",
       "\n",
       "    .dataframe tbody tr th {\n",
       "        vertical-align: top;\n",
       "    }\n",
       "\n",
       "    .dataframe thead th {\n",
       "        text-align: right;\n",
       "    }\n",
       "</style>\n",
       "<table border=\"1\" class=\"dataframe\">\n",
       "  <thead>\n",
       "    <tr style=\"text-align: right;\">\n",
       "      <th></th>\n",
       "      <th>tag</th>\n",
       "      <th>ID</th>\n",
       "    </tr>\n",
       "  </thead>\n",
       "  <tbody>\n",
       "    <tr>\n",
       "      <th>0</th>\n",
       "      <td>2022-02-14 15:31:01</td>\n",
       "      <td>S11</td>\n",
       "    </tr>\n",
       "    <tr>\n",
       "      <th>1</th>\n",
       "      <td>2022-02-14 15:37:47</td>\n",
       "      <td>S11</td>\n",
       "    </tr>\n",
       "    <tr>\n",
       "      <th>2</th>\n",
       "      <td>2022-02-14 15:42:33</td>\n",
       "      <td>S11</td>\n",
       "    </tr>\n",
       "    <tr>\n",
       "      <th>3</th>\n",
       "      <td>2022-02-14 15:52:58</td>\n",
       "      <td>S11</td>\n",
       "    </tr>\n",
       "    <tr>\n",
       "      <th>4</th>\n",
       "      <td>2022-02-14 15:58:13</td>\n",
       "      <td>S11</td>\n",
       "    </tr>\n",
       "    <tr>\n",
       "      <th>...</th>\n",
       "      <td>...</td>\n",
       "      <td>...</td>\n",
       "    </tr>\n",
       "    <tr>\n",
       "      <th>3</th>\n",
       "      <td>2022-03-09 15:43:40</td>\n",
       "      <td>S35</td>\n",
       "    </tr>\n",
       "    <tr>\n",
       "      <th>4</th>\n",
       "      <td>2022-03-09 15:48:55</td>\n",
       "      <td>S35</td>\n",
       "    </tr>\n",
       "    <tr>\n",
       "      <th>5</th>\n",
       "      <td>2022-03-09 15:50:40</td>\n",
       "      <td>S35</td>\n",
       "    </tr>\n",
       "    <tr>\n",
       "      <th>6</th>\n",
       "      <td>2022-03-09 15:56:52</td>\n",
       "      <td>S35</td>\n",
       "    </tr>\n",
       "    <tr>\n",
       "      <th>7</th>\n",
       "      <td>2022-03-09 16:01:00</td>\n",
       "      <td>S35</td>\n",
       "    </tr>\n",
       "  </tbody>\n",
       "</table>\n",
       "<p>200 rows × 2 columns</p>\n",
       "</div>"
      ],
      "text/plain": [
       "                    tag   ID\n",
       "0   2022-02-14 15:31:01  S11\n",
       "1   2022-02-14 15:37:47  S11\n",
       "2   2022-02-14 15:42:33  S11\n",
       "3   2022-02-14 15:52:58  S11\n",
       "4   2022-02-14 15:58:13  S11\n",
       "..                  ...  ...\n",
       "3   2022-03-09 15:43:40  S35\n",
       "4   2022-03-09 15:48:55  S35\n",
       "5   2022-03-09 15:50:40  S35\n",
       "6   2022-03-09 15:56:52  S35\n",
       "7   2022-03-09 16:01:00  S35\n",
       "\n",
       "[200 rows x 2 columns]"
      ]
     },
     "execution_count": 245,
     "metadata": {},
     "output_type": "execute_result"
    }
   ],
   "source": [
    "TAG"
   ]
  },
  {
   "cell_type": "code",
   "execution_count": 250,
   "id": "41783d91",
   "metadata": {},
   "outputs": [],
   "source": [
    "TAG.to_csv('TAG.csv')"
   ]
  },
  {
   "cell_type": "code",
   "execution_count": 251,
   "id": "b71548e9",
   "metadata": {},
   "outputs": [
    {
     "name": "stderr",
     "output_type": "stream",
     "text": [
      "/var/folders/t6/l2wwgc754y9_xqgy__gwmrj40000gn/T/ipykernel_1327/3560982382.py:1: FutureWarning: Inferring datetime64[ns] from data containing strings is deprecated and will be removed in a future version. To retain the old behavior explicitly pass Series(data, dtype=datetime64[ns])\n",
      "  grouped = TAG.groupby('ID')['tag'].agg(['min', 'max'])\n"
     ]
    }
   ],
   "source": [
    "grouped = TAG.groupby('ID')['tag'].agg(['min', 'max'])"
   ]
  },
  {
   "cell_type": "code",
   "execution_count": 252,
   "id": "80c95f43",
   "metadata": {},
   "outputs": [
    {
     "name": "stderr",
     "output_type": "stream",
     "text": [
      "/var/folders/t6/l2wwgc754y9_xqgy__gwmrj40000gn/T/ipykernel_1327/841447823.py:7: FutureWarning: The frame.append method is deprecated and will be removed from pandas in a future version. Use pandas.concat instead.\n",
      "  result = result.append(temp_df, ignore_index=True)\n",
      "/var/folders/t6/l2wwgc754y9_xqgy__gwmrj40000gn/T/ipykernel_1327/841447823.py:7: FutureWarning: The frame.append method is deprecated and will be removed from pandas in a future version. Use pandas.concat instead.\n",
      "  result = result.append(temp_df, ignore_index=True)\n",
      "/var/folders/t6/l2wwgc754y9_xqgy__gwmrj40000gn/T/ipykernel_1327/841447823.py:7: FutureWarning: The frame.append method is deprecated and will be removed from pandas in a future version. Use pandas.concat instead.\n",
      "  result = result.append(temp_df, ignore_index=True)\n",
      "/var/folders/t6/l2wwgc754y9_xqgy__gwmrj40000gn/T/ipykernel_1327/841447823.py:7: FutureWarning: The frame.append method is deprecated and will be removed from pandas in a future version. Use pandas.concat instead.\n",
      "  result = result.append(temp_df, ignore_index=True)\n",
      "/var/folders/t6/l2wwgc754y9_xqgy__gwmrj40000gn/T/ipykernel_1327/841447823.py:7: FutureWarning: The frame.append method is deprecated and will be removed from pandas in a future version. Use pandas.concat instead.\n",
      "  result = result.append(temp_df, ignore_index=True)\n",
      "/var/folders/t6/l2wwgc754y9_xqgy__gwmrj40000gn/T/ipykernel_1327/841447823.py:7: FutureWarning: The frame.append method is deprecated and will be removed from pandas in a future version. Use pandas.concat instead.\n",
      "  result = result.append(temp_df, ignore_index=True)\n",
      "/var/folders/t6/l2wwgc754y9_xqgy__gwmrj40000gn/T/ipykernel_1327/841447823.py:7: FutureWarning: The frame.append method is deprecated and will be removed from pandas in a future version. Use pandas.concat instead.\n",
      "  result = result.append(temp_df, ignore_index=True)\n",
      "/var/folders/t6/l2wwgc754y9_xqgy__gwmrj40000gn/T/ipykernel_1327/841447823.py:7: FutureWarning: The frame.append method is deprecated and will be removed from pandas in a future version. Use pandas.concat instead.\n",
      "  result = result.append(temp_df, ignore_index=True)\n",
      "/var/folders/t6/l2wwgc754y9_xqgy__gwmrj40000gn/T/ipykernel_1327/841447823.py:7: FutureWarning: The frame.append method is deprecated and will be removed from pandas in a future version. Use pandas.concat instead.\n",
      "  result = result.append(temp_df, ignore_index=True)\n",
      "/var/folders/t6/l2wwgc754y9_xqgy__gwmrj40000gn/T/ipykernel_1327/841447823.py:7: FutureWarning: The frame.append method is deprecated and will be removed from pandas in a future version. Use pandas.concat instead.\n",
      "  result = result.append(temp_df, ignore_index=True)\n",
      "/var/folders/t6/l2wwgc754y9_xqgy__gwmrj40000gn/T/ipykernel_1327/841447823.py:7: FutureWarning: The frame.append method is deprecated and will be removed from pandas in a future version. Use pandas.concat instead.\n",
      "  result = result.append(temp_df, ignore_index=True)\n",
      "/var/folders/t6/l2wwgc754y9_xqgy__gwmrj40000gn/T/ipykernel_1327/841447823.py:7: FutureWarning: The frame.append method is deprecated and will be removed from pandas in a future version. Use pandas.concat instead.\n",
      "  result = result.append(temp_df, ignore_index=True)\n",
      "/var/folders/t6/l2wwgc754y9_xqgy__gwmrj40000gn/T/ipykernel_1327/841447823.py:7: FutureWarning: The frame.append method is deprecated and will be removed from pandas in a future version. Use pandas.concat instead.\n",
      "  result = result.append(temp_df, ignore_index=True)\n",
      "/var/folders/t6/l2wwgc754y9_xqgy__gwmrj40000gn/T/ipykernel_1327/841447823.py:7: FutureWarning: The frame.append method is deprecated and will be removed from pandas in a future version. Use pandas.concat instead.\n",
      "  result = result.append(temp_df, ignore_index=True)\n",
      "/var/folders/t6/l2wwgc754y9_xqgy__gwmrj40000gn/T/ipykernel_1327/841447823.py:7: FutureWarning: The frame.append method is deprecated and will be removed from pandas in a future version. Use pandas.concat instead.\n",
      "  result = result.append(temp_df, ignore_index=True)\n",
      "/var/folders/t6/l2wwgc754y9_xqgy__gwmrj40000gn/T/ipykernel_1327/841447823.py:7: FutureWarning: The frame.append method is deprecated and will be removed from pandas in a future version. Use pandas.concat instead.\n",
      "  result = result.append(temp_df, ignore_index=True)\n",
      "/var/folders/t6/l2wwgc754y9_xqgy__gwmrj40000gn/T/ipykernel_1327/841447823.py:7: FutureWarning: The frame.append method is deprecated and will be removed from pandas in a future version. Use pandas.concat instead.\n",
      "  result = result.append(temp_df, ignore_index=True)\n",
      "/var/folders/t6/l2wwgc754y9_xqgy__gwmrj40000gn/T/ipykernel_1327/841447823.py:7: FutureWarning: The frame.append method is deprecated and will be removed from pandas in a future version. Use pandas.concat instead.\n",
      "  result = result.append(temp_df, ignore_index=True)\n",
      "/var/folders/t6/l2wwgc754y9_xqgy__gwmrj40000gn/T/ipykernel_1327/841447823.py:7: FutureWarning: The frame.append method is deprecated and will be removed from pandas in a future version. Use pandas.concat instead.\n",
      "  result = result.append(temp_df, ignore_index=True)\n",
      "/var/folders/t6/l2wwgc754y9_xqgy__gwmrj40000gn/T/ipykernel_1327/841447823.py:7: FutureWarning: The frame.append method is deprecated and will be removed from pandas in a future version. Use pandas.concat instead.\n",
      "  result = result.append(temp_df, ignore_index=True)\n",
      "/var/folders/t6/l2wwgc754y9_xqgy__gwmrj40000gn/T/ipykernel_1327/841447823.py:7: FutureWarning: The frame.append method is deprecated and will be removed from pandas in a future version. Use pandas.concat instead.\n",
      "  result = result.append(temp_df, ignore_index=True)\n",
      "/var/folders/t6/l2wwgc754y9_xqgy__gwmrj40000gn/T/ipykernel_1327/841447823.py:7: FutureWarning: The frame.append method is deprecated and will be removed from pandas in a future version. Use pandas.concat instead.\n",
      "  result = result.append(temp_df, ignore_index=True)\n",
      "/var/folders/t6/l2wwgc754y9_xqgy__gwmrj40000gn/T/ipykernel_1327/841447823.py:7: FutureWarning: The frame.append method is deprecated and will be removed from pandas in a future version. Use pandas.concat instead.\n",
      "  result = result.append(temp_df, ignore_index=True)\n",
      "/var/folders/t6/l2wwgc754y9_xqgy__gwmrj40000gn/T/ipykernel_1327/841447823.py:7: FutureWarning: The frame.append method is deprecated and will be removed from pandas in a future version. Use pandas.concat instead.\n",
      "  result = result.append(temp_df, ignore_index=True)\n",
      "/var/folders/t6/l2wwgc754y9_xqgy__gwmrj40000gn/T/ipykernel_1327/841447823.py:7: FutureWarning: The frame.append method is deprecated and will be removed from pandas in a future version. Use pandas.concat instead.\n",
      "  result = result.append(temp_df, ignore_index=True)\n"
     ]
    }
   ],
   "source": [
    "result = pd.DataFrame()\n",
    "for _, row in grouped.iterrows():\n",
    "    min_time, max_time = row['min'], row['max']\n",
    "    time_range = pd.date_range(min_time, max_time, freq='1S')\n",
    "    temp_df = pd.DataFrame(time_range, columns=['tag'])\n",
    "    temp_df['ID'] = _\n",
    "    result = result.append(temp_df, ignore_index=True)\n"
   ]
  },
  {
   "cell_type": "code",
   "execution_count": 256,
   "id": "de31267d",
   "metadata": {},
   "outputs": [
    {
     "data": {
      "text/html": [
       "<div>\n",
       "<style scoped>\n",
       "    .dataframe tbody tr th:only-of-type {\n",
       "        vertical-align: middle;\n",
       "    }\n",
       "\n",
       "    .dataframe tbody tr th {\n",
       "        vertical-align: top;\n",
       "    }\n",
       "\n",
       "    .dataframe thead th {\n",
       "        text-align: right;\n",
       "    }\n",
       "</style>\n",
       "<table border=\"1\" class=\"dataframe\">\n",
       "  <thead>\n",
       "    <tr style=\"text-align: right;\">\n",
       "      <th></th>\n",
       "      <th>tag</th>\n",
       "      <th>ID</th>\n",
       "      <th>Stress</th>\n",
       "    </tr>\n",
       "  </thead>\n",
       "  <tbody>\n",
       "    <tr>\n",
       "      <th>99387</th>\n",
       "      <td>2022-03-09 15:21:44</td>\n",
       "      <td>S35</td>\n",
       "      <td>NaN</td>\n",
       "    </tr>\n",
       "    <tr>\n",
       "      <th>99388</th>\n",
       "      <td>2022-03-09 15:21:45</td>\n",
       "      <td>S35</td>\n",
       "      <td>NaN</td>\n",
       "    </tr>\n",
       "    <tr>\n",
       "      <th>99389</th>\n",
       "      <td>2022-03-09 15:21:46</td>\n",
       "      <td>S35</td>\n",
       "      <td>NaN</td>\n",
       "    </tr>\n",
       "    <tr>\n",
       "      <th>99390</th>\n",
       "      <td>2022-03-09 15:21:47</td>\n",
       "      <td>S35</td>\n",
       "      <td>NaN</td>\n",
       "    </tr>\n",
       "    <tr>\n",
       "      <th>99391</th>\n",
       "      <td>2022-03-09 15:21:48</td>\n",
       "      <td>S35</td>\n",
       "      <td>NaN</td>\n",
       "    </tr>\n",
       "    <tr>\n",
       "      <th>...</th>\n",
       "      <td>...</td>\n",
       "      <td>...</td>\n",
       "      <td>...</td>\n",
       "    </tr>\n",
       "    <tr>\n",
       "      <th>101739</th>\n",
       "      <td>2022-03-09 16:00:56</td>\n",
       "      <td>S35</td>\n",
       "      <td>NaN</td>\n",
       "    </tr>\n",
       "    <tr>\n",
       "      <th>101740</th>\n",
       "      <td>2022-03-09 16:00:57</td>\n",
       "      <td>S35</td>\n",
       "      <td>NaN</td>\n",
       "    </tr>\n",
       "    <tr>\n",
       "      <th>101741</th>\n",
       "      <td>2022-03-09 16:00:58</td>\n",
       "      <td>S35</td>\n",
       "      <td>NaN</td>\n",
       "    </tr>\n",
       "    <tr>\n",
       "      <th>101742</th>\n",
       "      <td>2022-03-09 16:00:59</td>\n",
       "      <td>S35</td>\n",
       "      <td>NaN</td>\n",
       "    </tr>\n",
       "    <tr>\n",
       "      <th>101743</th>\n",
       "      <td>2022-03-09 16:01:00</td>\n",
       "      <td>S35</td>\n",
       "      <td>NaN</td>\n",
       "    </tr>\n",
       "  </tbody>\n",
       "</table>\n",
       "<p>2357 rows × 3 columns</p>\n",
       "</div>"
      ],
      "text/plain": [
       "                       tag   ID  Stress\n",
       "99387  2022-03-09 15:21:44  S35     NaN\n",
       "99388  2022-03-09 15:21:45  S35     NaN\n",
       "99389  2022-03-09 15:21:46  S35     NaN\n",
       "99390  2022-03-09 15:21:47  S35     NaN\n",
       "99391  2022-03-09 15:21:48  S35     NaN\n",
       "...                    ...  ...     ...\n",
       "101739 2022-03-09 16:00:56  S35     NaN\n",
       "101740 2022-03-09 16:00:57  S35     NaN\n",
       "101741 2022-03-09 16:00:58  S35     NaN\n",
       "101742 2022-03-09 16:00:59  S35     NaN\n",
       "101743 2022-03-09 16:01:00  S35     NaN\n",
       "\n",
       "[2357 rows x 3 columns]"
      ]
     },
     "execution_count": 256,
     "metadata": {},
     "output_type": "execute_result"
    }
   ],
   "source": [
    "result[result['ID']=='S35']"
   ]
  },
  {
   "cell_type": "code",
   "execution_count": 255,
   "id": "84c9e294",
   "metadata": {},
   "outputs": [],
   "source": [
    "result['Stress'] = np.nan"
   ]
  },
  {
   "cell_type": "code",
   "execution_count": 259,
   "id": "cc12707e",
   "metadata": {},
   "outputs": [],
   "source": [
    "for i in range(0, len(TAG), 2):\n",
    "    start_time = TAG.iloc[i]['tag']\n",
    "    end_time = TAG.iloc[i + 1]['tag']\n",
    "    id_value = TAG.iloc[i]['ID']\n",
    "    \n",
    "    # Set the 'Stress' column value based on the condition\n",
    "    result.loc[(result['tag'] >= start_time) & (result['tag'] <= end_time) & (result['ID'] == id_value), 'Stress'] = 1\n",
    "\n",
    "# Fill the remaining NaN values with 0\n",
    "result['Stress'].fillna(0, inplace=True)"
   ]
  },
  {
   "cell_type": "code",
   "execution_count": 260,
   "id": "49ac8659",
   "metadata": {},
   "outputs": [
    {
     "data": {
      "text/html": [
       "<div>\n",
       "<style scoped>\n",
       "    .dataframe tbody tr th:only-of-type {\n",
       "        vertical-align: middle;\n",
       "    }\n",
       "\n",
       "    .dataframe tbody tr th {\n",
       "        vertical-align: top;\n",
       "    }\n",
       "\n",
       "    .dataframe thead th {\n",
       "        text-align: right;\n",
       "    }\n",
       "</style>\n",
       "<table border=\"1\" class=\"dataframe\">\n",
       "  <thead>\n",
       "    <tr style=\"text-align: right;\">\n",
       "      <th></th>\n",
       "      <th>tag</th>\n",
       "      <th>ID</th>\n",
       "      <th>Stress</th>\n",
       "    </tr>\n",
       "  </thead>\n",
       "  <tbody>\n",
       "    <tr>\n",
       "      <th>0</th>\n",
       "      <td>2022-02-14 15:31:01</td>\n",
       "      <td>S11</td>\n",
       "      <td>1.0</td>\n",
       "    </tr>\n",
       "    <tr>\n",
       "      <th>1</th>\n",
       "      <td>2022-02-14 15:31:02</td>\n",
       "      <td>S11</td>\n",
       "      <td>1.0</td>\n",
       "    </tr>\n",
       "    <tr>\n",
       "      <th>2</th>\n",
       "      <td>2022-02-14 15:31:03</td>\n",
       "      <td>S11</td>\n",
       "      <td>1.0</td>\n",
       "    </tr>\n",
       "    <tr>\n",
       "      <th>3</th>\n",
       "      <td>2022-02-14 15:31:04</td>\n",
       "      <td>S11</td>\n",
       "      <td>1.0</td>\n",
       "    </tr>\n",
       "    <tr>\n",
       "      <th>4</th>\n",
       "      <td>2022-02-14 15:31:05</td>\n",
       "      <td>S11</td>\n",
       "      <td>1.0</td>\n",
       "    </tr>\n",
       "    <tr>\n",
       "      <th>...</th>\n",
       "      <td>...</td>\n",
       "      <td>...</td>\n",
       "      <td>...</td>\n",
       "    </tr>\n",
       "    <tr>\n",
       "      <th>101739</th>\n",
       "      <td>2022-03-09 16:00:56</td>\n",
       "      <td>S35</td>\n",
       "      <td>1.0</td>\n",
       "    </tr>\n",
       "    <tr>\n",
       "      <th>101740</th>\n",
       "      <td>2022-03-09 16:00:57</td>\n",
       "      <td>S35</td>\n",
       "      <td>1.0</td>\n",
       "    </tr>\n",
       "    <tr>\n",
       "      <th>101741</th>\n",
       "      <td>2022-03-09 16:00:58</td>\n",
       "      <td>S35</td>\n",
       "      <td>1.0</td>\n",
       "    </tr>\n",
       "    <tr>\n",
       "      <th>101742</th>\n",
       "      <td>2022-03-09 16:00:59</td>\n",
       "      <td>S35</td>\n",
       "      <td>1.0</td>\n",
       "    </tr>\n",
       "    <tr>\n",
       "      <th>101743</th>\n",
       "      <td>2022-03-09 16:01:00</td>\n",
       "      <td>S35</td>\n",
       "      <td>1.0</td>\n",
       "    </tr>\n",
       "  </tbody>\n",
       "</table>\n",
       "<p>101744 rows × 3 columns</p>\n",
       "</div>"
      ],
      "text/plain": [
       "                       tag   ID  Stress\n",
       "0      2022-02-14 15:31:01  S11     1.0\n",
       "1      2022-02-14 15:31:02  S11     1.0\n",
       "2      2022-02-14 15:31:03  S11     1.0\n",
       "3      2022-02-14 15:31:04  S11     1.0\n",
       "4      2022-02-14 15:31:05  S11     1.0\n",
       "...                    ...  ...     ...\n",
       "101739 2022-03-09 16:00:56  S35     1.0\n",
       "101740 2022-03-09 16:00:57  S35     1.0\n",
       "101741 2022-03-09 16:00:58  S35     1.0\n",
       "101742 2022-03-09 16:00:59  S35     1.0\n",
       "101743 2022-03-09 16:01:00  S35     1.0\n",
       "\n",
       "[101744 rows x 3 columns]"
      ]
     },
     "execution_count": 260,
     "metadata": {},
     "output_type": "execute_result"
    }
   ],
   "source": [
    "result"
   ]
  },
  {
   "cell_type": "code",
   "execution_count": 261,
   "id": "d3bb3060",
   "metadata": {},
   "outputs": [],
   "source": [
    "result.to_csv('result.csv')"
   ]
  },
  {
   "cell_type": "code",
   "execution_count": 263,
   "id": "4b476ae4",
   "metadata": {},
   "outputs": [
    {
     "data": {
      "text/html": [
       "<div>\n",
       "<style scoped>\n",
       "    .dataframe tbody tr th:only-of-type {\n",
       "        vertical-align: middle;\n",
       "    }\n",
       "\n",
       "    .dataframe tbody tr th {\n",
       "        vertical-align: top;\n",
       "    }\n",
       "\n",
       "    .dataframe thead th {\n",
       "        text-align: right;\n",
       "    }\n",
       "</style>\n",
       "<table border=\"1\" class=\"dataframe\">\n",
       "  <thead>\n",
       "    <tr style=\"text-align: right;\">\n",
       "      <th></th>\n",
       "      <th>tag</th>\n",
       "      <th>ID</th>\n",
       "      <th>Stress</th>\n",
       "    </tr>\n",
       "  </thead>\n",
       "  <tbody>\n",
       "    <tr>\n",
       "      <th>407</th>\n",
       "      <td>2022-02-14 15:37:48</td>\n",
       "      <td>S11</td>\n",
       "      <td>0.0</td>\n",
       "    </tr>\n",
       "    <tr>\n",
       "      <th>408</th>\n",
       "      <td>2022-02-14 15:37:49</td>\n",
       "      <td>S11</td>\n",
       "      <td>0.0</td>\n",
       "    </tr>\n",
       "    <tr>\n",
       "      <th>409</th>\n",
       "      <td>2022-02-14 15:37:50</td>\n",
       "      <td>S11</td>\n",
       "      <td>0.0</td>\n",
       "    </tr>\n",
       "    <tr>\n",
       "      <th>410</th>\n",
       "      <td>2022-02-14 15:37:51</td>\n",
       "      <td>S11</td>\n",
       "      <td>0.0</td>\n",
       "    </tr>\n",
       "    <tr>\n",
       "      <th>411</th>\n",
       "      <td>2022-02-14 15:37:52</td>\n",
       "      <td>S11</td>\n",
       "      <td>0.0</td>\n",
       "    </tr>\n",
       "    <tr>\n",
       "      <th>...</th>\n",
       "      <td>...</td>\n",
       "      <td>...</td>\n",
       "      <td>...</td>\n",
       "    </tr>\n",
       "    <tr>\n",
       "      <th>2078</th>\n",
       "      <td>2022-02-14 16:05:39</td>\n",
       "      <td>S11</td>\n",
       "      <td>0.0</td>\n",
       "    </tr>\n",
       "    <tr>\n",
       "      <th>2079</th>\n",
       "      <td>2022-02-14 16:05:40</td>\n",
       "      <td>S11</td>\n",
       "      <td>0.0</td>\n",
       "    </tr>\n",
       "    <tr>\n",
       "      <th>2080</th>\n",
       "      <td>2022-02-14 16:05:41</td>\n",
       "      <td>S11</td>\n",
       "      <td>0.0</td>\n",
       "    </tr>\n",
       "    <tr>\n",
       "      <th>2081</th>\n",
       "      <td>2022-02-14 16:05:42</td>\n",
       "      <td>S11</td>\n",
       "      <td>0.0</td>\n",
       "    </tr>\n",
       "    <tr>\n",
       "      <th>2082</th>\n",
       "      <td>2022-02-14 16:05:43</td>\n",
       "      <td>S11</td>\n",
       "      <td>0.0</td>\n",
       "    </tr>\n",
       "  </tbody>\n",
       "</table>\n",
       "<p>896 rows × 3 columns</p>\n",
       "</div>"
      ],
      "text/plain": [
       "                     tag   ID  Stress\n",
       "407  2022-02-14 15:37:48  S11     0.0\n",
       "408  2022-02-14 15:37:49  S11     0.0\n",
       "409  2022-02-14 15:37:50  S11     0.0\n",
       "410  2022-02-14 15:37:51  S11     0.0\n",
       "411  2022-02-14 15:37:52  S11     0.0\n",
       "...                  ...  ...     ...\n",
       "2078 2022-02-14 16:05:39  S11     0.0\n",
       "2079 2022-02-14 16:05:40  S11     0.0\n",
       "2080 2022-02-14 16:05:41  S11     0.0\n",
       "2081 2022-02-14 16:05:42  S11     0.0\n",
       "2082 2022-02-14 16:05:43  S11     0.0\n",
       "\n",
       "[896 rows x 3 columns]"
      ]
     },
     "execution_count": 263,
     "metadata": {},
     "output_type": "execute_result"
    }
   ],
   "source": [
    "result[(result['Stress'] == 0) & (result['ID'] == 'S11')]"
   ]
  },
  {
   "cell_type": "code",
   "execution_count": 268,
   "id": "416aab66",
   "metadata": {},
   "outputs": [
    {
     "data": {
      "text/html": [
       "<div>\n",
       "<style scoped>\n",
       "    .dataframe tbody tr th:only-of-type {\n",
       "        vertical-align: middle;\n",
       "    }\n",
       "\n",
       "    .dataframe tbody tr th {\n",
       "        vertical-align: top;\n",
       "    }\n",
       "\n",
       "    .dataframe thead th {\n",
       "        text-align: right;\n",
       "    }\n",
       "</style>\n",
       "<table border=\"1\" class=\"dataframe\">\n",
       "  <thead>\n",
       "    <tr style=\"text-align: right;\">\n",
       "      <th></th>\n",
       "      <th>tag</th>\n",
       "      <th>ID</th>\n",
       "      <th>Stress</th>\n",
       "    </tr>\n",
       "  </thead>\n",
       "  <tbody>\n",
       "    <tr>\n",
       "      <th>0</th>\n",
       "      <td>2022-02-14 15:31:01</td>\n",
       "      <td>S11</td>\n",
       "      <td>1.0</td>\n",
       "    </tr>\n",
       "    <tr>\n",
       "      <th>1</th>\n",
       "      <td>2022-02-14 15:31:02</td>\n",
       "      <td>S11</td>\n",
       "      <td>1.0</td>\n",
       "    </tr>\n",
       "    <tr>\n",
       "      <th>2</th>\n",
       "      <td>2022-02-14 15:31:03</td>\n",
       "      <td>S11</td>\n",
       "      <td>1.0</td>\n",
       "    </tr>\n",
       "    <tr>\n",
       "      <th>3</th>\n",
       "      <td>2022-02-14 15:31:04</td>\n",
       "      <td>S11</td>\n",
       "      <td>1.0</td>\n",
       "    </tr>\n",
       "    <tr>\n",
       "      <th>4</th>\n",
       "      <td>2022-02-14 15:31:05</td>\n",
       "      <td>S11</td>\n",
       "      <td>1.0</td>\n",
       "    </tr>\n",
       "    <tr>\n",
       "      <th>...</th>\n",
       "      <td>...</td>\n",
       "      <td>...</td>\n",
       "      <td>...</td>\n",
       "    </tr>\n",
       "    <tr>\n",
       "      <th>101739</th>\n",
       "      <td>2022-03-09 16:00:56</td>\n",
       "      <td>S35</td>\n",
       "      <td>1.0</td>\n",
       "    </tr>\n",
       "    <tr>\n",
       "      <th>101740</th>\n",
       "      <td>2022-03-09 16:00:57</td>\n",
       "      <td>S35</td>\n",
       "      <td>1.0</td>\n",
       "    </tr>\n",
       "    <tr>\n",
       "      <th>101741</th>\n",
       "      <td>2022-03-09 16:00:58</td>\n",
       "      <td>S35</td>\n",
       "      <td>1.0</td>\n",
       "    </tr>\n",
       "    <tr>\n",
       "      <th>101742</th>\n",
       "      <td>2022-03-09 16:00:59</td>\n",
       "      <td>S35</td>\n",
       "      <td>1.0</td>\n",
       "    </tr>\n",
       "    <tr>\n",
       "      <th>101743</th>\n",
       "      <td>2022-03-09 16:01:00</td>\n",
       "      <td>S35</td>\n",
       "      <td>1.0</td>\n",
       "    </tr>\n",
       "  </tbody>\n",
       "</table>\n",
       "<p>101744 rows × 3 columns</p>\n",
       "</div>"
      ],
      "text/plain": [
       "                       tag   ID  Stress\n",
       "0      2022-02-14 15:31:01  S11     1.0\n",
       "1      2022-02-14 15:31:02  S11     1.0\n",
       "2      2022-02-14 15:31:03  S11     1.0\n",
       "3      2022-02-14 15:31:04  S11     1.0\n",
       "4      2022-02-14 15:31:05  S11     1.0\n",
       "...                    ...  ...     ...\n",
       "101739 2022-03-09 16:00:56  S35     1.0\n",
       "101740 2022-03-09 16:00:57  S35     1.0\n",
       "101741 2022-03-09 16:00:58  S35     1.0\n",
       "101742 2022-03-09 16:00:59  S35     1.0\n",
       "101743 2022-03-09 16:01:00  S35     1.0\n",
       "\n",
       "[101744 rows x 3 columns]"
      ]
     },
     "execution_count": 268,
     "metadata": {},
     "output_type": "execute_result"
    }
   ],
   "source": [
    "result"
   ]
  },
  {
   "cell_type": "code",
   "execution_count": 270,
   "id": "cb020676",
   "metadata": {},
   "outputs": [],
   "source": [
    "result = result.rename(columns={'tag': 'Time'})"
   ]
  },
  {
   "cell_type": "code",
   "execution_count": 271,
   "id": "61aab41b",
   "metadata": {},
   "outputs": [],
   "source": [
    "data = pd.merge(data, result, on=['Time', 'ID'], how='outer')"
   ]
  },
  {
   "cell_type": "code",
   "execution_count": 278,
   "id": "95c3c129",
   "metadata": {},
   "outputs": [
    {
     "data": {
      "text/html": [
       "<div>\n",
       "<style scoped>\n",
       "    .dataframe tbody tr th:only-of-type {\n",
       "        vertical-align: middle;\n",
       "    }\n",
       "\n",
       "    .dataframe tbody tr th {\n",
       "        vertical-align: top;\n",
       "    }\n",
       "\n",
       "    .dataframe thead th {\n",
       "        text-align: right;\n",
       "    }\n",
       "</style>\n",
       "<table border=\"1\" class=\"dataframe\">\n",
       "  <thead>\n",
       "    <tr style=\"text-align: right;\">\n",
       "      <th></th>\n",
       "      <th>HR</th>\n",
       "      <th>Time</th>\n",
       "      <th>ID</th>\n",
       "      <th>BVP</th>\n",
       "      <th>TEMP</th>\n",
       "      <th>EDA</th>\n",
       "      <th>IBI</th>\n",
       "      <th>ACC</th>\n",
       "      <th>Stress</th>\n",
       "    </tr>\n",
       "  </thead>\n",
       "  <tbody>\n",
       "    <tr>\n",
       "      <th>79257</th>\n",
       "      <td>109.00</td>\n",
       "      <td>2022-03-09 15:12:04</td>\n",
       "      <td>S35</td>\n",
       "      <td>-0.0</td>\n",
       "      <td>33.73</td>\n",
       "      <td>0.000000</td>\n",
       "      <td>48.068849</td>\n",
       "      <td>41.960299</td>\n",
       "      <td>0.0</td>\n",
       "    </tr>\n",
       "    <tr>\n",
       "      <th>79258</th>\n",
       "      <td>90.00</td>\n",
       "      <td>2022-03-09 15:12:05</td>\n",
       "      <td>S35</td>\n",
       "      <td>-0.0</td>\n",
       "      <td>33.73</td>\n",
       "      <td>0.301113</td>\n",
       "      <td>48.818262</td>\n",
       "      <td>39.885616</td>\n",
       "      <td>0.0</td>\n",
       "    </tr>\n",
       "    <tr>\n",
       "      <th>79259</th>\n",
       "      <td>85.50</td>\n",
       "      <td>2022-03-09 15:12:06</td>\n",
       "      <td>S35</td>\n",
       "      <td>-0.0</td>\n",
       "      <td>33.73</td>\n",
       "      <td>0.301113</td>\n",
       "      <td>49.599903</td>\n",
       "      <td>39.885616</td>\n",
       "      <td>0.0</td>\n",
       "    </tr>\n",
       "    <tr>\n",
       "      <th>79260</th>\n",
       "      <td>82.60</td>\n",
       "      <td>2022-03-09 15:12:07</td>\n",
       "      <td>S35</td>\n",
       "      <td>-0.0</td>\n",
       "      <td>33.73</td>\n",
       "      <td>0.301113</td>\n",
       "      <td>50.381058</td>\n",
       "      <td>39.885616</td>\n",
       "      <td>0.0</td>\n",
       "    </tr>\n",
       "    <tr>\n",
       "      <th>79261</th>\n",
       "      <td>80.67</td>\n",
       "      <td>2022-03-09 15:12:08</td>\n",
       "      <td>S35</td>\n",
       "      <td>-0.0</td>\n",
       "      <td>33.73</td>\n",
       "      <td>0.602226</td>\n",
       "      <td>61.239560</td>\n",
       "      <td>39.885616</td>\n",
       "      <td>0.0</td>\n",
       "    </tr>\n",
       "    <tr>\n",
       "      <th>...</th>\n",
       "      <td>...</td>\n",
       "      <td>...</td>\n",
       "      <td>...</td>\n",
       "      <td>...</td>\n",
       "      <td>...</td>\n",
       "      <td>...</td>\n",
       "      <td>...</td>\n",
       "      <td>...</td>\n",
       "      <td>...</td>\n",
       "    </tr>\n",
       "    <tr>\n",
       "      <th>6995992</th>\n",
       "      <td>NaN</td>\n",
       "      <td>2022-04-20 09:12:04</td>\n",
       "      <td>S35</td>\n",
       "      <td>NaN</td>\n",
       "      <td>NaN</td>\n",
       "      <td>NaN</td>\n",
       "      <td>NaN</td>\n",
       "      <td>37.134889</td>\n",
       "      <td>0.0</td>\n",
       "    </tr>\n",
       "    <tr>\n",
       "      <th>6995993</th>\n",
       "      <td>NaN</td>\n",
       "      <td>2022-04-20 09:13:08</td>\n",
       "      <td>S35</td>\n",
       "      <td>NaN</td>\n",
       "      <td>NaN</td>\n",
       "      <td>NaN</td>\n",
       "      <td>NaN</td>\n",
       "      <td>36.972963</td>\n",
       "      <td>0.0</td>\n",
       "    </tr>\n",
       "    <tr>\n",
       "      <th>6995994</th>\n",
       "      <td>NaN</td>\n",
       "      <td>2022-04-20 09:14:12</td>\n",
       "      <td>S35</td>\n",
       "      <td>NaN</td>\n",
       "      <td>NaN</td>\n",
       "      <td>NaN</td>\n",
       "      <td>NaN</td>\n",
       "      <td>37.121422</td>\n",
       "      <td>0.0</td>\n",
       "    </tr>\n",
       "    <tr>\n",
       "      <th>6995995</th>\n",
       "      <td>NaN</td>\n",
       "      <td>2022-04-20 09:15:16</td>\n",
       "      <td>S35</td>\n",
       "      <td>NaN</td>\n",
       "      <td>NaN</td>\n",
       "      <td>NaN</td>\n",
       "      <td>NaN</td>\n",
       "      <td>36.565011</td>\n",
       "      <td>0.0</td>\n",
       "    </tr>\n",
       "    <tr>\n",
       "      <th>6995996</th>\n",
       "      <td>NaN</td>\n",
       "      <td>2022-04-20 09:16:20</td>\n",
       "      <td>S35</td>\n",
       "      <td>NaN</td>\n",
       "      <td>NaN</td>\n",
       "      <td>NaN</td>\n",
       "      <td>NaN</td>\n",
       "      <td>36.565011</td>\n",
       "      <td>0.0</td>\n",
       "    </tr>\n",
       "  </tbody>\n",
       "</table>\n",
       "<p>296826 rows × 9 columns</p>\n",
       "</div>"
      ],
      "text/plain": [
       "             HR                Time   ID  BVP   TEMP       EDA        IBI  \\\n",
       "79257    109.00 2022-03-09 15:12:04  S35 -0.0  33.73  0.000000  48.068849   \n",
       "79258     90.00 2022-03-09 15:12:05  S35 -0.0  33.73  0.301113  48.818262   \n",
       "79259     85.50 2022-03-09 15:12:06  S35 -0.0  33.73  0.301113  49.599903   \n",
       "79260     82.60 2022-03-09 15:12:07  S35 -0.0  33.73  0.301113  50.381058   \n",
       "79261     80.67 2022-03-09 15:12:08  S35 -0.0  33.73  0.602226  61.239560   \n",
       "...         ...                 ...  ...  ...    ...       ...        ...   \n",
       "6995992     NaN 2022-04-20 09:12:04  S35  NaN    NaN       NaN        NaN   \n",
       "6995993     NaN 2022-04-20 09:13:08  S35  NaN    NaN       NaN        NaN   \n",
       "6995994     NaN 2022-04-20 09:14:12  S35  NaN    NaN       NaN        NaN   \n",
       "6995995     NaN 2022-04-20 09:15:16  S35  NaN    NaN       NaN        NaN   \n",
       "6995996     NaN 2022-04-20 09:16:20  S35  NaN    NaN       NaN        NaN   \n",
       "\n",
       "               ACC  Stress  \n",
       "79257    41.960299     0.0  \n",
       "79258    39.885616     0.0  \n",
       "79259    39.885616     0.0  \n",
       "79260    39.885616     0.0  \n",
       "79261    39.885616     0.0  \n",
       "...            ...     ...  \n",
       "6995992  37.134889     0.0  \n",
       "6995993  36.972963     0.0  \n",
       "6995994  37.121422     0.0  \n",
       "6995995  36.565011     0.0  \n",
       "6995996  36.565011     0.0  \n",
       "\n",
       "[296826 rows x 9 columns]"
      ]
     },
     "execution_count": 278,
     "metadata": {},
     "output_type": "execute_result"
    }
   ],
   "source": [
    "data[data['ID']=='S35']"
   ]
  },
  {
   "cell_type": "code",
   "execution_count": 275,
   "id": "d300b5fc",
   "metadata": {},
   "outputs": [
    {
     "name": "stdout",
     "output_type": "stream",
     "text": [
      "7038518\n"
     ]
    }
   ],
   "source": [
    "print(len(data))"
   ]
  },
  {
   "cell_type": "code",
   "execution_count": 276,
   "id": "8f6eb6df",
   "metadata": {},
   "outputs": [],
   "source": [
    "#fill NAs with 0 as it is on in stress period\n",
    "data['Stress'] = data['Stress'].fillna(0)"
   ]
  },
  {
   "cell_type": "code",
   "execution_count": 283,
   "id": "eedaca4a",
   "metadata": {},
   "outputs": [
    {
     "name": "stdout",
     "output_type": "stream",
     "text": [
      "ID\n",
      "S11    28.706771\n",
      "S12    28.738060\n",
      "S13    28.707157\n",
      "S14    28.725119\n",
      "S15    28.760911\n",
      "S16    28.761423\n",
      "S17    28.769538\n",
      "S18    33.621560\n",
      "S19    28.722546\n",
      "S20    28.738668\n",
      "S21    28.725400\n",
      "S22    28.765747\n",
      "S23    28.754842\n",
      "S24    28.677986\n",
      "S25    28.753657\n",
      "S26    28.767880\n",
      "S27    28.721458\n",
      "S28    28.776355\n",
      "S29    28.735803\n",
      "S30    28.759391\n",
      "S31    28.702607\n",
      "S32    28.743497\n",
      "S33    28.679258\n",
      "S34    28.665985\n",
      "S35    28.744637\n",
      "dtype: float64\n"
     ]
    }
   ],
   "source": [
    "# Calculate the percentage of missing values for each ID\n",
    "missing_percents = data.groupby('ID').apply(lambda x: x.isnull().mean().mean() * 100)\n",
    "\n",
    "# Find IDs with missing values greater than 80%\n",
    "ids_greater_80 = missing_percents[missing_percents > 10]\n",
    "\n",
    "print(ids_greater_80)"
   ]
  },
  {
   "cell_type": "markdown",
   "id": "e34a2595",
   "metadata": {},
   "source": [
    "# Missing Values"
   ]
  },
  {
   "cell_type": "code",
   "execution_count": 284,
   "id": "849d3ef6",
   "metadata": {},
   "outputs": [],
   "source": [
    "import matplotlib.pyplot as plt"
   ]
  },
  {
   "cell_type": "code",
   "execution_count": 285,
   "id": "81162887",
   "metadata": {},
   "outputs": [
    {
     "data": {
      "image/png": "[encoded data removed]",
      "text/plain": [
       "<Figure size 432x288 with 1 Axes>"
      ]
     },
     "metadata": {
      "needs_background": "light"
     },
     "output_type": "display_data"
    }
   ],
   "source": [
    "value_counts = data['Stress'].value_counts()\n",
    "\n",
    "value_counts.plot(kind='bar')\n",
    "plt.xlabel('Value')\n",
    "plt.ylabel('Frequency')\n",
    "plt.title('Frequency of 0 and 1 in the Value Column')\n",
    "plt.xticks(rotation=0)\n",
    "plt.show()"
   ]
  },
  {
   "cell_type": "code",
   "execution_count": 286,
   "id": "04e0efa9",
   "metadata": {},
   "outputs": [],
   "source": [
    "new_data = data.dropna()"
   ]
  },
  {
   "cell_type": "code",
   "execution_count": 287,
   "id": "18356e72",
   "metadata": {},
   "outputs": [
    {
     "data": {
      "image/png": "[encoded data removed]",
      "text/plain": [
       "<Figure size 432x288 with 1 Axes>"
      ]
     },
     "metadata": {
      "needs_background": "light"
     },
     "output_type": "display_data"
    }
   ],
   "source": [
    "value_counts = new_data['Stress'].value_counts()\n",
    "\n",
    "value_counts.plot(kind='bar')\n",
    "plt.xlabel('Value')\n",
    "plt.ylabel('Frequency')\n",
    "plt.title('Frequency of 0 and 1 in the Value Column')\n",
    "plt.xticks(rotation=0)\n",
    "plt.show()"
   ]
  },
  {
   "cell_type": "code",
   "execution_count": 288,
   "id": "edeafca7",
   "metadata": {},
   "outputs": [
    {
     "data": {
      "text/plain": [
       "33321"
      ]
     },
     "execution_count": 288,
     "metadata": {},
     "output_type": "execute_result"
    }
   ],
   "source": [
    "len(new_data)"
   ]
  },
  {
   "cell_type": "code",
   "execution_count": 289,
   "id": "76e212d1",
   "metadata": {},
   "outputs": [
    {
     "data": {
      "text/plain": [
       "7038518"
      ]
     },
     "execution_count": 289,
     "metadata": {},
     "output_type": "execute_result"
    }
   ],
   "source": [
    "len(data)"
   ]
  },
  {
   "cell_type": "code",
   "execution_count": 293,
   "id": "7caaf171",
   "metadata": {},
   "outputs": [],
   "source": [
    "grouped = data.groupby('ID')\n",
    "\n",
    "# Define a function to drop rows after the first NA in the 'HR' column for each group\n",
    "def drop_rows_after_first_na(group):\n",
    "    na_index = group['HR'].isna().idxmax()\n",
    "    if na_index == 0 and pd.isna(group['HR'].iloc[0]):\n",
    "        return group.iloc[0:0]  # Return an empty DataFrame if the first value is NA\n",
    "    return group.loc[:na_index-1]\n",
    "\n",
    "# Apply the function to each group and concatenate the results\n",
    "cleaned_df = pd.concat(drop_rows_after_first_na(group) for _, group in grouped)"
   ]
  },
  {
   "cell_type": "code",
   "execution_count": 295,
   "id": "38fff097",
   "metadata": {},
   "outputs": [
    {
     "data": {
      "text/html": [
       "<div>\n",
       "<style scoped>\n",
       "    .dataframe tbody tr th:only-of-type {\n",
       "        vertical-align: middle;\n",
       "    }\n",
       "\n",
       "    .dataframe tbody tr th {\n",
       "        vertical-align: top;\n",
       "    }\n",
       "\n",
       "    .dataframe thead th {\n",
       "        text-align: right;\n",
       "    }\n",
       "</style>\n",
       "<table border=\"1\" class=\"dataframe\">\n",
       "  <thead>\n",
       "    <tr style=\"text-align: right;\">\n",
       "      <th></th>\n",
       "      <th>HR</th>\n",
       "      <th>Time</th>\n",
       "      <th>ID</th>\n",
       "      <th>BVP</th>\n",
       "      <th>TEMP</th>\n",
       "      <th>EDA</th>\n",
       "      <th>IBI</th>\n",
       "      <th>ACC</th>\n",
       "      <th>Stress</th>\n",
       "    </tr>\n",
       "  </thead>\n",
       "  <tbody>\n",
       "    <tr>\n",
       "      <th>0</th>\n",
       "      <td>56.00</td>\n",
       "      <td>2022-02-14 15:20:28</td>\n",
       "      <td>S11</td>\n",
       "      <td>-0.0</td>\n",
       "      <td>27.25</td>\n",
       "      <td>0.000000</td>\n",
       "      <td>11.876665</td>\n",
       "      <td>36.706039</td>\n",
       "      <td>0.0</td>\n",
       "    </tr>\n",
       "    <tr>\n",
       "      <th>1</th>\n",
       "      <td>55.67</td>\n",
       "      <td>2022-02-14 15:20:29</td>\n",
       "      <td>S11</td>\n",
       "      <td>-0.0</td>\n",
       "      <td>27.25</td>\n",
       "      <td>0.060219</td>\n",
       "      <td>12.516405</td>\n",
       "      <td>36.762709</td>\n",
       "      <td>0.0</td>\n",
       "    </tr>\n",
       "    <tr>\n",
       "      <th>2</th>\n",
       "      <td>55.75</td>\n",
       "      <td>2022-02-14 15:20:30</td>\n",
       "      <td>S11</td>\n",
       "      <td>-0.0</td>\n",
       "      <td>27.25</td>\n",
       "      <td>0.060219</td>\n",
       "      <td>13.156231</td>\n",
       "      <td>36.762709</td>\n",
       "      <td>0.0</td>\n",
       "    </tr>\n",
       "    <tr>\n",
       "      <th>3</th>\n",
       "      <td>57.40</td>\n",
       "      <td>2022-02-14 15:20:31</td>\n",
       "      <td>S11</td>\n",
       "      <td>-0.0</td>\n",
       "      <td>27.25</td>\n",
       "      <td>0.060219</td>\n",
       "      <td>13.747203</td>\n",
       "      <td>36.762709</td>\n",
       "      <td>0.0</td>\n",
       "    </tr>\n",
       "    <tr>\n",
       "      <th>4</th>\n",
       "      <td>57.00</td>\n",
       "      <td>2022-02-14 15:20:32</td>\n",
       "      <td>S11</td>\n",
       "      <td>-0.0</td>\n",
       "      <td>27.25</td>\n",
       "      <td>0.120438</td>\n",
       "      <td>25.133982</td>\n",
       "      <td>36.762709</td>\n",
       "      <td>0.0</td>\n",
       "    </tr>\n",
       "  </tbody>\n",
       "</table>\n",
       "</div>"
      ],
      "text/plain": [
       "      HR                Time   ID  BVP   TEMP       EDA        IBI        ACC  \\\n",
       "0  56.00 2022-02-14 15:20:28  S11 -0.0  27.25  0.000000  11.876665  36.706039   \n",
       "1  55.67 2022-02-14 15:20:29  S11 -0.0  27.25  0.060219  12.516405  36.762709   \n",
       "2  55.75 2022-02-14 15:20:30  S11 -0.0  27.25  0.060219  13.156231  36.762709   \n",
       "3  57.40 2022-02-14 15:20:31  S11 -0.0  27.25  0.060219  13.747203  36.762709   \n",
       "4  57.00 2022-02-14 15:20:32  S11 -0.0  27.25  0.120438  25.133982  36.762709   \n",
       "\n",
       "   Stress  \n",
       "0     0.0  \n",
       "1     0.0  \n",
       "2     0.0  \n",
       "3     0.0  \n",
       "4     0.0  "
      ]
     },
     "execution_count": 295,
     "metadata": {},
     "output_type": "execute_result"
    }
   ],
   "source": [
    "cleaned_df.head()"
   ]
  },
  {
   "cell_type": "code",
   "execution_count": 301,
   "id": "c29cac6f",
   "metadata": {},
   "outputs": [
    {
     "data": {
      "image/png": "[encoded data removed]",
      "text/plain": [
       "<Figure size 432x288 with 1 Axes>"
      ]
     },
     "metadata": {
      "needs_background": "light"
     },
     "output_type": "display_data"
    }
   ],
   "source": [
    "value_counts = cleaned_df['Stress'].value_counts()\n",
    "\n",
    "value_counts.plot(kind='bar')\n",
    "plt.xlabel('Value')\n",
    "plt.ylabel('Frequency')\n",
    "plt.title('Stress')\n",
    "plt.xticks(rotation=0)\n",
    "plt.show()"
   ]
  },
  {
   "cell_type": "code",
   "execution_count": 311,
   "id": "517763b1",
   "metadata": {},
   "outputs": [
    {
     "name": "stdout",
     "output_type": "stream",
     "text": [
      "<class 'pandas.core.frame.DataFrame'>\n",
      "Int64Index: 82769 entries, 0 to 82768\n",
      "Data columns (total 8 columns):\n",
      " #   Column  Non-Null Count  Dtype         \n",
      "---  ------  --------------  -----         \n",
      " 0   HR      82769 non-null  float64       \n",
      " 1   Time    82769 non-null  datetime64[ns]\n",
      " 2   ID      82769 non-null  object        \n",
      " 3   BVP     82769 non-null  float64       \n",
      " 4   TEMP    82769 non-null  float64       \n",
      " 5   EDA     82769 non-null  float64       \n",
      " 6   ACC     82769 non-null  float64       \n",
      " 7   Stress  82769 non-null  float64       \n",
      "dtypes: datetime64[ns](1), float64(6), object(1)\n",
      "memory usage: 7.7+ MB\n"
     ]
    }
   ],
   "source": [
    "cleaned_df.info()"
   ]
  },
  {
   "cell_type": "code",
   "execution_count": 307,
   "id": "4db0d169",
   "metadata": {},
   "outputs": [],
   "source": [
    "cleaned_df.to_csv('cleaned_df.csv')"
   ]
  },
  {
   "cell_type": "code",
   "execution_count": 309,
   "id": "d729eda3",
   "metadata": {},
   "outputs": [],
   "source": [
    "cleaned_df.drop('IBI', axis=1, inplace=True)"
   ]
  },
  {
   "cell_type": "code",
   "execution_count": 348,
   "id": "4a2adeea",
   "metadata": {},
   "outputs": [],
   "source": [
    "Time = pd.DataFrame({'Time': cleaned_df['Time'], 'ID': cleaned_df['ID']})"
   ]
  },
  {
   "cell_type": "code",
   "execution_count": 379,
   "id": "fc597ab5",
   "metadata": {},
   "outputs": [],
   "source": [
    "#Create all the start time for each ID\n",
    "start_values = [1644852028, 1645434908, 1645442647, 1645444063, 1645446989, 1645449146, 1645456369, 1645457685, 1646039930, 1646041789, 1646048637, 1646050723, 1646052269, 1646059181, 1646061149, 1646062904, 1646646345, 1646655386, 1646656769, 1646657973, 1646665728, 1646667379, 1646828080, 1646836594, 1646838724]\n",
    "\n",
    "for i, start_time in enumerate(start_values):\n",
    "    ID = 'S{}'.format(i+11)\n",
    "    IBI.loc[IBI['ID'] == ID, 'Initial_Time'] = start_time"
   ]
  },
  {
   "cell_type": "code",
   "execution_count": 382,
   "id": "dfa30056",
   "metadata": {},
   "outputs": [
    {
     "data": {
      "text/html": [
       "<div>\n",
       "<style scoped>\n",
       "    .dataframe tbody tr th:only-of-type {\n",
       "        vertical-align: middle;\n",
       "    }\n",
       "\n",
       "    .dataframe tbody tr th {\n",
       "        vertical-align: top;\n",
       "    }\n",
       "\n",
       "    .dataframe thead th {\n",
       "        text-align: right;\n",
       "    }\n",
       "</style>\n",
       "<table border=\"1\" class=\"dataframe\">\n",
       "  <thead>\n",
       "    <tr style=\"text-align: right;\">\n",
       "      <th></th>\n",
       "      <th>IBI1</th>\n",
       "      <th>IBI2</th>\n",
       "      <th>ID</th>\n",
       "      <th>Initial_Time</th>\n",
       "    </tr>\n",
       "  </thead>\n",
       "  <tbody>\n",
       "    <tr>\n",
       "      <th>0</th>\n",
       "      <td>23.500000</td>\n",
       "      <td>0.843750</td>\n",
       "      <td>S13</td>\n",
       "      <td>1645442647</td>\n",
       "    </tr>\n",
       "    <tr>\n",
       "      <th>1</th>\n",
       "      <td>24.390625</td>\n",
       "      <td>0.890625</td>\n",
       "      <td>S13</td>\n",
       "      <td>1645442647</td>\n",
       "    </tr>\n",
       "    <tr>\n",
       "      <th>2</th>\n",
       "      <td>25.328125</td>\n",
       "      <td>0.937500</td>\n",
       "      <td>S13</td>\n",
       "      <td>1645442647</td>\n",
       "    </tr>\n",
       "    <tr>\n",
       "      <th>3</th>\n",
       "      <td>26.187500</td>\n",
       "      <td>0.859375</td>\n",
       "      <td>S13</td>\n",
       "      <td>1645442647</td>\n",
       "    </tr>\n",
       "    <tr>\n",
       "      <th>4</th>\n",
       "      <td>27.140625</td>\n",
       "      <td>0.953125</td>\n",
       "      <td>S13</td>\n",
       "      <td>1645442647</td>\n",
       "    </tr>\n",
       "    <tr>\n",
       "      <th>...</th>\n",
       "      <td>...</td>\n",
       "      <td>...</td>\n",
       "      <td>...</td>\n",
       "      <td>...</td>\n",
       "    </tr>\n",
       "    <tr>\n",
       "      <th>2043</th>\n",
       "      <td>3307.421875</td>\n",
       "      <td>1.000000</td>\n",
       "      <td>S13</td>\n",
       "      <td>1645442647</td>\n",
       "    </tr>\n",
       "    <tr>\n",
       "      <th>2044</th>\n",
       "      <td>3308.375000</td>\n",
       "      <td>0.953125</td>\n",
       "      <td>S13</td>\n",
       "      <td>1645442647</td>\n",
       "    </tr>\n",
       "    <tr>\n",
       "      <th>2045</th>\n",
       "      <td>3309.421875</td>\n",
       "      <td>1.046875</td>\n",
       "      <td>S13</td>\n",
       "      <td>1645442647</td>\n",
       "    </tr>\n",
       "    <tr>\n",
       "      <th>2046</th>\n",
       "      <td>3310.390625</td>\n",
       "      <td>0.968750</td>\n",
       "      <td>S13</td>\n",
       "      <td>1645442647</td>\n",
       "    </tr>\n",
       "    <tr>\n",
       "      <th>2047</th>\n",
       "      <td>3311.390625</td>\n",
       "      <td>1.000000</td>\n",
       "      <td>S13</td>\n",
       "      <td>1645442647</td>\n",
       "    </tr>\n",
       "  </tbody>\n",
       "</table>\n",
       "<p>2048 rows × 4 columns</p>\n",
       "</div>"
      ],
      "text/plain": [
       "             IBI1      IBI2   ID  Initial_Time\n",
       "0       23.500000  0.843750  S13    1645442647\n",
       "1       24.390625  0.890625  S13    1645442647\n",
       "2       25.328125  0.937500  S13    1645442647\n",
       "3       26.187500  0.859375  S13    1645442647\n",
       "4       27.140625  0.953125  S13    1645442647\n",
       "...           ...       ...  ...           ...\n",
       "2043  3307.421875  1.000000  S13    1645442647\n",
       "2044  3308.375000  0.953125  S13    1645442647\n",
       "2045  3309.421875  1.046875  S13    1645442647\n",
       "2046  3310.390625  0.968750  S13    1645442647\n",
       "2047  3311.390625  1.000000  S13    1645442647\n",
       "\n",
       "[2048 rows x 4 columns]"
      ]
     },
     "execution_count": 382,
     "metadata": {},
     "output_type": "execute_result"
    }
   ],
   "source": [
    "IBI[IBI['ID']=='S13']"
   ]
  },
  {
   "cell_type": "code",
   "execution_count": 390,
   "id": "71ec1afb",
   "metadata": {},
   "outputs": [
    {
     "name": "stderr",
     "output_type": "stream",
     "text": [
      "/var/folders/t6/l2wwgc754y9_xqgy__gwmrj40000gn/T/ipykernel_1327/2231859342.py:1: SettingWithCopyWarning: \n",
      "A value is trying to be set on a copy of a slice from a DataFrame.\n",
      "Try using .loc[row_indexer,col_indexer] = value instead\n",
      "\n",
      "See the caveats in the documentation: https://pandas.pydata.org/pandas-docs/stable/user_guide/indexing.html#returning-a-view-versus-a-copy\n",
      "  IBI['Initial_Time'] = pd.to_datetime(IBI['Initial_Time'], unit='s')\n"
     ]
    }
   ],
   "source": [
    "#Convert initial time to time object\n",
    "IBI['Initial_Time'] = pd.to_datetime(IBI['Initial_Time'], unit='s')"
   ]
  },
  {
   "cell_type": "code",
   "execution_count": 397,
   "id": "91b6f15f",
   "metadata": {},
   "outputs": [],
   "source": [
    "# convert the 'IBI1' column to a timedelta object\n",
    "IBI['IBI1'] = pd.to_timedelta(IBI['IBI1'], unit='s')"
   ]
  },
  {
   "cell_type": "code",
   "execution_count": 399,
   "id": "31dabdb4",
   "metadata": {},
   "outputs": [],
   "source": [
    "#Add IBI1 and Initial Time\n",
    "IBI['IBI_detected'] = IBI['Initial_Time'] + IBI['IBI1']"
   ]
  },
  {
   "cell_type": "code",
   "execution_count": 402,
   "id": "985d5af9",
   "metadata": {},
   "outputs": [],
   "source": [
    "#Round the time\n",
    "IBI['IBI_detected'] = IBI['IBI_detected'].dt.round('1s')"
   ]
  },
  {
   "cell_type": "code",
   "execution_count": 403,
   "id": "c844fe11",
   "metadata": {},
   "outputs": [
    {
     "data": {
      "text/html": [
       "<div>\n",
       "<style scoped>\n",
       "    .dataframe tbody tr th:only-of-type {\n",
       "        vertical-align: middle;\n",
       "    }\n",
       "\n",
       "    .dataframe tbody tr th {\n",
       "        vertical-align: top;\n",
       "    }\n",
       "\n",
       "    .dataframe thead th {\n",
       "        text-align: right;\n",
       "    }\n",
       "</style>\n",
       "<table border=\"1\" class=\"dataframe\">\n",
       "  <thead>\n",
       "    <tr style=\"text-align: right;\">\n",
       "      <th></th>\n",
       "      <th>IBI1</th>\n",
       "      <th>IBI2</th>\n",
       "      <th>ID</th>\n",
       "      <th>Initial_Time</th>\n",
       "      <th>IBI_detected</th>\n",
       "    </tr>\n",
       "  </thead>\n",
       "  <tbody>\n",
       "    <tr>\n",
       "      <th>0</th>\n",
       "      <td>0 days 00:00:11.859375</td>\n",
       "      <td>0.640625</td>\n",
       "      <td>S11</td>\n",
       "      <td>2022-02-14 15:20:28</td>\n",
       "      <td>2022-02-14 15:20:40</td>\n",
       "    </tr>\n",
       "    <tr>\n",
       "      <th>1</th>\n",
       "      <td>0 days 00:00:12.500000</td>\n",
       "      <td>0.640625</td>\n",
       "      <td>S11</td>\n",
       "      <td>2022-02-14 15:20:28</td>\n",
       "      <td>2022-02-14 15:20:40</td>\n",
       "    </tr>\n",
       "    <tr>\n",
       "      <th>2</th>\n",
       "      <td>0 days 00:00:13.140625</td>\n",
       "      <td>0.640625</td>\n",
       "      <td>S11</td>\n",
       "      <td>2022-02-14 15:20:28</td>\n",
       "      <td>2022-02-14 15:20:41</td>\n",
       "    </tr>\n",
       "    <tr>\n",
       "      <th>3</th>\n",
       "      <td>0 days 00:00:13.734375</td>\n",
       "      <td>0.593750</td>\n",
       "      <td>S11</td>\n",
       "      <td>2022-02-14 15:20:28</td>\n",
       "      <td>2022-02-14 15:20:42</td>\n",
       "    </tr>\n",
       "    <tr>\n",
       "      <th>4</th>\n",
       "      <td>0 days 00:00:25.125000</td>\n",
       "      <td>0.671875</td>\n",
       "      <td>S11</td>\n",
       "      <td>2022-02-14 15:20:28</td>\n",
       "      <td>2022-02-14 15:20:53</td>\n",
       "    </tr>\n",
       "    <tr>\n",
       "      <th>...</th>\n",
       "      <td>...</td>\n",
       "      <td>...</td>\n",
       "      <td>...</td>\n",
       "      <td>...</td>\n",
       "      <td>...</td>\n",
       "    </tr>\n",
       "    <tr>\n",
       "      <th>1105</th>\n",
       "      <td>0 days 00:54:16.296875</td>\n",
       "      <td>0.921875</td>\n",
       "      <td>S35</td>\n",
       "      <td>2022-03-09 15:12:04</td>\n",
       "      <td>2022-03-09 16:06:20</td>\n",
       "    </tr>\n",
       "    <tr>\n",
       "      <th>1106</th>\n",
       "      <td>0 days 00:55:06.687500</td>\n",
       "      <td>0.484375</td>\n",
       "      <td>S35</td>\n",
       "      <td>2022-03-09 15:12:04</td>\n",
       "      <td>2022-03-09 16:07:11</td>\n",
       "    </tr>\n",
       "    <tr>\n",
       "      <th>1107</th>\n",
       "      <td>0 days 00:55:07.296875</td>\n",
       "      <td>0.609375</td>\n",
       "      <td>S35</td>\n",
       "      <td>2022-03-09 15:12:04</td>\n",
       "      <td>2022-03-09 16:07:11</td>\n",
       "    </tr>\n",
       "    <tr>\n",
       "      <th>1108</th>\n",
       "      <td>0 days 00:55:44.734375</td>\n",
       "      <td>0.781250</td>\n",
       "      <td>S35</td>\n",
       "      <td>2022-03-09 15:12:04</td>\n",
       "      <td>2022-03-09 16:07:49</td>\n",
       "    </tr>\n",
       "    <tr>\n",
       "      <th>1109</th>\n",
       "      <td>0 days 00:55:45.750000</td>\n",
       "      <td>1.015625</td>\n",
       "      <td>S35</td>\n",
       "      <td>2022-03-09 15:12:04</td>\n",
       "      <td>2022-03-09 16:07:50</td>\n",
       "    </tr>\n",
       "  </tbody>\n",
       "</table>\n",
       "<p>33700 rows × 5 columns</p>\n",
       "</div>"
      ],
      "text/plain": [
       "                       IBI1      IBI2   ID        Initial_Time  \\\n",
       "0    0 days 00:00:11.859375  0.640625  S11 2022-02-14 15:20:28   \n",
       "1    0 days 00:00:12.500000  0.640625  S11 2022-02-14 15:20:28   \n",
       "2    0 days 00:00:13.140625  0.640625  S11 2022-02-14 15:20:28   \n",
       "3    0 days 00:00:13.734375  0.593750  S11 2022-02-14 15:20:28   \n",
       "4    0 days 00:00:25.125000  0.671875  S11 2022-02-14 15:20:28   \n",
       "...                     ...       ...  ...                 ...   \n",
       "1105 0 days 00:54:16.296875  0.921875  S35 2022-03-09 15:12:04   \n",
       "1106 0 days 00:55:06.687500  0.484375  S35 2022-03-09 15:12:04   \n",
       "1107 0 days 00:55:07.296875  0.609375  S35 2022-03-09 15:12:04   \n",
       "1108 0 days 00:55:44.734375  0.781250  S35 2022-03-09 15:12:04   \n",
       "1109 0 days 00:55:45.750000  1.015625  S35 2022-03-09 15:12:04   \n",
       "\n",
       "            IBI_detected  \n",
       "0    2022-02-14 15:20:40  \n",
       "1    2022-02-14 15:20:40  \n",
       "2    2022-02-14 15:20:41  \n",
       "3    2022-02-14 15:20:42  \n",
       "4    2022-02-14 15:20:53  \n",
       "...                  ...  \n",
       "1105 2022-03-09 16:06:20  \n",
       "1106 2022-03-09 16:07:11  \n",
       "1107 2022-03-09 16:07:11  \n",
       "1108 2022-03-09 16:07:49  \n",
       "1109 2022-03-09 16:07:50  \n",
       "\n",
       "[33700 rows x 5 columns]"
      ]
     },
     "execution_count": 403,
     "metadata": {},
     "output_type": "execute_result"
    }
   ],
   "source": [
    "IBI"
   ]
  },
  {
   "cell_type": "code",
   "execution_count": 407,
   "id": "3f36f697",
   "metadata": {},
   "outputs": [],
   "source": [
    "IBI.to_csv('IBI.csv')"
   ]
  },
  {
   "cell_type": "code",
   "execution_count": 395,
   "id": "ef840577",
   "metadata": {},
   "outputs": [],
   "source": [
    "IBI = IBI.drop('IBI_detected', axis = 1)"
   ]
  },
  {
   "cell_type": "code",
   "execution_count": 406,
   "id": "ef96914d",
   "metadata": {},
   "outputs": [],
   "source": [
    "new_IBI = IBI.drop(['IBI1', 'Initial_Time'], axis=1)"
   ]
  },
  {
   "cell_type": "code",
   "execution_count": 408,
   "id": "ca3efb16",
   "metadata": {},
   "outputs": [
    {
     "data": {
      "text/html": [
       "<div>\n",
       "<style scoped>\n",
       "    .dataframe tbody tr th:only-of-type {\n",
       "        vertical-align: middle;\n",
       "    }\n",
       "\n",
       "    .dataframe tbody tr th {\n",
       "        vertical-align: top;\n",
       "    }\n",
       "\n",
       "    .dataframe thead th {\n",
       "        text-align: right;\n",
       "    }\n",
       "</style>\n",
       "<table border=\"1\" class=\"dataframe\">\n",
       "  <thead>\n",
       "    <tr style=\"text-align: right;\">\n",
       "      <th></th>\n",
       "      <th>IBI2</th>\n",
       "      <th>ID</th>\n",
       "      <th>IBI_detected</th>\n",
       "    </tr>\n",
       "  </thead>\n",
       "  <tbody>\n",
       "    <tr>\n",
       "      <th>0</th>\n",
       "      <td>0.640625</td>\n",
       "      <td>S11</td>\n",
       "      <td>2022-02-14 15:20:40</td>\n",
       "    </tr>\n",
       "    <tr>\n",
       "      <th>1</th>\n",
       "      <td>0.640625</td>\n",
       "      <td>S11</td>\n",
       "      <td>2022-02-14 15:20:40</td>\n",
       "    </tr>\n",
       "    <tr>\n",
       "      <th>2</th>\n",
       "      <td>0.640625</td>\n",
       "      <td>S11</td>\n",
       "      <td>2022-02-14 15:20:41</td>\n",
       "    </tr>\n",
       "    <tr>\n",
       "      <th>3</th>\n",
       "      <td>0.593750</td>\n",
       "      <td>S11</td>\n",
       "      <td>2022-02-14 15:20:42</td>\n",
       "    </tr>\n",
       "    <tr>\n",
       "      <th>4</th>\n",
       "      <td>0.671875</td>\n",
       "      <td>S11</td>\n",
       "      <td>2022-02-14 15:20:53</td>\n",
       "    </tr>\n",
       "    <tr>\n",
       "      <th>...</th>\n",
       "      <td>...</td>\n",
       "      <td>...</td>\n",
       "      <td>...</td>\n",
       "    </tr>\n",
       "    <tr>\n",
       "      <th>1105</th>\n",
       "      <td>0.921875</td>\n",
       "      <td>S35</td>\n",
       "      <td>2022-03-09 16:06:20</td>\n",
       "    </tr>\n",
       "    <tr>\n",
       "      <th>1106</th>\n",
       "      <td>0.484375</td>\n",
       "      <td>S35</td>\n",
       "      <td>2022-03-09 16:07:11</td>\n",
       "    </tr>\n",
       "    <tr>\n",
       "      <th>1107</th>\n",
       "      <td>0.609375</td>\n",
       "      <td>S35</td>\n",
       "      <td>2022-03-09 16:07:11</td>\n",
       "    </tr>\n",
       "    <tr>\n",
       "      <th>1108</th>\n",
       "      <td>0.781250</td>\n",
       "      <td>S35</td>\n",
       "      <td>2022-03-09 16:07:49</td>\n",
       "    </tr>\n",
       "    <tr>\n",
       "      <th>1109</th>\n",
       "      <td>1.015625</td>\n",
       "      <td>S35</td>\n",
       "      <td>2022-03-09 16:07:50</td>\n",
       "    </tr>\n",
       "  </tbody>\n",
       "</table>\n",
       "<p>33700 rows × 3 columns</p>\n",
       "</div>"
      ],
      "text/plain": [
       "          IBI2   ID        IBI_detected\n",
       "0     0.640625  S11 2022-02-14 15:20:40\n",
       "1     0.640625  S11 2022-02-14 15:20:40\n",
       "2     0.640625  S11 2022-02-14 15:20:41\n",
       "3     0.593750  S11 2022-02-14 15:20:42\n",
       "4     0.671875  S11 2022-02-14 15:20:53\n",
       "...        ...  ...                 ...\n",
       "1105  0.921875  S35 2022-03-09 16:06:20\n",
       "1106  0.484375  S35 2022-03-09 16:07:11\n",
       "1107  0.609375  S35 2022-03-09 16:07:11\n",
       "1108  0.781250  S35 2022-03-09 16:07:49\n",
       "1109  1.015625  S35 2022-03-09 16:07:50\n",
       "\n",
       "[33700 rows x 3 columns]"
      ]
     },
     "execution_count": 408,
     "metadata": {},
     "output_type": "execute_result"
    }
   ],
   "source": [
    "new_IBI"
   ]
  },
  {
   "cell_type": "code",
   "execution_count": 409,
   "id": "e1ee924c",
   "metadata": {},
   "outputs": [],
   "source": [
    "new_IBI = IBI.rename(columns={'IBI_detected': 'Time'})"
   ]
  },
  {
   "cell_type": "code",
   "execution_count": 414,
   "id": "6d88e41f",
   "metadata": {},
   "outputs": [
    {
     "data": {
      "text/html": [
       "<div>\n",
       "<style scoped>\n",
       "    .dataframe tbody tr th:only-of-type {\n",
       "        vertical-align: middle;\n",
       "    }\n",
       "\n",
       "    .dataframe tbody tr th {\n",
       "        vertical-align: top;\n",
       "    }\n",
       "\n",
       "    .dataframe thead th {\n",
       "        text-align: right;\n",
       "    }\n",
       "</style>\n",
       "<table border=\"1\" class=\"dataframe\">\n",
       "  <thead>\n",
       "    <tr style=\"text-align: right;\">\n",
       "      <th></th>\n",
       "      <th>IBI1</th>\n",
       "      <th>IBI2</th>\n",
       "      <th>ID</th>\n",
       "      <th>Initial_Time</th>\n",
       "      <th>Time</th>\n",
       "    </tr>\n",
       "  </thead>\n",
       "  <tbody>\n",
       "    <tr>\n",
       "      <th>0</th>\n",
       "      <td>0 days 00:00:11.859375</td>\n",
       "      <td>0.640625</td>\n",
       "      <td>S11</td>\n",
       "      <td>2022-02-14 15:20:28</td>\n",
       "      <td>2022-02-14 15:20:40</td>\n",
       "    </tr>\n",
       "    <tr>\n",
       "      <th>1</th>\n",
       "      <td>0 days 00:00:12.500000</td>\n",
       "      <td>0.640625</td>\n",
       "      <td>S11</td>\n",
       "      <td>2022-02-14 15:20:28</td>\n",
       "      <td>2022-02-14 15:20:40</td>\n",
       "    </tr>\n",
       "    <tr>\n",
       "      <th>2</th>\n",
       "      <td>0 days 00:00:13.140625</td>\n",
       "      <td>0.640625</td>\n",
       "      <td>S11</td>\n",
       "      <td>2022-02-14 15:20:28</td>\n",
       "      <td>2022-02-14 15:20:41</td>\n",
       "    </tr>\n",
       "    <tr>\n",
       "      <th>3</th>\n",
       "      <td>0 days 00:00:13.734375</td>\n",
       "      <td>0.593750</td>\n",
       "      <td>S11</td>\n",
       "      <td>2022-02-14 15:20:28</td>\n",
       "      <td>2022-02-14 15:20:42</td>\n",
       "    </tr>\n",
       "    <tr>\n",
       "      <th>4</th>\n",
       "      <td>0 days 00:00:25.125000</td>\n",
       "      <td>0.671875</td>\n",
       "      <td>S11</td>\n",
       "      <td>2022-02-14 15:20:28</td>\n",
       "      <td>2022-02-14 15:20:53</td>\n",
       "    </tr>\n",
       "    <tr>\n",
       "      <th>...</th>\n",
       "      <td>...</td>\n",
       "      <td>...</td>\n",
       "      <td>...</td>\n",
       "      <td>...</td>\n",
       "      <td>...</td>\n",
       "    </tr>\n",
       "    <tr>\n",
       "      <th>1105</th>\n",
       "      <td>0 days 00:54:16.296875</td>\n",
       "      <td>0.921875</td>\n",
       "      <td>S35</td>\n",
       "      <td>2022-03-09 15:12:04</td>\n",
       "      <td>2022-03-09 16:06:20</td>\n",
       "    </tr>\n",
       "    <tr>\n",
       "      <th>1106</th>\n",
       "      <td>0 days 00:55:06.687500</td>\n",
       "      <td>0.484375</td>\n",
       "      <td>S35</td>\n",
       "      <td>2022-03-09 15:12:04</td>\n",
       "      <td>2022-03-09 16:07:11</td>\n",
       "    </tr>\n",
       "    <tr>\n",
       "      <th>1107</th>\n",
       "      <td>0 days 00:55:07.296875</td>\n",
       "      <td>0.609375</td>\n",
       "      <td>S35</td>\n",
       "      <td>2022-03-09 15:12:04</td>\n",
       "      <td>2022-03-09 16:07:11</td>\n",
       "    </tr>\n",
       "    <tr>\n",
       "      <th>1108</th>\n",
       "      <td>0 days 00:55:44.734375</td>\n",
       "      <td>0.781250</td>\n",
       "      <td>S35</td>\n",
       "      <td>2022-03-09 15:12:04</td>\n",
       "      <td>2022-03-09 16:07:49</td>\n",
       "    </tr>\n",
       "    <tr>\n",
       "      <th>1109</th>\n",
       "      <td>0 days 00:55:45.750000</td>\n",
       "      <td>1.015625</td>\n",
       "      <td>S35</td>\n",
       "      <td>2022-03-09 15:12:04</td>\n",
       "      <td>2022-03-09 16:07:50</td>\n",
       "    </tr>\n",
       "  </tbody>\n",
       "</table>\n",
       "<p>33700 rows × 5 columns</p>\n",
       "</div>"
      ],
      "text/plain": [
       "                       IBI1      IBI2   ID        Initial_Time  \\\n",
       "0    0 days 00:00:11.859375  0.640625  S11 2022-02-14 15:20:28   \n",
       "1    0 days 00:00:12.500000  0.640625  S11 2022-02-14 15:20:28   \n",
       "2    0 days 00:00:13.140625  0.640625  S11 2022-02-14 15:20:28   \n",
       "3    0 days 00:00:13.734375  0.593750  S11 2022-02-14 15:20:28   \n",
       "4    0 days 00:00:25.125000  0.671875  S11 2022-02-14 15:20:28   \n",
       "...                     ...       ...  ...                 ...   \n",
       "1105 0 days 00:54:16.296875  0.921875  S35 2022-03-09 15:12:04   \n",
       "1106 0 days 00:55:06.687500  0.484375  S35 2022-03-09 15:12:04   \n",
       "1107 0 days 00:55:07.296875  0.609375  S35 2022-03-09 15:12:04   \n",
       "1108 0 days 00:55:44.734375  0.781250  S35 2022-03-09 15:12:04   \n",
       "1109 0 days 00:55:45.750000  1.015625  S35 2022-03-09 15:12:04   \n",
       "\n",
       "                    Time  \n",
       "0    2022-02-14 15:20:40  \n",
       "1    2022-02-14 15:20:40  \n",
       "2    2022-02-14 15:20:41  \n",
       "3    2022-02-14 15:20:42  \n",
       "4    2022-02-14 15:20:53  \n",
       "...                  ...  \n",
       "1105 2022-03-09 16:06:20  \n",
       "1106 2022-03-09 16:07:11  \n",
       "1107 2022-03-09 16:07:11  \n",
       "1108 2022-03-09 16:07:49  \n",
       "1109 2022-03-09 16:07:50  \n",
       "\n",
       "[33700 rows x 5 columns]"
      ]
     },
     "execution_count": 414,
     "metadata": {},
     "output_type": "execute_result"
    }
   ],
   "source": [
    "new_IBI"
   ]
  },
  {
   "cell_type": "code",
   "execution_count": 410,
   "id": "df682303",
   "metadata": {},
   "outputs": [],
   "source": [
    "cleaned_df = pd.merge(cleaned_df, new_IBI, on=['ID', 'Time'], how='outer')"
   ]
  },
  {
   "cell_type": "code",
   "execution_count": 411,
   "id": "839a5f19",
   "metadata": {},
   "outputs": [
    {
     "data": {
      "text/html": [
       "<div>\n",
       "<style scoped>\n",
       "    .dataframe tbody tr th:only-of-type {\n",
       "        vertical-align: middle;\n",
       "    }\n",
       "\n",
       "    .dataframe tbody tr th {\n",
       "        vertical-align: top;\n",
       "    }\n",
       "\n",
       "    .dataframe thead th {\n",
       "        text-align: right;\n",
       "    }\n",
       "</style>\n",
       "<table border=\"1\" class=\"dataframe\">\n",
       "  <thead>\n",
       "    <tr style=\"text-align: right;\">\n",
       "      <th></th>\n",
       "      <th>HR</th>\n",
       "      <th>Time</th>\n",
       "      <th>ID</th>\n",
       "      <th>BVP</th>\n",
       "      <th>TEMP</th>\n",
       "      <th>EDA</th>\n",
       "      <th>ACC</th>\n",
       "      <th>Stress</th>\n",
       "      <th>IBI1</th>\n",
       "      <th>IBI2</th>\n",
       "      <th>Initial_Time</th>\n",
       "    </tr>\n",
       "  </thead>\n",
       "  <tbody>\n",
       "    <tr>\n",
       "      <th>0</th>\n",
       "      <td>56.00</td>\n",
       "      <td>2022-02-14 15:20:28</td>\n",
       "      <td>S11</td>\n",
       "      <td>-0.0</td>\n",
       "      <td>27.25</td>\n",
       "      <td>0.000000</td>\n",
       "      <td>36.706039</td>\n",
       "      <td>0.0</td>\n",
       "      <td>NaT</td>\n",
       "      <td>NaN</td>\n",
       "      <td>NaT</td>\n",
       "    </tr>\n",
       "    <tr>\n",
       "      <th>1</th>\n",
       "      <td>55.67</td>\n",
       "      <td>2022-02-14 15:20:29</td>\n",
       "      <td>S11</td>\n",
       "      <td>-0.0</td>\n",
       "      <td>27.25</td>\n",
       "      <td>0.060219</td>\n",
       "      <td>36.762709</td>\n",
       "      <td>0.0</td>\n",
       "      <td>NaT</td>\n",
       "      <td>NaN</td>\n",
       "      <td>NaT</td>\n",
       "    </tr>\n",
       "    <tr>\n",
       "      <th>2</th>\n",
       "      <td>55.75</td>\n",
       "      <td>2022-02-14 15:20:30</td>\n",
       "      <td>S11</td>\n",
       "      <td>-0.0</td>\n",
       "      <td>27.25</td>\n",
       "      <td>0.060219</td>\n",
       "      <td>36.762709</td>\n",
       "      <td>0.0</td>\n",
       "      <td>NaT</td>\n",
       "      <td>NaN</td>\n",
       "      <td>NaT</td>\n",
       "    </tr>\n",
       "    <tr>\n",
       "      <th>3</th>\n",
       "      <td>57.40</td>\n",
       "      <td>2022-02-14 15:20:31</td>\n",
       "      <td>S11</td>\n",
       "      <td>-0.0</td>\n",
       "      <td>27.25</td>\n",
       "      <td>0.060219</td>\n",
       "      <td>36.762709</td>\n",
       "      <td>0.0</td>\n",
       "      <td>NaT</td>\n",
       "      <td>NaN</td>\n",
       "      <td>NaT</td>\n",
       "    </tr>\n",
       "    <tr>\n",
       "      <th>4</th>\n",
       "      <td>57.00</td>\n",
       "      <td>2022-02-14 15:20:32</td>\n",
       "      <td>S11</td>\n",
       "      <td>-0.0</td>\n",
       "      <td>27.25</td>\n",
       "      <td>0.120438</td>\n",
       "      <td>36.762709</td>\n",
       "      <td>0.0</td>\n",
       "      <td>NaT</td>\n",
       "      <td>NaN</td>\n",
       "      <td>NaT</td>\n",
       "    </tr>\n",
       "    <tr>\n",
       "      <th>...</th>\n",
       "      <td>...</td>\n",
       "      <td>...</td>\n",
       "      <td>...</td>\n",
       "      <td>...</td>\n",
       "      <td>...</td>\n",
       "      <td>...</td>\n",
       "      <td>...</td>\n",
       "      <td>...</td>\n",
       "      <td>...</td>\n",
       "      <td>...</td>\n",
       "      <td>...</td>\n",
       "    </tr>\n",
       "    <tr>\n",
       "      <th>89709</th>\n",
       "      <td>NaN</td>\n",
       "      <td>2022-03-07 16:03:44</td>\n",
       "      <td>S31</td>\n",
       "      <td>NaN</td>\n",
       "      <td>NaN</td>\n",
       "      <td>NaN</td>\n",
       "      <td>NaN</td>\n",
       "      <td>NaN</td>\n",
       "      <td>0 days 00:54:56.453125</td>\n",
       "      <td>0.812500</td>\n",
       "      <td>2022-03-07 15:08:48</td>\n",
       "    </tr>\n",
       "    <tr>\n",
       "      <th>89710</th>\n",
       "      <td>NaN</td>\n",
       "      <td>2022-03-07 16:03:45</td>\n",
       "      <td>S31</td>\n",
       "      <td>NaN</td>\n",
       "      <td>NaN</td>\n",
       "      <td>NaN</td>\n",
       "      <td>NaN</td>\n",
       "      <td>NaN</td>\n",
       "      <td>0 days 00:54:57.265625</td>\n",
       "      <td>0.812500</td>\n",
       "      <td>2022-03-07 15:08:48</td>\n",
       "    </tr>\n",
       "    <tr>\n",
       "      <th>89711</th>\n",
       "      <td>NaN</td>\n",
       "      <td>2022-03-07 16:03:46</td>\n",
       "      <td>S31</td>\n",
       "      <td>NaN</td>\n",
       "      <td>NaN</td>\n",
       "      <td>NaN</td>\n",
       "      <td>NaN</td>\n",
       "      <td>NaN</td>\n",
       "      <td>0 days 00:54:58.109375</td>\n",
       "      <td>0.843750</td>\n",
       "      <td>2022-03-07 15:08:48</td>\n",
       "    </tr>\n",
       "    <tr>\n",
       "      <th>89712</th>\n",
       "      <td>NaN</td>\n",
       "      <td>2022-03-07 16:03:47</td>\n",
       "      <td>S31</td>\n",
       "      <td>NaN</td>\n",
       "      <td>NaN</td>\n",
       "      <td>NaN</td>\n",
       "      <td>NaN</td>\n",
       "      <td>NaN</td>\n",
       "      <td>0 days 00:54:59.015625</td>\n",
       "      <td>0.906250</td>\n",
       "      <td>2022-03-07 15:08:48</td>\n",
       "    </tr>\n",
       "    <tr>\n",
       "      <th>89713</th>\n",
       "      <td>NaN</td>\n",
       "      <td>2022-03-07 16:03:48</td>\n",
       "      <td>S31</td>\n",
       "      <td>NaN</td>\n",
       "      <td>NaN</td>\n",
       "      <td>NaN</td>\n",
       "      <td>NaN</td>\n",
       "      <td>NaN</td>\n",
       "      <td>0 days 00:54:59.843750</td>\n",
       "      <td>0.828125</td>\n",
       "      <td>2022-03-07 15:08:48</td>\n",
       "    </tr>\n",
       "  </tbody>\n",
       "</table>\n",
       "<p>89714 rows × 11 columns</p>\n",
       "</div>"
      ],
      "text/plain": [
       "          HR                Time   ID  BVP   TEMP       EDA        ACC  \\\n",
       "0      56.00 2022-02-14 15:20:28  S11 -0.0  27.25  0.000000  36.706039   \n",
       "1      55.67 2022-02-14 15:20:29  S11 -0.0  27.25  0.060219  36.762709   \n",
       "2      55.75 2022-02-14 15:20:30  S11 -0.0  27.25  0.060219  36.762709   \n",
       "3      57.40 2022-02-14 15:20:31  S11 -0.0  27.25  0.060219  36.762709   \n",
       "4      57.00 2022-02-14 15:20:32  S11 -0.0  27.25  0.120438  36.762709   \n",
       "...      ...                 ...  ...  ...    ...       ...        ...   \n",
       "89709    NaN 2022-03-07 16:03:44  S31  NaN    NaN       NaN        NaN   \n",
       "89710    NaN 2022-03-07 16:03:45  S31  NaN    NaN       NaN        NaN   \n",
       "89711    NaN 2022-03-07 16:03:46  S31  NaN    NaN       NaN        NaN   \n",
       "89712    NaN 2022-03-07 16:03:47  S31  NaN    NaN       NaN        NaN   \n",
       "89713    NaN 2022-03-07 16:03:48  S31  NaN    NaN       NaN        NaN   \n",
       "\n",
       "       Stress                   IBI1      IBI2        Initial_Time  \n",
       "0         0.0                    NaT       NaN                 NaT  \n",
       "1         0.0                    NaT       NaN                 NaT  \n",
       "2         0.0                    NaT       NaN                 NaT  \n",
       "3         0.0                    NaT       NaN                 NaT  \n",
       "4         0.0                    NaT       NaN                 NaT  \n",
       "...       ...                    ...       ...                 ...  \n",
       "89709     NaN 0 days 00:54:56.453125  0.812500 2022-03-07 15:08:48  \n",
       "89710     NaN 0 days 00:54:57.265625  0.812500 2022-03-07 15:08:48  \n",
       "89711     NaN 0 days 00:54:58.109375  0.843750 2022-03-07 15:08:48  \n",
       "89712     NaN 0 days 00:54:59.015625  0.906250 2022-03-07 15:08:48  \n",
       "89713     NaN 0 days 00:54:59.843750  0.828125 2022-03-07 15:08:48  \n",
       "\n",
       "[89714 rows x 11 columns]"
      ]
     },
     "execution_count": 411,
     "metadata": {},
     "output_type": "execute_result"
    }
   ],
   "source": [
    "cleaned_df"
   ]
  },
  {
   "cell_type": "code",
   "execution_count": 427,
   "id": "508d5e53",
   "metadata": {},
   "outputs": [],
   "source": [
    "cleaned_df[cleaned_df['ID']=='S11'].to_csv('try.csv')"
   ]
  },
  {
   "cell_type": "code",
   "execution_count": 415,
   "id": "975a6b44",
   "metadata": {},
   "outputs": [],
   "source": [
    "cleaned_df = cleaned_df.drop(['IBI1', 'Initial_Time'], axis=1)"
   ]
  },
  {
   "cell_type": "code",
   "execution_count": 419,
   "id": "b0563f26",
   "metadata": {},
   "outputs": [
    {
     "data": {
      "text/html": [
       "<div>\n",
       "<style scoped>\n",
       "    .dataframe tbody tr th:only-of-type {\n",
       "        vertical-align: middle;\n",
       "    }\n",
       "\n",
       "    .dataframe tbody tr th {\n",
       "        vertical-align: top;\n",
       "    }\n",
       "\n",
       "    .dataframe thead th {\n",
       "        text-align: right;\n",
       "    }\n",
       "</style>\n",
       "<table border=\"1\" class=\"dataframe\">\n",
       "  <thead>\n",
       "    <tr style=\"text-align: right;\">\n",
       "      <th></th>\n",
       "      <th>HR</th>\n",
       "      <th>Time</th>\n",
       "      <th>ID</th>\n",
       "      <th>BVP</th>\n",
       "      <th>TEMP</th>\n",
       "      <th>EDA</th>\n",
       "      <th>ACC</th>\n",
       "      <th>Stress</th>\n",
       "      <th>IBI2</th>\n",
       "      <th>IBI_detected</th>\n",
       "    </tr>\n",
       "  </thead>\n",
       "  <tbody>\n",
       "    <tr>\n",
       "      <th>84275</th>\n",
       "      <td>109.00</td>\n",
       "      <td>2022-03-09 15:12:04</td>\n",
       "      <td>S35</td>\n",
       "      <td>-0.00</td>\n",
       "      <td>33.73</td>\n",
       "      <td>0.000000</td>\n",
       "      <td>41.960299</td>\n",
       "      <td>0.0</td>\n",
       "      <td>NaN</td>\n",
       "      <td>0</td>\n",
       "    </tr>\n",
       "    <tr>\n",
       "      <th>84278</th>\n",
       "      <td>90.00</td>\n",
       "      <td>2022-03-09 15:12:05</td>\n",
       "      <td>S35</td>\n",
       "      <td>-0.00</td>\n",
       "      <td>33.73</td>\n",
       "      <td>0.301113</td>\n",
       "      <td>39.885616</td>\n",
       "      <td>0.0</td>\n",
       "      <td>NaN</td>\n",
       "      <td>0</td>\n",
       "    </tr>\n",
       "    <tr>\n",
       "      <th>84279</th>\n",
       "      <td>85.50</td>\n",
       "      <td>2022-03-09 15:12:06</td>\n",
       "      <td>S35</td>\n",
       "      <td>-0.00</td>\n",
       "      <td>33.73</td>\n",
       "      <td>0.301113</td>\n",
       "      <td>39.885616</td>\n",
       "      <td>0.0</td>\n",
       "      <td>NaN</td>\n",
       "      <td>0</td>\n",
       "    </tr>\n",
       "    <tr>\n",
       "      <th>84281</th>\n",
       "      <td>82.60</td>\n",
       "      <td>2022-03-09 15:12:07</td>\n",
       "      <td>S35</td>\n",
       "      <td>-0.00</td>\n",
       "      <td>33.73</td>\n",
       "      <td>0.301113</td>\n",
       "      <td>39.885616</td>\n",
       "      <td>0.0</td>\n",
       "      <td>NaN</td>\n",
       "      <td>0</td>\n",
       "    </tr>\n",
       "    <tr>\n",
       "      <th>84283</th>\n",
       "      <td>80.67</td>\n",
       "      <td>2022-03-09 15:12:08</td>\n",
       "      <td>S35</td>\n",
       "      <td>-0.00</td>\n",
       "      <td>33.73</td>\n",
       "      <td>0.602226</td>\n",
       "      <td>39.885616</td>\n",
       "      <td>0.0</td>\n",
       "      <td>NaN</td>\n",
       "      <td>0</td>\n",
       "    </tr>\n",
       "    <tr>\n",
       "      <th>...</th>\n",
       "      <td>...</td>\n",
       "      <td>...</td>\n",
       "      <td>...</td>\n",
       "      <td>...</td>\n",
       "      <td>...</td>\n",
       "      <td>...</td>\n",
       "      <td>...</td>\n",
       "      <td>...</td>\n",
       "      <td>...</td>\n",
       "      <td>...</td>\n",
       "    </tr>\n",
       "    <tr>\n",
       "      <th>89692</th>\n",
       "      <td>65.37</td>\n",
       "      <td>2022-03-09 16:10:31</td>\n",
       "      <td>S35</td>\n",
       "      <td>38.43</td>\n",
       "      <td>33.55</td>\n",
       "      <td>0.481407</td>\n",
       "      <td>37.834261</td>\n",
       "      <td>0.0</td>\n",
       "      <td>NaN</td>\n",
       "      <td>0</td>\n",
       "    </tr>\n",
       "    <tr>\n",
       "      <th>89693</th>\n",
       "      <td>65.42</td>\n",
       "      <td>2022-03-09 16:10:32</td>\n",
       "      <td>S35</td>\n",
       "      <td>38.43</td>\n",
       "      <td>33.55</td>\n",
       "      <td>0.480766</td>\n",
       "      <td>37.834261</td>\n",
       "      <td>0.0</td>\n",
       "      <td>NaN</td>\n",
       "      <td>0</td>\n",
       "    </tr>\n",
       "    <tr>\n",
       "      <th>89694</th>\n",
       "      <td>65.45</td>\n",
       "      <td>2022-03-09 16:10:33</td>\n",
       "      <td>S35</td>\n",
       "      <td>38.43</td>\n",
       "      <td>30.81</td>\n",
       "      <td>0.363384</td>\n",
       "      <td>37.834261</td>\n",
       "      <td>0.0</td>\n",
       "      <td>NaN</td>\n",
       "      <td>0</td>\n",
       "    </tr>\n",
       "    <tr>\n",
       "      <th>89695</th>\n",
       "      <td>65.47</td>\n",
       "      <td>2022-03-09 16:10:34</td>\n",
       "      <td>S35</td>\n",
       "      <td>38.43</td>\n",
       "      <td>30.81</td>\n",
       "      <td>0.363384</td>\n",
       "      <td>37.834261</td>\n",
       "      <td>0.0</td>\n",
       "      <td>NaN</td>\n",
       "      <td>0</td>\n",
       "    </tr>\n",
       "    <tr>\n",
       "      <th>89696</th>\n",
       "      <td>65.50</td>\n",
       "      <td>2022-03-09 16:10:35</td>\n",
       "      <td>S35</td>\n",
       "      <td>38.43</td>\n",
       "      <td>30.81</td>\n",
       "      <td>0.363384</td>\n",
       "      <td>37.834261</td>\n",
       "      <td>0.0</td>\n",
       "      <td>NaN</td>\n",
       "      <td>0</td>\n",
       "    </tr>\n",
       "  </tbody>\n",
       "</table>\n",
       "<p>3632 rows × 10 columns</p>\n",
       "</div>"
      ],
      "text/plain": [
       "           HR                Time   ID    BVP   TEMP       EDA        ACC  \\\n",
       "84275  109.00 2022-03-09 15:12:04  S35  -0.00  33.73  0.000000  41.960299   \n",
       "84278   90.00 2022-03-09 15:12:05  S35  -0.00  33.73  0.301113  39.885616   \n",
       "84279   85.50 2022-03-09 15:12:06  S35  -0.00  33.73  0.301113  39.885616   \n",
       "84281   82.60 2022-03-09 15:12:07  S35  -0.00  33.73  0.301113  39.885616   \n",
       "84283   80.67 2022-03-09 15:12:08  S35  -0.00  33.73  0.602226  39.885616   \n",
       "...       ...                 ...  ...    ...    ...       ...        ...   \n",
       "89692   65.37 2022-03-09 16:10:31  S35  38.43  33.55  0.481407  37.834261   \n",
       "89693   65.42 2022-03-09 16:10:32  S35  38.43  33.55  0.480766  37.834261   \n",
       "89694   65.45 2022-03-09 16:10:33  S35  38.43  30.81  0.363384  37.834261   \n",
       "89695   65.47 2022-03-09 16:10:34  S35  38.43  30.81  0.363384  37.834261   \n",
       "89696   65.50 2022-03-09 16:10:35  S35  38.43  30.81  0.363384  37.834261   \n",
       "\n",
       "       Stress  IBI2  IBI_detected  \n",
       "84275     0.0   NaN             0  \n",
       "84278     0.0   NaN             0  \n",
       "84279     0.0   NaN             0  \n",
       "84281     0.0   NaN             0  \n",
       "84283     0.0   NaN             0  \n",
       "...       ...   ...           ...  \n",
       "89692     0.0   NaN             0  \n",
       "89693     0.0   NaN             0  \n",
       "89694     0.0   NaN             0  \n",
       "89695     0.0   NaN             0  \n",
       "89696     0.0   NaN             0  \n",
       "\n",
       "[3632 rows x 10 columns]"
      ]
     },
     "execution_count": 419,
     "metadata": {},
     "output_type": "execute_result"
    }
   ],
   "source": [
    "cleaned_df[cleaned_df['ID']=='S35']"
   ]
  },
  {
   "cell_type": "code",
   "execution_count": 418,
   "id": "a133f3a2",
   "metadata": {},
   "outputs": [],
   "source": [
    "cleaned_df['IBI_detected'] = cleaned_df['IBI2'].notnull().astype(int)"
   ]
  },
  {
   "cell_type": "code",
   "execution_count": 421,
   "id": "4b2688cf",
   "metadata": {},
   "outputs": [],
   "source": [
    "cleaned_df.to_csv('df_includeIBI2.csv')"
   ]
  },
  {
   "cell_type": "code",
   "execution_count": 422,
   "id": "b13eda8e",
   "metadata": {},
   "outputs": [],
   "source": [
    "cleaned_df.drop(columns=['IBI2'], inplace=True)"
   ]
  },
  {
   "cell_type": "code",
   "execution_count": 424,
   "id": "91594fdf",
   "metadata": {},
   "outputs": [
    {
     "data": {
      "text/html": [
       "<div>\n",
       "<style scoped>\n",
       "    .dataframe tbody tr th:only-of-type {\n",
       "        vertical-align: middle;\n",
       "    }\n",
       "\n",
       "    .dataframe tbody tr th {\n",
       "        vertical-align: top;\n",
       "    }\n",
       "\n",
       "    .dataframe thead th {\n",
       "        text-align: right;\n",
       "    }\n",
       "</style>\n",
       "<table border=\"1\" class=\"dataframe\">\n",
       "  <thead>\n",
       "    <tr style=\"text-align: right;\">\n",
       "      <th></th>\n",
       "      <th>HR</th>\n",
       "      <th>Time</th>\n",
       "      <th>ID</th>\n",
       "      <th>BVP</th>\n",
       "      <th>TEMP</th>\n",
       "      <th>EDA</th>\n",
       "      <th>ACC</th>\n",
       "      <th>Stress</th>\n",
       "      <th>IBI_detected</th>\n",
       "    </tr>\n",
       "  </thead>\n",
       "  <tbody>\n",
       "    <tr>\n",
       "      <th>84275</th>\n",
       "      <td>109.00</td>\n",
       "      <td>2022-03-09 15:12:04</td>\n",
       "      <td>S35</td>\n",
       "      <td>-0.00</td>\n",
       "      <td>33.73</td>\n",
       "      <td>0.000000</td>\n",
       "      <td>41.960299</td>\n",
       "      <td>0.0</td>\n",
       "      <td>0</td>\n",
       "    </tr>\n",
       "    <tr>\n",
       "      <th>84278</th>\n",
       "      <td>90.00</td>\n",
       "      <td>2022-03-09 15:12:05</td>\n",
       "      <td>S35</td>\n",
       "      <td>-0.00</td>\n",
       "      <td>33.73</td>\n",
       "      <td>0.301113</td>\n",
       "      <td>39.885616</td>\n",
       "      <td>0.0</td>\n",
       "      <td>0</td>\n",
       "    </tr>\n",
       "    <tr>\n",
       "      <th>84279</th>\n",
       "      <td>85.50</td>\n",
       "      <td>2022-03-09 15:12:06</td>\n",
       "      <td>S35</td>\n",
       "      <td>-0.00</td>\n",
       "      <td>33.73</td>\n",
       "      <td>0.301113</td>\n",
       "      <td>39.885616</td>\n",
       "      <td>0.0</td>\n",
       "      <td>0</td>\n",
       "    </tr>\n",
       "    <tr>\n",
       "      <th>84281</th>\n",
       "      <td>82.60</td>\n",
       "      <td>2022-03-09 15:12:07</td>\n",
       "      <td>S35</td>\n",
       "      <td>-0.00</td>\n",
       "      <td>33.73</td>\n",
       "      <td>0.301113</td>\n",
       "      <td>39.885616</td>\n",
       "      <td>0.0</td>\n",
       "      <td>0</td>\n",
       "    </tr>\n",
       "    <tr>\n",
       "      <th>84283</th>\n",
       "      <td>80.67</td>\n",
       "      <td>2022-03-09 15:12:08</td>\n",
       "      <td>S35</td>\n",
       "      <td>-0.00</td>\n",
       "      <td>33.73</td>\n",
       "      <td>0.602226</td>\n",
       "      <td>39.885616</td>\n",
       "      <td>0.0</td>\n",
       "      <td>0</td>\n",
       "    </tr>\n",
       "    <tr>\n",
       "      <th>...</th>\n",
       "      <td>...</td>\n",
       "      <td>...</td>\n",
       "      <td>...</td>\n",
       "      <td>...</td>\n",
       "      <td>...</td>\n",
       "      <td>...</td>\n",
       "      <td>...</td>\n",
       "      <td>...</td>\n",
       "      <td>...</td>\n",
       "    </tr>\n",
       "    <tr>\n",
       "      <th>89692</th>\n",
       "      <td>65.37</td>\n",
       "      <td>2022-03-09 16:10:31</td>\n",
       "      <td>S35</td>\n",
       "      <td>38.43</td>\n",
       "      <td>33.55</td>\n",
       "      <td>0.481407</td>\n",
       "      <td>37.834261</td>\n",
       "      <td>0.0</td>\n",
       "      <td>0</td>\n",
       "    </tr>\n",
       "    <tr>\n",
       "      <th>89693</th>\n",
       "      <td>65.42</td>\n",
       "      <td>2022-03-09 16:10:32</td>\n",
       "      <td>S35</td>\n",
       "      <td>38.43</td>\n",
       "      <td>33.55</td>\n",
       "      <td>0.480766</td>\n",
       "      <td>37.834261</td>\n",
       "      <td>0.0</td>\n",
       "      <td>0</td>\n",
       "    </tr>\n",
       "    <tr>\n",
       "      <th>89694</th>\n",
       "      <td>65.45</td>\n",
       "      <td>2022-03-09 16:10:33</td>\n",
       "      <td>S35</td>\n",
       "      <td>38.43</td>\n",
       "      <td>30.81</td>\n",
       "      <td>0.363384</td>\n",
       "      <td>37.834261</td>\n",
       "      <td>0.0</td>\n",
       "      <td>0</td>\n",
       "    </tr>\n",
       "    <tr>\n",
       "      <th>89695</th>\n",
       "      <td>65.47</td>\n",
       "      <td>2022-03-09 16:10:34</td>\n",
       "      <td>S35</td>\n",
       "      <td>38.43</td>\n",
       "      <td>30.81</td>\n",
       "      <td>0.363384</td>\n",
       "      <td>37.834261</td>\n",
       "      <td>0.0</td>\n",
       "      <td>0</td>\n",
       "    </tr>\n",
       "    <tr>\n",
       "      <th>89696</th>\n",
       "      <td>65.50</td>\n",
       "      <td>2022-03-09 16:10:35</td>\n",
       "      <td>S35</td>\n",
       "      <td>38.43</td>\n",
       "      <td>30.81</td>\n",
       "      <td>0.363384</td>\n",
       "      <td>37.834261</td>\n",
       "      <td>0.0</td>\n",
       "      <td>0</td>\n",
       "    </tr>\n",
       "  </tbody>\n",
       "</table>\n",
       "<p>3632 rows × 9 columns</p>\n",
       "</div>"
      ],
      "text/plain": [
       "           HR                Time   ID    BVP   TEMP       EDA        ACC  \\\n",
       "84275  109.00 2022-03-09 15:12:04  S35  -0.00  33.73  0.000000  41.960299   \n",
       "84278   90.00 2022-03-09 15:12:05  S35  -0.00  33.73  0.301113  39.885616   \n",
       "84279   85.50 2022-03-09 15:12:06  S35  -0.00  33.73  0.301113  39.885616   \n",
       "84281   82.60 2022-03-09 15:12:07  S35  -0.00  33.73  0.301113  39.885616   \n",
       "84283   80.67 2022-03-09 15:12:08  S35  -0.00  33.73  0.602226  39.885616   \n",
       "...       ...                 ...  ...    ...    ...       ...        ...   \n",
       "89692   65.37 2022-03-09 16:10:31  S35  38.43  33.55  0.481407  37.834261   \n",
       "89693   65.42 2022-03-09 16:10:32  S35  38.43  33.55  0.480766  37.834261   \n",
       "89694   65.45 2022-03-09 16:10:33  S35  38.43  30.81  0.363384  37.834261   \n",
       "89695   65.47 2022-03-09 16:10:34  S35  38.43  30.81  0.363384  37.834261   \n",
       "89696   65.50 2022-03-09 16:10:35  S35  38.43  30.81  0.363384  37.834261   \n",
       "\n",
       "       Stress  IBI_detected  \n",
       "84275     0.0             0  \n",
       "84278     0.0             0  \n",
       "84279     0.0             0  \n",
       "84281     0.0             0  \n",
       "84283     0.0             0  \n",
       "...       ...           ...  \n",
       "89692     0.0             0  \n",
       "89693     0.0             0  \n",
       "89694     0.0             0  \n",
       "89695     0.0             0  \n",
       "89696     0.0             0  \n",
       "\n",
       "[3632 rows x 9 columns]"
      ]
     },
     "execution_count": 424,
     "metadata": {},
     "output_type": "execute_result"
    }
   ],
   "source": [
    "cleaned_df[cleaned_df['ID']=='S35']"
   ]
  },
  {
   "cell_type": "code",
   "execution_count": 428,
   "id": "b832a6f5",
   "metadata": {},
   "outputs": [],
   "source": [
    "cleaned_data = cleaned_df.dropna()"
   ]
  },
  {
   "cell_type": "code",
   "execution_count": 430,
   "id": "c162fcdd",
   "metadata": {},
   "outputs": [
    {
     "name": "stdout",
     "output_type": "stream",
     "text": [
      "<class 'pandas.core.frame.DataFrame'>\n",
      "Int64Index: 89697 entries, 0 to 89696\n",
      "Data columns (total 9 columns):\n",
      " #   Column        Non-Null Count  Dtype         \n",
      "---  ------        --------------  -----         \n",
      " 0   HR            89697 non-null  float64       \n",
      " 1   Time          89697 non-null  datetime64[ns]\n",
      " 2   ID            89697 non-null  category      \n",
      " 3   BVP           89697 non-null  float64       \n",
      " 4   TEMP          89697 non-null  float64       \n",
      " 5   EDA           89697 non-null  float64       \n",
      " 6   ACC           89697 non-null  float64       \n",
      " 7   Stress        89697 non-null  float64       \n",
      " 8   IBI_detected  89697 non-null  int64         \n",
      "dtypes: category(1), datetime64[ns](1), float64(6), int64(1)\n",
      "memory usage: 6.2 MB\n"
     ]
    }
   ],
   "source": [
    "cleaned_data.info()"
   ]
  },
  {
   "cell_type": "code",
   "execution_count": 431,
   "id": "979a3d7c",
   "metadata": {},
   "outputs": [],
   "source": [
    "cleaned_data.to_csv('cleaned_data.csv')"
   ]
  },
  {
   "cell_type": "code",
   "execution_count": 432,
   "id": "778279e6",
   "metadata": {},
   "outputs": [
    {
     "data": {
      "image/png": "[encoded data removed]",
      "text/plain": [
       "<Figure size 432x288 with 1 Axes>"
      ]
     },
     "metadata": {
      "needs_background": "light"
     },
     "output_type": "display_data"
    }
   ],
   "source": [
    "value_counts = cleaned_data['Stress'].value_counts()\n",
    "\n",
    "value_counts.plot(kind='bar')\n",
    "plt.xlabel('Value')\n",
    "plt.ylabel('Frequency')\n",
    "plt.title('Frequency of 0 and 1 in the Value Column')\n",
    "plt.xticks(rotation=0)\n",
    "plt.show()"
   ]
  },
  {
   "cell_type": "code",
   "execution_count": 433,
   "id": "dbc21ca4",
   "metadata": {},
   "outputs": [
    {
     "data": {
      "image/png": "[encoded data removed]",
      "text/plain": [
       "<Figure size 432x288 with 1 Axes>"
      ]
     },
     "metadata": {
      "needs_background": "light"
     },
     "output_type": "display_data"
    }
   ],
   "source": [
    "value_counts = cleaned_data['IBI_detected'].value_counts()\n",
    "\n",
    "value_counts.plot(kind='bar')\n",
    "plt.xlabel('Value')\n",
    "plt.ylabel('Frequency')\n",
    "plt.title('Frequency of 0 and 1 in the Value Column')\n",
    "plt.xticks(rotation=0)\n",
    "plt.show()"
   ]
  },
  {
   "cell_type": "code",
   "execution_count": 434,
   "id": "e9cfb230",
   "metadata": {},
   "outputs": [
    {
     "name": "stdout",
     "output_type": "stream",
     "text": [
      "          HR                Time   ID    BVP   TEMP       EDA        ACC  \\\n",
      "0      56.00 2022-02-14 15:20:28  S11  -0.00  27.25  0.000000  36.706039   \n",
      "1      55.67 2022-02-14 15:20:29  S11  -0.00  27.25  0.060219  36.762709   \n",
      "2      55.75 2022-02-14 15:20:30  S11  -0.00  27.25  0.060219  36.762709   \n",
      "3      57.40 2022-02-14 15:20:31  S11  -0.00  27.25  0.060219  36.762709   \n",
      "4      57.00 2022-02-14 15:20:32  S11  -0.00  27.25  0.120438  36.762709   \n",
      "...      ...                 ...  ...    ...    ...       ...        ...   \n",
      "89692  65.37 2022-03-09 16:10:31  S35  38.43  33.55  0.481407  37.834261   \n",
      "89693  65.42 2022-03-09 16:10:32  S35  38.43  33.55  0.480766  37.834261   \n",
      "89694  65.45 2022-03-09 16:10:33  S35  38.43  30.81  0.363384  37.834261   \n",
      "89695  65.47 2022-03-09 16:10:34  S35  38.43  30.81  0.363384  37.834261   \n",
      "89696  65.50 2022-03-09 16:10:35  S35  38.43  30.81  0.363384  37.834261   \n",
      "\n",
      "       Stress  IBI_detected  \n",
      "0         0.0             0  \n",
      "1         0.0             0  \n",
      "2         0.0             0  \n",
      "3         0.0             0  \n",
      "4         0.0             0  \n",
      "...       ...           ...  \n",
      "89692     0.0             0  \n",
      "89693     0.0             0  \n",
      "89694     0.0             0  \n",
      "89695     0.0             0  \n",
      "89696     0.0             0  \n",
      "\n",
      "[89697 rows x 9 columns]\n"
     ]
    }
   ],
   "source": [
    "print(cleaned_data)"
   ]
  },
  {
   "cell_type": "code",
   "execution_count": null,
   "id": "8a38dbfd",
   "metadata": {},
   "outputs": [],
   "source": []
  }
 ],
 "metadata": {
  "kernelspec": {
   "display_name": "Python 3 (ipykernel)",
   "language": "python",
   "name": "python3"
  },
  "language_info": {
   "codemirror_mode": {
    "name": "ipython",
    "version": 3
   },
   "file_extension": ".py",
   "mimetype": "text/x-python",
   "name": "python",
   "nbconvert_exporter": "python",
   "pygments_lexer": "ipython3",
   "version": "3.9.12"
  }
 },
 "nbformat": 4,
 "nbformat_minor": 5
}
