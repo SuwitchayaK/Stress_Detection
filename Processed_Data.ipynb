{
 "cells": [
  {
   "cell_type": "markdown",
   "id": "d0e5ce34",
   "metadata": {},
   "source": [
    "# Assignment 2"
   ]
  },
  {
   "cell_type": "code",
   "execution_count": 1,
   "id": "5a169fc2",
   "metadata": {},
   "outputs": [],
   "source": [
    "import pandas as pd\n",
    "import numpy as np\n",
    "import matplotlib.pyplot as plt"
   ]
  },
  {
   "cell_type": "code",
   "execution_count": 2,
   "id": "9bfcd229",
   "metadata": {},
   "outputs": [],
   "source": [
    "data = pd.read_csv(\"data_peakIBI.csv\")"
   ]
  },
  {
   "cell_type": "code",
   "execution_count": 3,
   "id": "f72bb39e",
   "metadata": {},
   "outputs": [
    {
     "name": "stdout",
     "output_type": "stream",
     "text": [
      "<class 'pandas.core.frame.DataFrame'>\n",
      "RangeIndex: 89825 entries, 0 to 89824\n",
      "Data columns (total 10 columns):\n",
      " #   Column      Non-Null Count  Dtype  \n",
      "---  ------      --------------  -----  \n",
      " 0   Unnamed: 0  89825 non-null  int64  \n",
      " 1   HR          89825 non-null  float64\n",
      " 2   Time        89825 non-null  int64  \n",
      " 3   ID          89825 non-null  object \n",
      " 4   BVP         89825 non-null  float64\n",
      " 5   TEMP        89825 non-null  float64\n",
      " 6   EDA         89825 non-null  float64\n",
      " 7   ACC         89825 non-null  float64\n",
      " 8   Stress      89825 non-null  float64\n",
      " 9   IBI         89825 non-null  float64\n",
      "dtypes: float64(7), int64(2), object(1)\n",
      "memory usage: 6.9+ MB\n"
     ]
    }
   ],
   "source": [
    "data.info()"
   ]
  },
  {
   "cell_type": "code",
   "execution_count": 3,
   "id": "6e44b7a0",
   "metadata": {},
   "outputs": [],
   "source": [
    "data = data.drop('Unnamed: 0', axis=1)"
   ]
  },
  {
   "cell_type": "code",
   "execution_count": 4,
   "id": "72d52e33",
   "metadata": {},
   "outputs": [],
   "source": [
    "data['Time'] = pd.to_datetime(data['Time'], unit='s')"
   ]
  },
  {
   "cell_type": "code",
   "execution_count": 4,
   "id": "0b542f74",
   "metadata": {},
   "outputs": [
    {
     "data": {
      "text/plain": [
       "(89825, 9)"
      ]
     },
     "execution_count": 4,
     "metadata": {},
     "output_type": "execute_result"
    }
   ],
   "source": [
    "data.shape"
   ]
  },
  {
   "cell_type": "code",
   "execution_count": 6,
   "id": "ad85e7d2",
   "metadata": {},
   "outputs": [
    {
     "data": {
      "text/html": [
       "<div>\n",
       "<style scoped>\n",
       "    .dataframe tbody tr th:only-of-type {\n",
       "        vertical-align: middle;\n",
       "    }\n",
       "\n",
       "    .dataframe tbody tr th {\n",
       "        vertical-align: top;\n",
       "    }\n",
       "\n",
       "    .dataframe thead th {\n",
       "        text-align: right;\n",
       "    }\n",
       "</style>\n",
       "<table border=\"1\" class=\"dataframe\">\n",
       "  <thead>\n",
       "    <tr style=\"text-align: right;\">\n",
       "      <th></th>\n",
       "      <th>HR</th>\n",
       "      <th>BVP</th>\n",
       "      <th>TEMP</th>\n",
       "      <th>EDA</th>\n",
       "      <th>ACC</th>\n",
       "      <th>Stress</th>\n",
       "      <th>IBI</th>\n",
       "    </tr>\n",
       "  </thead>\n",
       "  <tbody>\n",
       "    <tr>\n",
       "      <th>count</th>\n",
       "      <td>89825.000000</td>\n",
       "      <td>89825.000000</td>\n",
       "      <td>89825.000000</td>\n",
       "      <td>89825.000000</td>\n",
       "      <td>89825.000000</td>\n",
       "      <td>89825.000000</td>\n",
       "      <td>89825.000000</td>\n",
       "    </tr>\n",
       "    <tr>\n",
       "      <th>mean</th>\n",
       "      <td>79.686176</td>\n",
       "      <td>6.980644</td>\n",
       "      <td>30.870907</td>\n",
       "      <td>0.326144</td>\n",
       "      <td>37.119932</td>\n",
       "      <td>0.438018</td>\n",
       "      <td>0.070580</td>\n",
       "    </tr>\n",
       "    <tr>\n",
       "      <th>std</th>\n",
       "      <td>12.213275</td>\n",
       "      <td>8.894273</td>\n",
       "      <td>2.512872</td>\n",
       "      <td>0.291061</td>\n",
       "      <td>2.416455</td>\n",
       "      <td>0.496146</td>\n",
       "      <td>0.056514</td>\n",
       "    </tr>\n",
       "    <tr>\n",
       "      <th>min</th>\n",
       "      <td>49.000000</td>\n",
       "      <td>-0.050000</td>\n",
       "      <td>24.630000</td>\n",
       "      <td>0.000000</td>\n",
       "      <td>22.420229</td>\n",
       "      <td>0.000000</td>\n",
       "      <td>0.000000</td>\n",
       "    </tr>\n",
       "    <tr>\n",
       "      <th>25%</th>\n",
       "      <td>71.170000</td>\n",
       "      <td>0.000000</td>\n",
       "      <td>30.030000</td>\n",
       "      <td>0.138375</td>\n",
       "      <td>36.583228</td>\n",
       "      <td>0.000000</td>\n",
       "      <td>0.027549</td>\n",
       "    </tr>\n",
       "    <tr>\n",
       "      <th>50%</th>\n",
       "      <td>77.980000</td>\n",
       "      <td>3.015000</td>\n",
       "      <td>30.950000</td>\n",
       "      <td>0.228063</td>\n",
       "      <td>36.896237</td>\n",
       "      <td>0.000000</td>\n",
       "      <td>0.062500</td>\n",
       "    </tr>\n",
       "    <tr>\n",
       "      <th>75%</th>\n",
       "      <td>86.650000</td>\n",
       "      <td>11.460000</td>\n",
       "      <td>32.640000</td>\n",
       "      <td>0.480766</td>\n",
       "      <td>37.324570</td>\n",
       "      <td>1.000000</td>\n",
       "      <td>0.101562</td>\n",
       "    </tr>\n",
       "    <tr>\n",
       "      <th>max</th>\n",
       "      <td>141.080000</td>\n",
       "      <td>48.150000</td>\n",
       "      <td>34.910000</td>\n",
       "      <td>1.664104</td>\n",
       "      <td>82.823105</td>\n",
       "      <td>1.000000</td>\n",
       "      <td>0.562500</td>\n",
       "    </tr>\n",
       "  </tbody>\n",
       "</table>\n",
       "</div>"
      ],
      "text/plain": [
       "                 HR           BVP          TEMP           EDA           ACC  \\\n",
       "count  89825.000000  89825.000000  89825.000000  89825.000000  89825.000000   \n",
       "mean      79.686176      6.980644     30.870907      0.326144     37.119932   \n",
       "std       12.213275      8.894273      2.512872      0.291061      2.416455   \n",
       "min       49.000000     -0.050000     24.630000      0.000000     22.420229   \n",
       "25%       71.170000      0.000000     30.030000      0.138375     36.583228   \n",
       "50%       77.980000      3.015000     30.950000      0.228063     36.896237   \n",
       "75%       86.650000     11.460000     32.640000      0.480766     37.324570   \n",
       "max      141.080000     48.150000     34.910000      1.664104     82.823105   \n",
       "\n",
       "             Stress           IBI  \n",
       "count  89825.000000  89825.000000  \n",
       "mean       0.438018      0.070580  \n",
       "std        0.496146      0.056514  \n",
       "min        0.000000      0.000000  \n",
       "25%        0.000000      0.027549  \n",
       "50%        0.000000      0.062500  \n",
       "75%        1.000000      0.101562  \n",
       "max        1.000000      0.562500  "
      ]
     },
     "execution_count": 6,
     "metadata": {},
     "output_type": "execute_result"
    }
   ],
   "source": [
    "data.describe()"
   ]
  },
  {
   "cell_type": "markdown",
   "id": "a6b3a410",
   "metadata": {},
   "source": [
    "# Section 1: Visualizations"
   ]
  },
  {
   "cell_type": "markdown",
   "id": "c4aa5ef1",
   "metadata": {},
   "source": [
    "Plot bar chart stress and non-stress periods"
   ]
  },
  {
   "cell_type": "code",
   "execution_count": 5,
   "id": "5258cab4",
   "metadata": {},
   "outputs": [
    {
     "data": {
      "image/png": "[encoded data removed]",
      "text/plain": [
       "<Figure size 432x288 with 1 Axes>"
      ]
     },
     "metadata": {
      "needs_background": "light"
     },
     "output_type": "display_data"
    }
   ],
   "source": [
    "#Count values of 0 and 1\n",
    "value_counts = data['Stress'].value_counts()\n",
    "\n",
    "ax = value_counts.plot(kind='bar')\n",
    "plt.xlabel('Value')\n",
    "plt.ylabel('Frequency')\n",
    "plt.title('Numbers of Stress and Non-stress Periods')\n",
    "plt.xticks(rotation=0)\n",
    "\n",
    "#Add count values to each bar\n",
    "for i in ax.containers:\n",
    "    ax.bar_label(i)\n",
    "\n",
    "plt.show()"
   ]
  },
  {
   "cell_type": "markdown",
   "id": "e61d6803",
   "metadata": {},
   "source": [
    "We can see that the stress and non-stress periods are semi-balanced. The stress period is 77.91% of the non-stress period."
   ]
  },
  {
   "cell_type": "markdown",
   "id": "875bcb6b",
   "metadata": {},
   "source": [
    "Plot HR, BVP, TEMP, EDA, and ACC over period of time for participant 30"
   ]
  },
  {
   "cell_type": "code",
   "execution_count": 6,
   "id": "4f92a1c5",
   "metadata": {},
   "outputs": [],
   "source": [
    "#Filter Data for ID S30\n",
    "S30 = data[data['ID'] == 'S30']"
   ]
  },
  {
   "cell_type": "code",
   "execution_count": 7,
   "id": "13d24a02",
   "metadata": {},
   "outputs": [],
   "source": [
    "#Create list of features\n",
    "features = ['HR', 'BVP', 'TEMP', 'EDA', 'ACC', 'IBI']"
   ]
  },
  {
   "cell_type": "code",
   "execution_count": 9,
   "id": "ced5c87b",
   "metadata": {},
   "outputs": [
    {
     "data": {
      "image/png": "[encoded data removed]",
      "text/plain": [
       "<Figure size 1080x360 with 1 Axes>"
      ]
     },
     "metadata": {
      "needs_background": "light"
     },
     "output_type": "display_data"
    },
    {
     "data": {
      "image/png": "[encoded data removed]",
      "text/plain": [
       "<Figure size 1080x360 with 1 Axes>"
      ]
     },
     "metadata": {
      "needs_background": "light"
     },
     "output_type": "display_data"
    },
    {
     "data": {
      "image/png": "[encoded data removed]",
      "text/plain": [
       "<Figure size 1080x360 with 1 Axes>"
      ]
     },
     "metadata": {
      "needs_background": "light"
     },
     "output_type": "display_data"
    },
    {
     "data": {
      "image/png": "[encoded data removed]",
      "text/plain": [
       "<Figure size 1080x360 with 1 Axes>"
      ]
     },
     "metadata": {
      "needs_background": "light"
     },
     "output_type": "display_data"
    },
    {
     "data": {
      "image/png": "[encoded data removed]",
      "text/plain": [
       "<Figure size 1080x360 with 1 Axes>"
      ]
     },
     "metadata": {
      "needs_background": "light"
     },
     "output_type": "display_data"
    },
    {
     "data": {
      "image/png": "[encoded data removed]",
      "text/plain": [
       "<Figure size 1080x360 with 1 Axes>"
      ]
     },
     "metadata": {
      "needs_background": "light"
     },
     "output_type": "display_data"
    }
   ],
   "source": [
    "#Iterate through list and create plots\n",
    "for i in features:\n",
    "    fig, ax = plt.subplots(figsize=(15, 5))\n",
    "    ax.plot(S30['Time'], S30[i], label=i)\n",
    "    ax.set_xlabel('Time')\n",
    "    ax.set_ylabel(i)\n",
    "    ax.set_title(f\"{i}\", size=15)\n",
    "    ax.legend()\n",
    "    plt.show()"
   ]
  },
  {
   "cell_type": "markdown",
   "id": "43717d21",
   "metadata": {},
   "source": [
    "Create heatmap to see correlations"
   ]
  },
  {
   "cell_type": "code",
   "execution_count": 9,
   "id": "df9e3744",
   "metadata": {},
   "outputs": [
    {
     "data": {
      "image/png": "[encoded data removed]",
      "text/plain": [
       "<Figure size 432x288 with 2 Axes>"
      ]
     },
     "metadata": {
      "needs_background": "light"
     },
     "output_type": "display_data"
    }
   ],
   "source": [
    "import seaborn as sns\n",
    "\n",
    "correlation = data[features].corr()\n",
    "sns.heatmap(correlation, annot=True, cmap='viridis')\n",
    "plt.title('Correlation Heatmap')\n",
    "plt.show()"
   ]
  },
  {
   "cell_type": "markdown",
   "id": "34044c1d",
   "metadata": {},
   "source": [
    "Create box plot to see distribution of the data"
   ]
  },
  {
   "cell_type": "code",
   "execution_count": 10,
   "id": "50dbdca1",
   "metadata": {},
   "outputs": [
    {
     "data": {
      "image/png": "[encoded data removed]",
      "text/plain": [
       "<Figure size 1080x1080 with 6 Axes>"
      ]
     },
     "metadata": {
      "needs_background": "light"
     },
     "output_type": "display_data"
    }
   ],
   "source": [
    "#Create box plot for features\n",
    "features = ['HR', 'BVP', 'TEMP', 'EDA', 'ACC', 'IBI']\n",
    "\n",
    "data[features].plot(kind='box', subplots=True, layout=(3, 2), sharex=False, sharey=False, figsize=(15, 15))\n",
    "plt.show()"
   ]
  },
  {
   "cell_type": "markdown",
   "id": "ae8c42ca",
   "metadata": {},
   "source": [
    "# Important Features"
   ]
  },
  {
   "cell_type": "code",
   "execution_count": 5,
   "id": "e58f79be",
   "metadata": {},
   "outputs": [],
   "source": [
    "X = data.drop(['Stress', 'Time', 'ID'], axis=1)\n",
    "y = data[['Stress']]"
   ]
  },
  {
   "cell_type": "code",
   "execution_count": 6,
   "id": "16890242",
   "metadata": {},
   "outputs": [],
   "source": [
    "from sklearn.ensemble import RandomForestClassifier"
   ]
  },
  {
   "cell_type": "code",
   "execution_count": 7,
   "id": "05de2dc5",
   "metadata": {},
   "outputs": [
    {
     "data": {
      "text/plain": [
       "RandomForestClassifier(random_state=511)"
      ]
     },
     "execution_count": 7,
     "metadata": {},
     "output_type": "execute_result"
    }
   ],
   "source": [
    "#Create and fit random forest\n",
    "random_forest = RandomForestClassifier(n_estimators=100, random_state=511)\n",
    "random_forest.fit(X, np.ravel(y))"
   ]
  },
  {
   "cell_type": "code",
   "execution_count": 8,
   "id": "fc1854f6",
   "metadata": {},
   "outputs": [],
   "source": [
    "#Get features according to feature importances that build up a decision tree\n",
    "features_scores = pd.Series(random_forest.feature_importances_, index=X.columns).sort_values(ascending=False)"
   ]
  },
  {
   "cell_type": "code",
   "execution_count": 9,
   "id": "72655b1d",
   "metadata": {},
   "outputs": [
    {
     "data": {
      "text/plain": [
       "BVP     0.446154\n",
       "TEMP    0.151160\n",
       "EDA     0.148726\n",
       "ACC     0.108063\n",
       "HR      0.099817\n",
       "IBI     0.046079\n",
       "dtype: float64"
      ]
     },
     "execution_count": 9,
     "metadata": {},
     "output_type": "execute_result"
    }
   ],
   "source": [
    "features_scores"
   ]
  },
  {
   "cell_type": "markdown",
   "id": "714bfb67",
   "metadata": {},
   "source": [
    "# Section 2: Prepare Data"
   ]
  },
  {
   "cell_type": "markdown",
   "id": "feca9abe",
   "metadata": {},
   "source": [
    "# 2.1 Create Lag Features"
   ]
  },
  {
   "cell_type": "markdown",
   "id": "664caf5d",
   "metadata": {},
   "source": [
    "Each features have different scale. Convert them with standardscaler to normalize them."
   ]
  },
  {
   "cell_type": "code",
   "execution_count": 5,
   "id": "80bc9aaa",
   "metadata": {},
   "outputs": [],
   "source": [
    "from sklearn.preprocessing import StandardScaler"
   ]
  },
  {
   "cell_type": "code",
   "execution_count": 6,
   "id": "4435d628",
   "metadata": {},
   "outputs": [],
   "source": [
    "#Create list of columns that needed to be transformed\n",
    "columns = ['HR', 'BVP', 'TEMP', 'EDA', 'ACC', 'IBI']\n",
    "\n",
    "#Initiate standardscaler\n",
    "scaler = StandardScaler()\n",
    "\n",
    "# Fit and transform features\n",
    "scaled_columns = scaler.fit_transform(data[columns])"
   ]
  },
  {
   "cell_type": "code",
   "execution_count": 7,
   "id": "18d3d86a",
   "metadata": {},
   "outputs": [],
   "source": [
    "#Replace the original columns with the scaled columns\n",
    "data[columns] = scaled_columns"
   ]
  },
  {
   "cell_type": "code",
   "execution_count": 8,
   "id": "e3de681e",
   "metadata": {},
   "outputs": [],
   "source": [
    "def create_lag_features(data, lag):\n",
    "    lag_data = pd.DataFrame()\n",
    "    unique_ids = data['ID'].unique()\n",
    "\n",
    "    for unique_id in unique_ids:\n",
    "        id_data = data[data['ID'] == unique_id].copy()\n",
    "        id_cols = id_data.columns.tolist()\n",
    "\n",
    "        for col in id_cols:\n",
    "            if col not in ['ID', 'Time', 'Stress']:\n",
    "                for l in range(1, lag + 1):\n",
    "                    id_data[col + '_lag_' + str(l)] = id_data[col].shift(l)\n",
    "\n",
    "        lag_data = pd.concat([lag_data, id_data], ignore_index=True)\n",
    "\n",
    "    return lag_data\n"
   ]
  },
  {
   "cell_type": "markdown",
   "id": "5d10027c",
   "metadata": {},
   "source": [
    "Input data[['BVP', 'TEMP', 'EDA', 'ID', 'Time', 'Stress']] for selected features random forest model and for creating different lags choose either 10, 15, or 30."
   ]
  },
  {
   "cell_type": "code",
   "execution_count": 9,
   "id": "49eabfb9",
   "metadata": {},
   "outputs": [],
   "source": [
    "#Get lag data\n",
    "lag_data = create_lag_features(data , 15)"
   ]
  },
  {
   "cell_type": "code",
   "execution_count": 10,
   "id": "d0e58909",
   "metadata": {},
   "outputs": [],
   "source": [
    "#After creating lags, there will be missing values. I drop the NAs\n",
    "lag_data = lag_data.dropna()"
   ]
  },
  {
   "cell_type": "markdown",
   "id": "868b0648",
   "metadata": {},
   "source": [
    "# 2.2 Split Data"
   ]
  },
  {
   "cell_type": "markdown",
   "id": "f8156228",
   "metadata": {},
   "source": [
    "Create function that will split data into train and test sets by considering ID and Time. This is to make sure that the data of each participant is splitted separately."
   ]
  },
  {
   "cell_type": "code",
   "execution_count": 12,
   "id": "436aa714",
   "metadata": {},
   "outputs": [],
   "source": [
    "def split_data_by_id(data, split_ratio):\n",
    "    unique_ids = data['ID'].unique()\n",
    "\n",
    "    train_data_list = []\n",
    "    test_data_list = []\n",
    "\n",
    "    for unique_id in unique_ids:\n",
    "        id_data = data[data['ID'] == unique_id]\n",
    "        split_index = int(len(id_data) * split_ratio)\n",
    "\n",
    "        id_train_data = id_data.iloc[:split_index]\n",
    "        id_test_data = id_data.iloc[split_index:]\n",
    "\n",
    "        train_data_list.append(id_train_data)\n",
    "        test_data_list.append(id_test_data)\n",
    "\n",
    "    train_data = pd.concat(train_data_list, ignore_index=True)\n",
    "    test_data = pd.concat(test_data_list, ignore_index=True)\n",
    "\n",
    "    return train_data, test_data"
   ]
  },
  {
   "cell_type": "code",
   "execution_count": 13,
   "id": "ae5cb8ea",
   "metadata": {},
   "outputs": [],
   "source": [
    "train_data, test_data = split_data_by_id(lag_data, 0.8)"
   ]
  },
  {
   "cell_type": "code",
   "execution_count": 59,
   "id": "6ad7df41",
   "metadata": {},
   "outputs": [],
   "source": [
    "#Get train and test sets for features and target variables\n",
    "X_train = train_data.drop(['Stress', 'Time', 'ID'], axis=1)\n",
    "X_test = test_data.drop(['Stress', 'Time', 'ID'], axis=1)\n",
    "y_train = train_data[['Stress']]\n",
    "y_test = test_data[['Stress']]"
   ]
  },
  {
   "cell_type": "markdown",
   "id": "e67b367b",
   "metadata": {},
   "source": [
    "# Section 3: Analysis"
   ]
  },
  {
   "cell_type": "markdown",
   "id": "f103f172",
   "metadata": {},
   "source": [
    "Next, I will use Random Forest, Support Vector Machine (SVM), Logistic Regression, and KNN to see whether there is the difference between stress and non-stress periods."
   ]
  },
  {
   "cell_type": "markdown",
   "id": "588be710",
   "metadata": {},
   "source": [
    "# 3.1 Random Forest"
   ]
  },
  {
   "cell_type": "code",
   "execution_count": 28,
   "id": "02ba37c9",
   "metadata": {},
   "outputs": [],
   "source": [
    "from sklearn.ensemble import RandomForestClassifier\n",
    "from sklearn.metrics import accuracy_score, classification_report\n",
    "from sklearn.metrics import confusion_matrix"
   ]
  },
  {
   "cell_type": "markdown",
   "id": "bf7b95a4",
   "metadata": {},
   "source": [
    "The data is multivariate time-series data. The values from previous time may have impact on the current value. In this case, I will to train random forest model with different lags. "
   ]
  },
  {
   "cell_type": "markdown",
   "id": "8b5ae65e",
   "metadata": {},
   "source": [
    "Set lag = 30."
   ]
  },
  {
   "cell_type": "code",
   "execution_count": 14,
   "id": "1f12e952",
   "metadata": {},
   "outputs": [],
   "source": [
    "rf_lag30 = RandomForestClassifier(n_estimators=100, random_state=511)\n",
    "rf_lag30.fit(X_train, np.ravel(y_train))\n",
    "y_pred_lag30 = rf_lag30.predict(X_test)"
   ]
  },
  {
   "cell_type": "code",
   "execution_count": 17,
   "id": "50b1ccaa",
   "metadata": {},
   "outputs": [
    {
     "name": "stdout",
     "output_type": "stream",
     "text": [
      "0.4275293193423489\n"
     ]
    }
   ],
   "source": [
    "accuracy_lag30 = accuracy_score(y_test, y_pred_lag30)\n",
    "print(accuracy_lag30)"
   ]
  },
  {
   "cell_type": "markdown",
   "id": "26ea9ac6",
   "metadata": {},
   "source": [
    "Set lag = 10."
   ]
  },
  {
   "cell_type": "code",
   "execution_count": 22,
   "id": "f55c5079",
   "metadata": {},
   "outputs": [],
   "source": [
    "rf_lag10 = RandomForestClassifier(n_estimators=100, random_state=511)\n",
    "rf_lag10.fit(X_train, np.ravel(y_train))\n",
    "y_pred_lag10 = rf_lag10.predict(X_test)"
   ]
  },
  {
   "cell_type": "code",
   "execution_count": 23,
   "id": "1318dca7",
   "metadata": {},
   "outputs": [
    {
     "name": "stdout",
     "output_type": "stream",
     "text": [
      "0.45388092182355894\n"
     ]
    }
   ],
   "source": [
    "accuracy_lag10 = accuracy_score(y_test, y_pred_lag10)\n",
    "print(accuracy_lag10)"
   ]
  },
  {
   "cell_type": "markdown",
   "id": "23ae6671",
   "metadata": {},
   "source": [
    "Set lag = 15, which means taking values from 15 seconds in to consideration. 15 seconds create highest accuracy rate. First, I will try RF without adding any argument."
   ]
  },
  {
   "cell_type": "code",
   "execution_count": 48,
   "id": "1c3d55a1",
   "metadata": {},
   "outputs": [],
   "source": [
    "rf1 = RandomForestClassifier(n_estimators=100, random_state=511)\n",
    "rf1.fit(X_train, np.ravel(y_train))\n",
    "y_pred_rf1 = rf1.predict(X_test)"
   ]
  },
  {
   "cell_type": "code",
   "execution_count": 48,
   "id": "ca5e9121",
   "metadata": {},
   "outputs": [],
   "source": [
    "rf1 = RandomForestClassifier(n_estimators=100, random_state=511)\n",
    "rf1.fit(X_train, np.ravel(y_train))\n",
    "y_pred_rf1 = rf1.predict(X_test)"
   ]
  },
  {
   "cell_type": "code",
   "execution_count": 21,
   "id": "13385f2e",
   "metadata": {},
   "outputs": [
    {
     "name": "stdout",
     "output_type": "stream",
     "text": [
      "0.4940210102816272\n"
     ]
    }
   ],
   "source": [
    "accuracy_rf1 = accuracy_score(y_test, y_pred_rf1)\n",
    "print(accuracy_rf1)"
   ]
  },
  {
   "cell_type": "code",
   "execution_count": 22,
   "id": "309d9d5c",
   "metadata": {},
   "outputs": [
    {
     "name": "stdout",
     "output_type": "stream",
     "text": [
      "              precision    recall  f1-score   support\n",
      "\n",
      "           0       0.54      0.56      0.55      9945\n",
      "           1       0.43      0.41      0.42      7951\n",
      "\n",
      "    accuracy                           0.49     17896\n",
      "   macro avg       0.49      0.49      0.49     17896\n",
      "weighted avg       0.49      0.49      0.49     17896\n",
      "\n"
     ]
    }
   ],
   "source": [
    "print(classification_report(y_test, y_pred_rf1))"
   ]
  },
  {
   "cell_type": "code",
   "execution_count": 23,
   "id": "c9a55694",
   "metadata": {},
   "outputs": [
    {
     "name": "stdout",
     "output_type": "stream",
     "text": [
      "[[5585 4360]\n",
      " [4695 3256]]\n"
     ]
    }
   ],
   "source": [
    "cm1 = confusion_matrix(y_test, y_pred_rf1)\n",
    "print(cm1)"
   ]
  },
  {
   "cell_type": "code",
   "execution_count": 24,
   "id": "198837b4",
   "metadata": {},
   "outputs": [
    {
     "name": "stdout",
     "output_type": "stream",
     "text": [
      "0.5904917620425104\n"
     ]
    }
   ],
   "source": [
    "#Calculate False Negative rate\n",
    "FN = cm1[1][0]\n",
    "TP = cm1[1][1]\n",
    "\n",
    "FNR = FN / (FN + TP)\n",
    "print(FNR)"
   ]
  },
  {
   "cell_type": "markdown",
   "id": "09fd0581",
   "metadata": {},
   "source": [
    "Second, try to use balanced class weight to add more weight on stress period."
   ]
  },
  {
   "cell_type": "code",
   "execution_count": 83,
   "id": "08fedff8",
   "metadata": {},
   "outputs": [],
   "source": [
    "#Try to adjust class weight to give more weight on stress period\n",
    "rf2 = RandomForestClassifier(class_weight='balanced', random_state=511)\n",
    "rf2.fit(X_train, np.ravel(y_train))\n",
    "y_pred_rf2 = rf2.predict(X_test)"
   ]
  },
  {
   "cell_type": "code",
   "execution_count": 84,
   "id": "09016d8a",
   "metadata": {},
   "outputs": [
    {
     "name": "stdout",
     "output_type": "stream",
     "text": [
      "0.5013969602145731\n"
     ]
    }
   ],
   "source": [
    "accuracy_rf2 = accuracy_score(y_test, y_pred_rf2)\n",
    "print(accuracy_rf2)"
   ]
  },
  {
   "cell_type": "code",
   "execution_count": 85,
   "id": "d98bcb9b",
   "metadata": {},
   "outputs": [
    {
     "name": "stdout",
     "output_type": "stream",
     "text": [
      "              precision    recall  f1-score   support\n",
      "\n",
      "         0.0       0.54      0.71      0.61      9945\n",
      "         1.0       0.40      0.24      0.30      7951\n",
      "\n",
      "    accuracy                           0.50     17896\n",
      "   macro avg       0.47      0.48      0.46     17896\n",
      "weighted avg       0.48      0.50      0.47     17896\n",
      "\n"
     ]
    }
   ],
   "source": [
    "print(classification_report(y_test, y_pred_rf2))"
   ]
  },
  {
   "cell_type": "code",
   "execution_count": 99,
   "id": "681a938e",
   "metadata": {},
   "outputs": [
    {
     "name": "stdout",
     "output_type": "stream",
     "text": [
      "[[7065 2880]\n",
      " [6043 1908]]\n"
     ]
    }
   ],
   "source": [
    "cm2 = confusion_matrix(y_test, y_pred_rf2)\n",
    "print(cm2)"
   ]
  },
  {
   "cell_type": "code",
   "execution_count": 100,
   "id": "3f6b03ed",
   "metadata": {},
   "outputs": [
    {
     "name": "stdout",
     "output_type": "stream",
     "text": [
      "0.7600301848824047\n"
     ]
    }
   ],
   "source": [
    "#Calculate False Negative rate\n",
    "FN = cm2[1][0]\n",
    "TP = cm2[1][1]\n",
    "\n",
    "FNR = FN / (FN + TP)\n",
    "print(FNR)"
   ]
  },
  {
   "cell_type": "markdown",
   "id": "11e3c68d",
   "metadata": {},
   "source": [
    "Third, create samples for stress period to make the stress and non-stress periods become more balance."
   ]
  },
  {
   "cell_type": "code",
   "execution_count": 98,
   "id": "1a5986ab",
   "metadata": {},
   "outputs": [],
   "source": [
    "#Create synthetic sample for stress period\n",
    "from imblearn.over_sampling import SMOTE\n",
    "\n",
    "sm = SMOTE(random_state=511)\n",
    "X_resampled, y_resampled = sm.fit_resample(X_train, np.ravel(y_train))\n",
    "\n",
    "rf3 = RandomForestClassifier(n_estimators=100, random_state=511)\n",
    "rf3.fit(X_resampled, y_resampled)\n",
    "y_pred_rf3 = rf3.predict(X_test)"
   ]
  },
  {
   "cell_type": "code",
   "execution_count": 101,
   "id": "3c00c299",
   "metadata": {},
   "outputs": [
    {
     "name": "stdout",
     "output_type": "stream",
     "text": [
      "0.4927916852928029\n"
     ]
    }
   ],
   "source": [
    "accuracy_rf3 = accuracy_score(y_test, y_pred_rf3)\n",
    "print(accuracy_rf3)"
   ]
  },
  {
   "cell_type": "code",
   "execution_count": 102,
   "id": "17f34f8a",
   "metadata": {},
   "outputs": [
    {
     "name": "stdout",
     "output_type": "stream",
     "text": [
      "              precision    recall  f1-score   support\n",
      "\n",
      "         0.0       0.53      0.71      0.61      9945\n",
      "         1.0       0.38      0.23      0.28      7951\n",
      "\n",
      "    accuracy                           0.49     17896\n",
      "   macro avg       0.46      0.47      0.45     17896\n",
      "weighted avg       0.47      0.49      0.46     17896\n",
      "\n"
     ]
    }
   ],
   "source": [
    "print(classification_report(y_test, y_pred_rf3))"
   ]
  },
  {
   "cell_type": "code",
   "execution_count": 103,
   "id": "23eb6d4f",
   "metadata": {},
   "outputs": [
    {
     "name": "stdout",
     "output_type": "stream",
     "text": [
      "[[7019 2926]\n",
      " [6151 1800]]\n"
     ]
    }
   ],
   "source": [
    "cm3 = confusion_matrix(y_test, y_pred_rf3)\n",
    "print(cm3)"
   ]
  },
  {
   "cell_type": "code",
   "execution_count": 104,
   "id": "722a8ba8",
   "metadata": {},
   "outputs": [
    {
     "name": "stdout",
     "output_type": "stream",
     "text": [
      "0.7736133819645328\n"
     ]
    }
   ],
   "source": [
    "#Calculate False Negative rate\n",
    "FN = cm3[1][0]\n",
    "TP = cm3[1][1]\n",
    "\n",
    "FNR = FN / (FN + TP)\n",
    "print(FNR)"
   ]
  },
  {
   "cell_type": "markdown",
   "id": "db560e70",
   "metadata": {},
   "source": [
    "Fourth, reduce decision threshold so that the model is more sensitive to predict positive class."
   ]
  },
  {
   "cell_type": "code",
   "execution_count": 115,
   "id": "0f31d2e3",
   "metadata": {},
   "outputs": [],
   "source": [
    "#Adjust decision threshold to prevent False Negatives\n",
    "rf4 = RandomForestClassifier(n_estimators=100, random_state=511)\n",
    "rf4.fit(X_train, np.ravel(y_train))\n",
    "\n",
    "y_pred_proba = rf4.predict_proba(X_test)\n",
    "threshold = 0.4\n",
    "y_pred_rf4 = (y_pred_proba[:, 1] >= threshold).astype(int)"
   ]
  },
  {
   "cell_type": "code",
   "execution_count": 116,
   "id": "97e3c349",
   "metadata": {},
   "outputs": [
    {
     "name": "stdout",
     "output_type": "stream",
     "text": [
      "0.46764640143048725\n"
     ]
    }
   ],
   "source": [
    "accuracy_rf4 = accuracy_score(y_test, y_pred_rf4)\n",
    "print(accuracy_rf4)"
   ]
  },
  {
   "cell_type": "code",
   "execution_count": 117,
   "id": "b655a19f",
   "metadata": {},
   "outputs": [
    {
     "name": "stdout",
     "output_type": "stream",
     "text": [
      "              precision    recall  f1-score   support\n",
      "\n",
      "         0.0       0.54      0.31      0.39      9945\n",
      "         1.0       0.44      0.67      0.53      7951\n",
      "\n",
      "    accuracy                           0.47     17896\n",
      "   macro avg       0.49      0.49      0.46     17896\n",
      "weighted avg       0.49      0.47      0.45     17896\n",
      "\n"
     ]
    }
   ],
   "source": [
    "print(classification_report(y_test, y_pred_rf4))"
   ]
  },
  {
   "cell_type": "code",
   "execution_count": 118,
   "id": "f5661723",
   "metadata": {},
   "outputs": [
    {
     "name": "stdout",
     "output_type": "stream",
     "text": [
      "[[3062 6883]\n",
      " [2644 5307]]\n"
     ]
    }
   ],
   "source": [
    "cm4 = confusion_matrix(y_test, y_pred_rf4)\n",
    "print(cm4)"
   ]
  },
  {
   "cell_type": "code",
   "execution_count": 119,
   "id": "e7600ed6",
   "metadata": {},
   "outputs": [
    {
     "name": "stdout",
     "output_type": "stream",
     "text": [
      "0.3325367878254308\n"
     ]
    }
   ],
   "source": [
    "#Calculate False Negative rate\n",
    "FN = cm4[1][0]\n",
    "TP = cm4[1][1]\n",
    "\n",
    "FNR = FN / (FN + TP)\n",
    "print(FNR)"
   ]
  },
  {
   "cell_type": "markdown",
   "id": "f2ac83f7",
   "metadata": {},
   "source": [
    "Fifth, I will try to use random forest for top 3 important features: BVP, TEMP, and EDA."
   ]
  },
  {
   "cell_type": "code",
   "execution_count": 60,
   "id": "3e93aca5",
   "metadata": {},
   "outputs": [],
   "source": [
    "rf5 = RandomForestClassifier(n_estimators=100, random_state=511)\n",
    "rf5.fit(X_train, np.ravel(y_train))\n",
    "y_pred_rf5 = rf5.predict(X_test)"
   ]
  },
  {
   "cell_type": "code",
   "execution_count": 61,
   "id": "f0e848eb",
   "metadata": {},
   "outputs": [
    {
     "name": "stdout",
     "output_type": "stream",
     "text": [
      "0.4908359409924005\n"
     ]
    }
   ],
   "source": [
    "accuracy_rf5 = accuracy_score(y_test, y_pred_rf5)\n",
    "print(accuracy_rf5)"
   ]
  },
  {
   "cell_type": "code",
   "execution_count": 62,
   "id": "60e06800",
   "metadata": {},
   "outputs": [
    {
     "name": "stdout",
     "output_type": "stream",
     "text": [
      "              precision    recall  f1-score   support\n",
      "\n",
      "           0       0.53      0.65      0.58      9945\n",
      "           1       0.40      0.30      0.34      7951\n",
      "\n",
      "    accuracy                           0.49     17896\n",
      "   macro avg       0.47      0.47      0.46     17896\n",
      "weighted avg       0.48      0.49      0.48     17896\n",
      "\n"
     ]
    }
   ],
   "source": [
    "print(classification_report(y_test, y_pred_rf5))"
   ]
  },
  {
   "cell_type": "code",
   "execution_count": 66,
   "id": "0c1d0004",
   "metadata": {},
   "outputs": [
    {
     "name": "stdout",
     "output_type": "stream",
     "text": [
      "[[6418 3527]\n",
      " [5585 2366]]\n"
     ]
    }
   ],
   "source": [
    "cm5 = confusion_matrix(y_test, y_pred_rf5)\n",
    "print(cm5)"
   ]
  },
  {
   "cell_type": "code",
   "execution_count": 67,
   "id": "e57a0101",
   "metadata": {},
   "outputs": [
    {
     "name": "stdout",
     "output_type": "stream",
     "text": [
      "0.7024273676267137\n"
     ]
    }
   ],
   "source": [
    "#Calculate False Negative rate\n",
    "FN = cm5[1][0]\n",
    "TP = cm5[1][1]\n",
    "\n",
    "FNR = FN / (FN + TP)\n",
    "print(FNR)"
   ]
  },
  {
   "cell_type": "markdown",
   "id": "cbc5b9e4",
   "metadata": {},
   "source": [
    "# 3.2 Support Vector Machine"
   ]
  },
  {
   "cell_type": "markdown",
   "id": "cab1c380",
   "metadata": {},
   "source": [
    "Using radial SVM."
   ]
  },
  {
   "cell_type": "code",
   "execution_count": 11,
   "id": "e9b0bd03",
   "metadata": {},
   "outputs": [],
   "source": [
    "from sklearn.svm import SVC"
   ]
  },
  {
   "cell_type": "markdown",
   "id": "1b73129b",
   "metadata": {},
   "source": [
    "This section, I will try setting C=1 as a baseline of the result."
   ]
  },
  {
   "cell_type": "code",
   "execution_count": 14,
   "id": "d0bf685a",
   "metadata": {},
   "outputs": [],
   "source": [
    "svm = SVC(kernel='rbf', C=1, random_state=511)\n",
    "svm.fit(X_train, np.ravel(y_train))\n",
    "y_pred_svm = svm.predict(X_test)"
   ]
  },
  {
   "cell_type": "code",
   "execution_count": 15,
   "id": "6a4f1056",
   "metadata": {},
   "outputs": [
    {
     "name": "stdout",
     "output_type": "stream",
     "text": [
      "0.31582476531068393\n"
     ]
    }
   ],
   "source": [
    "accuracy_svm = accuracy_score(y_test, y_pred_svm)\n",
    "print(accuracy_svm)"
   ]
  },
  {
   "cell_type": "code",
   "execution_count": 16,
   "id": "9720ce0b",
   "metadata": {},
   "outputs": [
    {
     "name": "stdout",
     "output_type": "stream",
     "text": [
      "              precision    recall  f1-score   support\n",
      "\n",
      "           0       0.38      0.39      0.39      9945\n",
      "           1       0.23      0.23      0.23      7951\n",
      "\n",
      "    accuracy                           0.32     17896\n",
      "   macro avg       0.31      0.31      0.31     17896\n",
      "weighted avg       0.32      0.32      0.32     17896\n",
      "\n"
     ]
    }
   ],
   "source": [
    "print(classification_report(y_test, y_pred_svm))"
   ]
  },
  {
   "cell_type": "code",
   "execution_count": 52,
   "id": "9a744f21",
   "metadata": {},
   "outputs": [
    {
     "name": "stdout",
     "output_type": "stream",
     "text": [
      "[[3848 6097]\n",
      " [6147 1804]]\n"
     ]
    }
   ],
   "source": [
    "cm = confusion_matrix(y_test, y_pred_svm)\n",
    "print(cm)"
   ]
  },
  {
   "cell_type": "code",
   "execution_count": 53,
   "id": "b9022f6c",
   "metadata": {},
   "outputs": [
    {
     "name": "stdout",
     "output_type": "stream",
     "text": [
      "0.7731103005911206\n"
     ]
    }
   ],
   "source": [
    "#Calculate False Negative rate\n",
    "FN = cm[1][0]\n",
    "TP = cm[1][1]\n",
    "\n",
    "FNR = FN / (FN + TP)\n",
    "print(FNR)"
   ]
  },
  {
   "cell_type": "markdown",
   "id": "41ced778",
   "metadata": {},
   "source": [
    "This section, I increased the number of C to minimize classification error. However, it may increase overfitting problem."
   ]
  },
  {
   "cell_type": "code",
   "execution_count": 39,
   "id": "655a3c05",
   "metadata": {},
   "outputs": [],
   "source": [
    "svm = SVC(kernel='rbf', C=2, random_state=511)\n",
    "svm.fit(X_train, np.ravel(y_train))\n",
    "y_pred_svm = svm.predict(X_test)"
   ]
  },
  {
   "cell_type": "code",
   "execution_count": 40,
   "id": "ae36028e",
   "metadata": {},
   "outputs": [
    {
     "name": "stdout",
     "output_type": "stream",
     "text": [
      "0.32459767545820295\n"
     ]
    }
   ],
   "source": [
    "accuracy_svm = accuracy_score(y_test, y_pred_svm)\n",
    "print(accuracy_svm)"
   ]
  },
  {
   "cell_type": "code",
   "execution_count": 41,
   "id": "1c232b40",
   "metadata": {},
   "outputs": [
    {
     "name": "stdout",
     "output_type": "stream",
     "text": [
      "              precision    recall  f1-score   support\n",
      "\n",
      "           0       0.36      0.29      0.32      9945\n",
      "           1       0.29      0.37      0.33      7951\n",
      "\n",
      "    accuracy                           0.32     17896\n",
      "   macro avg       0.33      0.33      0.32     17896\n",
      "weighted avg       0.33      0.32      0.32     17896\n",
      "\n"
     ]
    }
   ],
   "source": [
    "print(classification_report(y_test, y_pred_svm))"
   ]
  },
  {
   "cell_type": "code",
   "execution_count": 42,
   "id": "f0bf0a02",
   "metadata": {},
   "outputs": [
    {
     "name": "stdout",
     "output_type": "stream",
     "text": [
      "[[2846 7099]\n",
      " [4988 2963]]\n"
     ]
    }
   ],
   "source": [
    "cm = confusion_matrix(y_test, y_pred_svm)\n",
    "print(cm)"
   ]
  },
  {
   "cell_type": "code",
   "execution_count": 43,
   "id": "a5188ee9",
   "metadata": {},
   "outputs": [
    {
     "name": "stdout",
     "output_type": "stream",
     "text": [
      "0.6273424726449504\n"
     ]
    }
   ],
   "source": [
    "#Calculate False Negative rate\n",
    "FN = cm[1][0]\n",
    "TP = cm[1][1]\n",
    "\n",
    "FNR = FN / (FN + TP)\n",
    "print(FNR)"
   ]
  },
  {
   "cell_type": "markdown",
   "id": "220dbcbf",
   "metadata": {},
   "source": [
    "# 3.3 Logistic Regression"
   ]
  },
  {
   "cell_type": "code",
   "execution_count": 13,
   "id": "a1c0368c",
   "metadata": {},
   "outputs": [],
   "source": [
    "from sklearn.linear_model import LogisticRegression"
   ]
  },
  {
   "cell_type": "markdown",
   "id": "a6998c8b",
   "metadata": {},
   "source": [
    "First, I will use ridge logistic regression to regularize the data. The first model result exclude decision threshold is a baseline."
   ]
  },
  {
   "cell_type": "code",
   "execution_count": 36,
   "id": "56181c82",
   "metadata": {},
   "outputs": [],
   "source": [
    "logit = LogisticRegression(penalty='l1', max_iter=2000, C=0.1, random_state=511)"
   ]
  },
  {
   "cell_type": "code",
   "execution_count": 143,
   "id": "e6bd519c",
   "metadata": {},
   "outputs": [],
   "source": [
    "logit.fit(X_train, np.ravel(y_train))\n",
    "y_pred_logit = logit.predict(X_test)"
   ]
  },
  {
   "cell_type": "code",
   "execution_count": 144,
   "id": "e27100cc",
   "metadata": {},
   "outputs": [
    {
     "name": "stdout",
     "output_type": "stream",
     "text": [
      "0.5685628073312472\n"
     ]
    }
   ],
   "source": [
    "accuracy_logit = accuracy_score(y_test, y_pred_logit)\n",
    "print(accuracy_logit)"
   ]
  },
  {
   "cell_type": "code",
   "execution_count": 130,
   "id": "3431c48b",
   "metadata": {},
   "outputs": [
    {
     "name": "stdout",
     "output_type": "stream",
     "text": [
      "              precision    recall  f1-score   support\n",
      "\n",
      "         0.0       0.57      0.94      0.71      9945\n",
      "         1.0       0.59      0.10      0.17      7951\n",
      "\n",
      "    accuracy                           0.57     17896\n",
      "   macro avg       0.58      0.52      0.44     17896\n",
      "weighted avg       0.58      0.57      0.47     17896\n",
      "\n"
     ]
    }
   ],
   "source": [
    "print(classification_report(y_test, y_pred_logit))"
   ]
  },
  {
   "cell_type": "code",
   "execution_count": 131,
   "id": "dd0d39d9",
   "metadata": {},
   "outputs": [
    {
     "name": "stdout",
     "output_type": "stream",
     "text": [
      "[[9398  547]\n",
      " [7174  777]]\n"
     ]
    }
   ],
   "source": [
    "cm1 = confusion_matrix(y_test, y_pred_logit)\n",
    "print(cm1)"
   ]
  },
  {
   "cell_type": "code",
   "execution_count": 132,
   "id": "f08bb6cb",
   "metadata": {},
   "outputs": [
    {
     "name": "stdout",
     "output_type": "stream",
     "text": [
      "0.90227644321469\n"
     ]
    }
   ],
   "source": [
    "#Calculate False Negative rate\n",
    "FN = cm1[1][0]\n",
    "TP = cm1[1][1]\n",
    "\n",
    "FNR = FN / (FN + TP)\n",
    "print(FNR)"
   ]
  },
  {
   "cell_type": "markdown",
   "id": "1944dc1e",
   "metadata": {},
   "source": [
    "Second, I will reduce the theshold to reduce false negative."
   ]
  },
  {
   "cell_type": "code",
   "execution_count": 133,
   "id": "56b945c2",
   "metadata": {},
   "outputs": [],
   "source": [
    "#Adjust decision threshold to prevent False Negatives\n",
    "logit.fit(X_train, np.ravel(y_train))\n",
    "y_pred_logit = logit.predict(X_test)\n",
    "\n",
    "y_pred_proba = logit.predict_proba(X_test)\n",
    "threshold = 0.4\n",
    "y_pred_logit2 = (y_pred_proba[:, 1] >= threshold).astype(int)"
   ]
  },
  {
   "cell_type": "code",
   "execution_count": 134,
   "id": "4e9a9c6a",
   "metadata": {},
   "outputs": [
    {
     "name": "stdout",
     "output_type": "stream",
     "text": [
      "0.5751564595440322\n"
     ]
    }
   ],
   "source": [
    "accuracy_logit2 = accuracy_score(y_test, y_pred_logit2)\n",
    "print(accuracy_logit2)"
   ]
  },
  {
   "cell_type": "code",
   "execution_count": 135,
   "id": "e2611930",
   "metadata": {},
   "outputs": [
    {
     "name": "stdout",
     "output_type": "stream",
     "text": [
      "              precision    recall  f1-score   support\n",
      "\n",
      "         0.0       0.58      0.84      0.69      9945\n",
      "         1.0       0.55      0.24      0.34      7951\n",
      "\n",
      "    accuracy                           0.58     17896\n",
      "   macro avg       0.57      0.54      0.51     17896\n",
      "weighted avg       0.57      0.58      0.53     17896\n",
      "\n"
     ]
    }
   ],
   "source": [
    "print(classification_report(y_test, y_pred_logit2))"
   ]
  },
  {
   "cell_type": "code",
   "execution_count": 136,
   "id": "0b3c16ac",
   "metadata": {},
   "outputs": [
    {
     "name": "stdout",
     "output_type": "stream",
     "text": [
      "[[8368 1577]\n",
      " [6026 1925]]\n"
     ]
    }
   ],
   "source": [
    "cm2 = confusion_matrix(y_test, y_pred_logit2)\n",
    "print(cm2)"
   ]
  },
  {
   "cell_type": "code",
   "execution_count": 137,
   "id": "d9ff6c71",
   "metadata": {},
   "outputs": [
    {
     "name": "stdout",
     "output_type": "stream",
     "text": [
      "0.7578920890454031\n"
     ]
    }
   ],
   "source": [
    "#Calculate False Negative rate\n",
    "FN = cm2[1][0]\n",
    "TP = cm2[1][1]\n",
    "\n",
    "FNR = FN / (FN + TP)\n",
    "print(FNR)"
   ]
  },
  {
   "cell_type": "markdown",
   "id": "0adc6b49",
   "metadata": {},
   "source": [
    "# 3.4 K-Nearest Neighbors"
   ]
  },
  {
   "cell_type": "code",
   "execution_count": 14,
   "id": "9119f8b7",
   "metadata": {},
   "outputs": [],
   "source": [
    "from sklearn.model_selection import GridSearchCV\n",
    "from sklearn.neighbors import KNeighborsClassifier"
   ]
  },
  {
   "cell_type": "code",
   "execution_count": 50,
   "id": "f635931b",
   "metadata": {},
   "outputs": [],
   "source": [
    "knn = KNeighborsClassifier()"
   ]
  },
  {
   "cell_type": "code",
   "execution_count": 19,
   "id": "17369b4c",
   "metadata": {},
   "outputs": [
    {
     "name": "stdout",
     "output_type": "stream",
     "text": [
      "Optimal number of neighbors: 2\n"
     ]
    }
   ],
   "source": [
    "#Find optimal number of neighbors\n",
    "param_grid = {'n_neighbors': list(range(1, 10))}\n",
    "grid_search = GridSearchCV(knn, param_grid, cv=5, scoring='accuracy')\n",
    "grid_search.fit(X_train, np.ravel(y_train))\n",
    "optimal_n_neighbors = grid_search.best_params_['n_neighbors']\n",
    "print(\"Optimal number of neighbors:\", optimal_n_neighbors)"
   ]
  },
  {
   "cell_type": "code",
   "execution_count": 20,
   "id": "24e5244a",
   "metadata": {},
   "outputs": [],
   "source": [
    "knn = KNeighborsClassifier(n_neighbors=2)\n",
    "knn.fit(X_train, np.ravel(y_train))\n",
    "y_pred_knn = knn.predict(X_test)"
   ]
  },
  {
   "cell_type": "code",
   "execution_count": 22,
   "id": "cc1e555c",
   "metadata": {},
   "outputs": [
    {
     "name": "stdout",
     "output_type": "stream",
     "text": [
      "0.44585382208314706\n"
     ]
    }
   ],
   "source": [
    "accuracy_knn = accuracy_score(y_test, y_pred_knn)\n",
    "print(accuracy_knn)"
   ]
  },
  {
   "cell_type": "code",
   "execution_count": 23,
   "id": "d6cf190f",
   "metadata": {},
   "outputs": [
    {
     "name": "stdout",
     "output_type": "stream",
     "text": [
      "              precision    recall  f1-score   support\n",
      "\n",
      "           0       0.50      0.58      0.54      9945\n",
      "           1       0.35      0.28      0.31      7951\n",
      "\n",
      "    accuracy                           0.45     17896\n",
      "   macro avg       0.42      0.43      0.42     17896\n",
      "weighted avg       0.43      0.45      0.44     17896\n",
      "\n"
     ]
    }
   ],
   "source": [
    "print(classification_report(y_test, y_pred_knn))"
   ]
  },
  {
   "cell_type": "code",
   "execution_count": 24,
   "id": "afd11284",
   "metadata": {},
   "outputs": [
    {
     "name": "stdout",
     "output_type": "stream",
     "text": [
      "[[5727 4218]\n",
      " [5699 2252]]\n"
     ]
    }
   ],
   "source": [
    "cm = confusion_matrix(y_test, y_pred_knn)\n",
    "print(cm)"
   ]
  },
  {
   "cell_type": "code",
   "execution_count": 25,
   "id": "3b7a605b",
   "metadata": {},
   "outputs": [
    {
     "name": "stdout",
     "output_type": "stream",
     "text": [
      "0.7167651867689598\n"
     ]
    }
   ],
   "source": [
    "#Calculate False Negative rate\n",
    "FN = cm[1][0]\n",
    "TP = cm[1][1]\n",
    "\n",
    "FNR = FN / (FN + TP)\n",
    "print(FNR)"
   ]
  },
  {
   "cell_type": "markdown",
   "id": "e92ee86c",
   "metadata": {},
   "source": [
    "# Section 4: Cross Validation"
   ]
  },
  {
   "cell_type": "markdown",
   "id": "425d5461",
   "metadata": {},
   "source": [
    "Perform 10-fold cross validation for each model."
   ]
  },
  {
   "cell_type": "code",
   "execution_count": 14,
   "id": "d61c326c",
   "metadata": {},
   "outputs": [],
   "source": [
    "from sklearn.model_selection import TimeSeriesSplit"
   ]
  },
  {
   "cell_type": "code",
   "execution_count": 19,
   "id": "a1ca3a46",
   "metadata": {},
   "outputs": [],
   "source": [
    "#Get features and target variable\n",
    "X = lag_data.drop(['ID', 'Stress'], axis=1)\n",
    "y = lag_data['Stress']"
   ]
  },
  {
   "cell_type": "code",
   "execution_count": 26,
   "id": "589c5271",
   "metadata": {},
   "outputs": [],
   "source": [
    "#Convert the 'Time' column\n",
    "X['Year'] = X['Time'].dt.year\n",
    "X['Month'] = X['Time'].dt.month\n",
    "X['Day'] = X['Time'].dt.day\n",
    "X['Hour'] = X['Time'].dt.hour\n",
    "X['Minute'] = X['Time'].dt.minute\n",
    "X['Second'] = X['Time'].dt.second\n",
    "\n",
    "#Drop 'Time' column\n",
    "X = X.drop(['Time'], axis=1)"
   ]
  },
  {
   "cell_type": "code",
   "execution_count": 12,
   "id": "3ff3c8ef",
   "metadata": {},
   "outputs": [],
   "source": [
    "#Convert the 'Time' column\n",
    "lag_data['Year'] = lag_data['Time'].dt.year\n",
    "lag_data['Month'] = lag_data['Time'].dt.month\n",
    "lag_data['Day'] = lag_data['Time'].dt.day\n",
    "lag_data['Hour'] = lag_data['Time'].dt.hour\n",
    "lag_data['Minute'] = lag_data['Time'].dt.minute\n",
    "lag_data['Second'] = lag_data['Time'].dt.second\n",
    "\n",
    "#Drop 'Time' column\n",
    "lag_data = lag_data.drop(['Time'], axis=1)"
   ]
  },
  {
   "cell_type": "code",
   "execution_count": 25,
   "id": "d00de48f",
   "metadata": {},
   "outputs": [],
   "source": [
    "#Create 10 splits\n",
    "tscv = TimeSeriesSplit(n_splits=10)"
   ]
  },
  {
   "cell_type": "markdown",
   "id": "becd7265",
   "metadata": {},
   "source": [
    "# 4.1 Random Forest"
   ]
  },
  {
   "cell_type": "code",
   "execution_count": 37,
   "id": "641cf20e",
   "metadata": {},
   "outputs": [
    {
     "name": "stdout",
     "output_type": "stream",
     "text": [
      "Shape of the lag_data DataFrame: (89450, 104)\n",
      "Number of unique IDs: 25\n",
      "Shape of the id_data DataFrame for ID S11: (3871, 104)\n",
      "Train set shapes (X_train, y_train): (646, 102), (646,)\n",
      "Test set shapes (X_test, y_test): (645, 102), (645,)\n",
      "Train set shapes (X_train, y_train): (1291, 102), (1291,)\n",
      "Test set shapes (X_test, y_test): (645, 102), (645,)\n",
      "Train set shapes (X_train, y_train): (1936, 102), (1936,)\n",
      "Test set shapes (X_test, y_test): (645, 102), (645,)\n",
      "Train set shapes (X_train, y_train): (2581, 102), (2581,)\n",
      "Test set shapes (X_test, y_test): (645, 102), (645,)\n",
      "Train set shapes (X_train, y_train): (3226, 102), (3226,)\n",
      "Test set shapes (X_test, y_test): (645, 102), (645,)\n",
      "Shape of the id_data DataFrame for ID S12: (3485, 104)\n",
      "Train set shapes (X_train, y_train): (585, 102), (585,)\n",
      "Test set shapes (X_test, y_test): (580, 102), (580,)\n",
      "Train set shapes (X_train, y_train): (1165, 102), (1165,)\n",
      "Test set shapes (X_test, y_test): (580, 102), (580,)\n",
      "Train set shapes (X_train, y_train): (1745, 102), (1745,)\n",
      "Test set shapes (X_test, y_test): (580, 102), (580,)\n",
      "Train set shapes (X_train, y_train): (2325, 102), (2325,)\n",
      "Test set shapes (X_test, y_test): (580, 102), (580,)\n",
      "Train set shapes (X_train, y_train): (2905, 102), (2905,)\n",
      "Test set shapes (X_test, y_test): (580, 102), (580,)\n",
      "Shape of the id_data DataFrame for ID S13: (3555, 104)\n",
      "Train set shapes (X_train, y_train): (595, 102), (595,)\n",
      "Test set shapes (X_test, y_test): (592, 102), (592,)\n",
      "Train set shapes (X_train, y_train): (1187, 102), (1187,)\n",
      "Test set shapes (X_test, y_test): (592, 102), (592,)\n",
      "Train set shapes (X_train, y_train): (1779, 102), (1779,)\n",
      "Test set shapes (X_test, y_test): (592, 102), (592,)\n",
      "Train set shapes (X_train, y_train): (2371, 102), (2371,)\n",
      "Test set shapes (X_test, y_test): (592, 102), (592,)\n",
      "Train set shapes (X_train, y_train): (2963, 102), (2963,)\n",
      "Test set shapes (X_test, y_test): (592, 102), (592,)\n",
      "Shape of the id_data DataFrame for ID S14: (3993, 104)\n",
      "Train set shapes (X_train, y_train): (668, 102), (668,)\n",
      "Test set shapes (X_test, y_test): (665, 102), (665,)\n",
      "Train set shapes (X_train, y_train): (1333, 102), (1333,)\n",
      "Test set shapes (X_test, y_test): (665, 102), (665,)\n",
      "Train set shapes (X_train, y_train): (1998, 102), (1998,)\n",
      "Test set shapes (X_test, y_test): (665, 102), (665,)\n",
      "Train set shapes (X_train, y_train): (2663, 102), (2663,)\n",
      "Test set shapes (X_test, y_test): (665, 102), (665,)\n",
      "Train set shapes (X_train, y_train): (3328, 102), (3328,)\n",
      "Test set shapes (X_test, y_test): (665, 102), (665,)\n",
      "Shape of the id_data DataFrame for ID S15: (3640, 104)\n",
      "Train set shapes (X_train, y_train): (610, 102), (610,)\n",
      "Test set shapes (X_test, y_test): (606, 102), (606,)\n",
      "Train set shapes (X_train, y_train): (1216, 102), (1216,)\n",
      "Test set shapes (X_test, y_test): (606, 102), (606,)\n",
      "Train set shapes (X_train, y_train): (1822, 102), (1822,)\n",
      "Test set shapes (X_test, y_test): (606, 102), (606,)\n",
      "Train set shapes (X_train, y_train): (2428, 102), (2428,)\n",
      "Test set shapes (X_test, y_test): (606, 102), (606,)\n",
      "Train set shapes (X_train, y_train): (3034, 102), (3034,)\n",
      "Test set shapes (X_test, y_test): (606, 102), (606,)\n",
      "Shape of the id_data DataFrame for ID S16: (3631, 104)\n",
      "Train set shapes (X_train, y_train): (606, 102), (606,)\n",
      "Test set shapes (X_test, y_test): (605, 102), (605,)\n",
      "Train set shapes (X_train, y_train): (1211, 102), (1211,)\n",
      "Test set shapes (X_test, y_test): (605, 102), (605,)\n",
      "Train set shapes (X_train, y_train): (1816, 102), (1816,)\n",
      "Test set shapes (X_test, y_test): (605, 102), (605,)\n",
      "Train set shapes (X_train, y_train): (2421, 102), (2421,)\n",
      "Test set shapes (X_test, y_test): (605, 102), (605,)\n",
      "Train set shapes (X_train, y_train): (3026, 102), (3026,)\n",
      "Test set shapes (X_test, y_test): (605, 102), (605,)\n",
      "Shape of the id_data DataFrame for ID S17: (3399, 104)\n",
      "Train set shapes (X_train, y_train): (569, 102), (569,)\n",
      "Test set shapes (X_test, y_test): (566, 102), (566,)\n",
      "Train set shapes (X_train, y_train): (1135, 102), (1135,)\n",
      "Test set shapes (X_test, y_test): (566, 102), (566,)\n",
      "Train set shapes (X_train, y_train): (1701, 102), (1701,)\n",
      "Test set shapes (X_test, y_test): (566, 102), (566,)\n",
      "Train set shapes (X_train, y_train): (2267, 102), (2267,)\n",
      "Test set shapes (X_test, y_test): (566, 102), (566,)\n",
      "Train set shapes (X_train, y_train): (2833, 102), (2833,)\n",
      "Test set shapes (X_test, y_test): (566, 102), (566,)\n",
      "Shape of the id_data DataFrame for ID S18: (3570, 104)\n",
      "Train set shapes (X_train, y_train): (595, 102), (595,)\n",
      "Test set shapes (X_test, y_test): (595, 102), (595,)\n",
      "Train set shapes (X_train, y_train): (1190, 102), (1190,)\n",
      "Test set shapes (X_test, y_test): (595, 102), (595,)\n",
      "Train set shapes (X_train, y_train): (1785, 102), (1785,)\n",
      "Test set shapes (X_test, y_test): (595, 102), (595,)\n",
      "Train set shapes (X_train, y_train): (2380, 102), (2380,)\n",
      "Test set shapes (X_test, y_test): (595, 102), (595,)\n",
      "Train set shapes (X_train, y_train): (2975, 102), (2975,)\n",
      "Test set shapes (X_test, y_test): (595, 102), (595,)\n",
      "Shape of the id_data DataFrame for ID S19: (3344, 104)\n",
      "Train set shapes (X_train, y_train): (559, 102), (559,)\n",
      "Test set shapes (X_test, y_test): (557, 102), (557,)\n",
      "Train set shapes (X_train, y_train): (1116, 102), (1116,)\n",
      "Test set shapes (X_test, y_test): (557, 102), (557,)\n",
      "Train set shapes (X_train, y_train): (1673, 102), (1673,)\n",
      "Test set shapes (X_test, y_test): (557, 102), (557,)\n",
      "Train set shapes (X_train, y_train): (2230, 102), (2230,)\n",
      "Test set shapes (X_test, y_test): (557, 102), (557,)\n",
      "Train set shapes (X_train, y_train): (2787, 102), (2787,)\n",
      "Test set shapes (X_test, y_test): (557, 102), (557,)\n",
      "Shape of the id_data DataFrame for ID S20: (3635, 104)\n",
      "Train set shapes (X_train, y_train): (610, 102), (610,)\n",
      "Test set shapes (X_test, y_test): (605, 102), (605,)\n",
      "Train set shapes (X_train, y_train): (1215, 102), (1215,)\n",
      "Test set shapes (X_test, y_test): (605, 102), (605,)\n",
      "Train set shapes (X_train, y_train): (1820, 102), (1820,)\n",
      "Test set shapes (X_test, y_test): (605, 102), (605,)\n",
      "Train set shapes (X_train, y_train): (2425, 102), (2425,)\n",
      "Test set shapes (X_test, y_test): (605, 102), (605,)\n",
      "Train set shapes (X_train, y_train): (3030, 102), (3030,)\n",
      "Test set shapes (X_test, y_test): (605, 102), (605,)\n",
      "Shape of the id_data DataFrame for ID S21: (3392, 104)\n",
      "Train set shapes (X_train, y_train): (567, 102), (567,)\n",
      "Test set shapes (X_test, y_test): (565, 102), (565,)\n",
      "Train set shapes (X_train, y_train): (1132, 102), (1132,)\n",
      "Test set shapes (X_test, y_test): (565, 102), (565,)\n",
      "Train set shapes (X_train, y_train): (1697, 102), (1697,)\n",
      "Test set shapes (X_test, y_test): (565, 102), (565,)\n",
      "Train set shapes (X_train, y_train): (2262, 102), (2262,)\n",
      "Test set shapes (X_test, y_test): (565, 102), (565,)\n",
      "Train set shapes (X_train, y_train): (2827, 102), (2827,)\n",
      "Test set shapes (X_test, y_test): (565, 102), (565,)\n",
      "Shape of the id_data DataFrame for ID S22: (3170, 104)\n",
      "Train set shapes (X_train, y_train): (530, 102), (530,)\n",
      "Test set shapes (X_test, y_test): (528, 102), (528,)\n",
      "Train set shapes (X_train, y_train): (1058, 102), (1058,)\n",
      "Test set shapes (X_test, y_test): (528, 102), (528,)\n",
      "Train set shapes (X_train, y_train): (1586, 102), (1586,)\n",
      "Test set shapes (X_test, y_test): (528, 102), (528,)\n",
      "Train set shapes (X_train, y_train): (2114, 102), (2114,)\n",
      "Test set shapes (X_test, y_test): (528, 102), (528,)\n",
      "Train set shapes (X_train, y_train): (2642, 102), (2642,)\n",
      "Test set shapes (X_test, y_test): (528, 102), (528,)\n",
      "Shape of the id_data DataFrame for ID S23: (3188, 104)\n",
      "Train set shapes (X_train, y_train): (533, 102), (533,)\n",
      "Test set shapes (X_test, y_test): (531, 102), (531,)\n",
      "Train set shapes (X_train, y_train): (1064, 102), (1064,)\n",
      "Test set shapes (X_test, y_test): (531, 102), (531,)\n",
      "Train set shapes (X_train, y_train): (1595, 102), (1595,)\n",
      "Test set shapes (X_test, y_test): (531, 102), (531,)\n",
      "Train set shapes (X_train, y_train): (2126, 102), (2126,)\n",
      "Test set shapes (X_test, y_test): (531, 102), (531,)\n",
      "Train set shapes (X_train, y_train): (2657, 102), (2657,)\n",
      "Test set shapes (X_test, y_test): (531, 102), (531,)\n",
      "Shape of the id_data DataFrame for ID S24: (3690, 104)\n",
      "Train set shapes (X_train, y_train): (615, 102), (615,)\n",
      "Test set shapes (X_test, y_test): (615, 102), (615,)\n",
      "Train set shapes (X_train, y_train): (1230, 102), (1230,)\n",
      "Test set shapes (X_test, y_test): (615, 102), (615,)\n",
      "Train set shapes (X_train, y_train): (1845, 102), (1845,)\n",
      "Test set shapes (X_test, y_test): (615, 102), (615,)\n",
      "Train set shapes (X_train, y_train): (2460, 102), (2460,)\n",
      "Test set shapes (X_test, y_test): (615, 102), (615,)\n",
      "Train set shapes (X_train, y_train): (3075, 102), (3075,)\n",
      "Test set shapes (X_test, y_test): (615, 102), (615,)\n",
      "Shape of the id_data DataFrame for ID S25: (3264, 104)\n",
      "Train set shapes (X_train, y_train): (544, 102), (544,)\n",
      "Test set shapes (X_test, y_test): (544, 102), (544,)\n",
      "Train set shapes (X_train, y_train): (1088, 102), (1088,)\n",
      "Test set shapes (X_test, y_test): (544, 102), (544,)\n",
      "Train set shapes (X_train, y_train): (1632, 102), (1632,)\n",
      "Test set shapes (X_test, y_test): (544, 102), (544,)\n",
      "Train set shapes (X_train, y_train): (2176, 102), (2176,)\n",
      "Test set shapes (X_test, y_test): (544, 102), (544,)\n",
      "Train set shapes (X_train, y_train): (2720, 102), (2720,)\n",
      "Test set shapes (X_test, y_test): (544, 102), (544,)\n",
      "Shape of the id_data DataFrame for ID S26: (3297, 104)\n",
      "Train set shapes (X_train, y_train): (552, 102), (552,)\n",
      "Test set shapes (X_test, y_test): (549, 102), (549,)\n",
      "Train set shapes (X_train, y_train): (1101, 102), (1101,)\n",
      "Test set shapes (X_test, y_test): (549, 102), (549,)\n",
      "Train set shapes (X_train, y_train): (1650, 102), (1650,)\n",
      "Test set shapes (X_test, y_test): (549, 102), (549,)\n",
      "Train set shapes (X_train, y_train): (2199, 102), (2199,)\n",
      "Test set shapes (X_test, y_test): (549, 102), (549,)\n",
      "Train set shapes (X_train, y_train): (2748, 102), (2748,)\n",
      "Test set shapes (X_test, y_test): (549, 102), (549,)\n",
      "Shape of the id_data DataFrame for ID S27: (3664, 104)\n",
      "Train set shapes (X_train, y_train): (614, 102), (614,)\n",
      "Test set shapes (X_test, y_test): (610, 102), (610,)\n",
      "Train set shapes (X_train, y_train): (1224, 102), (1224,)\n",
      "Test set shapes (X_test, y_test): (610, 102), (610,)\n",
      "Train set shapes (X_train, y_train): (1834, 102), (1834,)\n",
      "Test set shapes (X_test, y_test): (610, 102), (610,)\n",
      "Train set shapes (X_train, y_train): (2444, 102), (2444,)\n",
      "Test set shapes (X_test, y_test): (610, 102), (610,)\n",
      "Train set shapes (X_train, y_train): (3054, 102), (3054,)\n",
      "Test set shapes (X_test, y_test): (610, 102), (610,)\n",
      "Shape of the id_data DataFrame for ID S28: (3343, 104)\n",
      "Train set shapes (X_train, y_train): (558, 102), (558,)\n",
      "Test set shapes (X_test, y_test): (557, 102), (557,)\n",
      "Train set shapes (X_train, y_train): (1115, 102), (1115,)\n",
      "Test set shapes (X_test, y_test): (557, 102), (557,)\n",
      "Train set shapes (X_train, y_train): (1672, 102), (1672,)\n",
      "Test set shapes (X_test, y_test): (557, 102), (557,)\n",
      "Train set shapes (X_train, y_train): (2229, 102), (2229,)\n",
      "Test set shapes (X_test, y_test): (557, 102), (557,)\n",
      "Train set shapes (X_train, y_train): (2786, 102), (2786,)\n",
      "Test set shapes (X_test, y_test): (557, 102), (557,)\n",
      "Shape of the id_data DataFrame for ID S29: (3764, 104)\n",
      "Train set shapes (X_train, y_train): (629, 102), (629,)\n",
      "Test set shapes (X_test, y_test): (627, 102), (627,)\n",
      "Train set shapes (X_train, y_train): (1256, 102), (1256,)\n",
      "Test set shapes (X_test, y_test): (627, 102), (627,)\n",
      "Train set shapes (X_train, y_train): (1883, 102), (1883,)\n",
      "Test set shapes (X_test, y_test): (627, 102), (627,)\n",
      "Train set shapes (X_train, y_train): (2510, 102), (2510,)\n",
      "Test set shapes (X_test, y_test): (627, 102), (627,)\n",
      "Train set shapes (X_train, y_train): (3137, 102), (3137,)\n",
      "Test set shapes (X_test, y_test): (627, 102), (627,)\n",
      "Shape of the id_data DataFrame for ID S30: (3494, 104)\n",
      "Train set shapes (X_train, y_train): (584, 102), (584,)\n",
      "Test set shapes (X_test, y_test): (582, 102), (582,)\n",
      "Train set shapes (X_train, y_train): (1166, 102), (1166,)\n",
      "Test set shapes (X_test, y_test): (582, 102), (582,)\n",
      "Train set shapes (X_train, y_train): (1748, 102), (1748,)\n",
      "Test set shapes (X_test, y_test): (582, 102), (582,)\n",
      "Train set shapes (X_train, y_train): (2330, 102), (2330,)\n",
      "Test set shapes (X_test, y_test): (582, 102), (582,)\n",
      "Train set shapes (X_train, y_train): (2912, 102), (2912,)\n",
      "Test set shapes (X_test, y_test): (582, 102), (582,)\n",
      "Shape of the id_data DataFrame for ID S31: (3695, 104)\n",
      "Train set shapes (X_train, y_train): (620, 102), (620,)\n",
      "Test set shapes (X_test, y_test): (615, 102), (615,)\n",
      "Train set shapes (X_train, y_train): (1235, 102), (1235,)\n",
      "Test set shapes (X_test, y_test): (615, 102), (615,)\n",
      "Train set shapes (X_train, y_train): (1850, 102), (1850,)\n",
      "Test set shapes (X_test, y_test): (615, 102), (615,)\n",
      "Train set shapes (X_train, y_train): (2465, 102), (2465,)\n",
      "Test set shapes (X_test, y_test): (615, 102), (615,)\n",
      "Train set shapes (X_train, y_train): (3080, 102), (3080,)\n",
      "Test set shapes (X_test, y_test): (615, 102), (615,)\n",
      "Shape of the id_data DataFrame for ID S32: (3194, 104)\n",
      "Train set shapes (X_train, y_train): (534, 102), (534,)\n",
      "Test set shapes (X_test, y_test): (532, 102), (532,)\n",
      "Train set shapes (X_train, y_train): (1066, 102), (1066,)\n",
      "Test set shapes (X_test, y_test): (532, 102), (532,)\n",
      "Train set shapes (X_train, y_train): (1598, 102), (1598,)\n",
      "Test set shapes (X_test, y_test): (532, 102), (532,)\n",
      "Train set shapes (X_train, y_train): (2130, 102), (2130,)\n",
      "Test set shapes (X_test, y_test): (532, 102), (532,)\n",
      "Train set shapes (X_train, y_train): (2662, 102), (2662,)\n",
      "Test set shapes (X_test, y_test): (532, 102), (532,)\n"
     ]
    },
    {
     "name": "stdout",
     "output_type": "stream",
     "text": [
      "Shape of the id_data DataFrame for ID S33: (3939, 104)\n",
      "Train set shapes (X_train, y_train): (659, 102), (659,)\n",
      "Test set shapes (X_test, y_test): (656, 102), (656,)\n",
      "Train set shapes (X_train, y_train): (1315, 102), (1315,)\n",
      "Test set shapes (X_test, y_test): (656, 102), (656,)\n",
      "Train set shapes (X_train, y_train): (1971, 102), (1971,)\n",
      "Test set shapes (X_test, y_test): (656, 102), (656,)\n",
      "Train set shapes (X_train, y_train): (2627, 102), (2627,)\n",
      "Test set shapes (X_test, y_test): (656, 102), (656,)\n",
      "Train set shapes (X_train, y_train): (3283, 102), (3283,)\n",
      "Test set shapes (X_test, y_test): (656, 102), (656,)\n",
      "Shape of the id_data DataFrame for ID S34: (4610, 104)\n",
      "Train set shapes (X_train, y_train): (770, 102), (770,)\n",
      "Test set shapes (X_test, y_test): (768, 102), (768,)\n",
      "Train set shapes (X_train, y_train): (1538, 102), (1538,)\n",
      "Test set shapes (X_test, y_test): (768, 102), (768,)\n",
      "Train set shapes (X_train, y_train): (2306, 102), (2306,)\n",
      "Test set shapes (X_test, y_test): (768, 102), (768,)\n",
      "Train set shapes (X_train, y_train): (3074, 102), (3074,)\n",
      "Test set shapes (X_test, y_test): (768, 102), (768,)\n",
      "Train set shapes (X_train, y_train): (3842, 102), (3842,)\n",
      "Test set shapes (X_test, y_test): (768, 102), (768,)\n",
      "Shape of the id_data DataFrame for ID S35: (3623, 104)\n",
      "Train set shapes (X_train, y_train): (608, 102), (608,)\n",
      "Test set shapes (X_test, y_test): (603, 102), (603,)\n",
      "Train set shapes (X_train, y_train): (1211, 102), (1211,)\n",
      "Test set shapes (X_test, y_test): (603, 102), (603,)\n",
      "Train set shapes (X_train, y_train): (1814, 102), (1814,)\n",
      "Test set shapes (X_test, y_test): (603, 102), (603,)\n",
      "Train set shapes (X_train, y_train): (2417, 102), (2417,)\n",
      "Test set shapes (X_test, y_test): (603, 102), (603,)\n",
      "Train set shapes (X_train, y_train): (3020, 102), (3020,)\n",
      "Test set shapes (X_test, y_test): (603, 102), (603,)\n"
     ]
    }
   ],
   "source": [
    "# Check the shape of the DataFrame\n",
    "print(f\"Shape of the lag_data DataFrame: {lag_data.shape}\")\n",
    "\n",
    "# Get unique value of ID\n",
    "unique_ids = lag_data['ID'].unique()\n",
    "\n",
    "# Check the number of unique IDs\n",
    "print(f\"Number of unique IDs: {len(unique_ids)}\")\n",
    "\n",
    "# Initialize TimeSeriesSplit\n",
    "n_splits = 5\n",
    "tscv = TimeSeriesSplit(n_splits=n_splits)\n",
    "\n",
    "for id in unique_ids:\n",
    "    id_data = lag_data[lag_data['ID'] == id]\n",
    "    X_id = id_data.drop(['ID', 'Stress'], axis=1)\n",
    "    y_id = id_data['Stress']\n",
    "\n",
    "    # Check the shape of the id_data DataFrame\n",
    "    print(f\"Shape of the id_data DataFrame for ID {id}: {id_data.shape}\")\n",
    "\n",
    "    for train_index, test_index in tscv.split(X_id):\n",
    "        X_train, X_test = X_id.iloc[train_index], X_id.iloc[test_index]\n",
    "        y_train, y_test = y_id.iloc[train_index], y_id.iloc[test_index]\n",
    "\n",
    "        # Print the shapes of the train and test sets\n",
    "        print(f\"Train set shapes (X_train, y_train): {X_train.shape}, {y_train.shape}\")\n",
    "        print(f\"Test set shapes (X_test, y_test): {X_test.shape}, {y_test.shape}\")"
   ]
  },
  {
   "cell_type": "code",
   "execution_count": 44,
   "id": "33bdf8e3",
   "metadata": {},
   "outputs": [],
   "source": [
    "#Initiate RF model\n",
    "rf = RandomForestClassifier()\n",
    "\n",
    "#Create list for accuracy scores\n",
    "cv_scores1 = []\n",
    "\n",
    "#Fit the model                   \n",
    "rf.fit(X_train, y_train)\n",
    "    \n",
    "        #Predict test set\n",
    "y_pred = rf.predict(X_test)\n",
    "    \n",
    "        #Get accuracy score\n",
    "accuracy = accuracy_score(y_test, y_pred)\n",
    "    \n",
    "        #Append the scores\n",
    "cv_scores1.append(accuracy)\n"
   ]
  },
  {
   "cell_type": "code",
   "execution_count": 45,
   "id": "43e55d0e",
   "metadata": {},
   "outputs": [
    {
     "name": "stdout",
     "output_type": "stream",
     "text": [
      "0.04311774461028192\n"
     ]
    }
   ],
   "source": [
    "accuracy_rf = np.mean(cv_scores1)\n",
    "print(accuracy_rf)"
   ]
  },
  {
   "cell_type": "code",
   "execution_count": 54,
   "id": "4463a286",
   "metadata": {},
   "outputs": [
    {
     "data": {
      "text/plain": [
       "3020"
      ]
     },
     "execution_count": 54,
     "metadata": {},
     "output_type": "execute_result"
    }
   ],
   "source": [
    "(y_train == 0).count()"
   ]
  },
  {
   "cell_type": "markdown",
   "id": "ecffc805",
   "metadata": {},
   "source": [
    "# 4.2 SVM"
   ]
  },
  {
   "cell_type": "code",
   "execution_count": 46,
   "id": "b264757c",
   "metadata": {},
   "outputs": [],
   "source": [
    "#Initiate SVM model\n",
    "svm = SVC(kernel='rbf')\n",
    "\n",
    "#Create list for accuracy scores\n",
    "cv_scores2 = []\n",
    "    \n",
    "    #Fit the model                   \n",
    "svm.fit(X_train, y_train)\n",
    "    \n",
    "    #Predict test set\n",
    "y_pred = svm.predict(X_test)\n",
    "    \n",
    "    #Get accuracy score\n",
    "accuracy = accuracy_score(y_test, y_pred)\n",
    "    \n",
    "    #Append the scores\n",
    "cv_scores2.append(accuracy)"
   ]
  },
  {
   "cell_type": "code",
   "execution_count": 47,
   "id": "5bab81f5",
   "metadata": {},
   "outputs": [
    {
     "name": "stdout",
     "output_type": "stream",
     "text": [
      "0.956882255389718\n"
     ]
    }
   ],
   "source": [
    "accuracy_svm = np.mean(cv_scores2)\n",
    "print(accuracy_svm)"
   ]
  },
  {
   "cell_type": "markdown",
   "id": "b2940b61",
   "metadata": {},
   "source": [
    "# 4.3 Logistic Regression"
   ]
  },
  {
   "cell_type": "code",
   "execution_count": 33,
   "id": "4a440616",
   "metadata": {},
   "outputs": [
    {
     "ename": "NameError",
     "evalue": "name 'X' is not defined",
     "output_type": "error",
     "traceback": [
      "\u001b[0;31m---------------------------------------------------------------------------\u001b[0m",
      "\u001b[0;31mNameError\u001b[0m                                 Traceback (most recent call last)",
      "Input \u001b[0;32mIn [33]\u001b[0m, in \u001b[0;36m<cell line: 8>\u001b[0;34m()\u001b[0m\n\u001b[1;32m      5\u001b[0m cv_scores3 \u001b[38;5;241m=\u001b[39m []\n\u001b[1;32m      7\u001b[0m \u001b[38;5;66;03m#Iterate over train-test splits\u001b[39;00m\n\u001b[0;32m----> 8\u001b[0m \u001b[38;5;28;01mfor\u001b[39;00m train_index, test_index \u001b[38;5;129;01min\u001b[39;00m tscv\u001b[38;5;241m.\u001b[39msplit(\u001b[43mX\u001b[49m):\n\u001b[1;32m      9\u001b[0m     X_train, X_test \u001b[38;5;241m=\u001b[39m X\u001b[38;5;241m.\u001b[39miloc[train_index], X\u001b[38;5;241m.\u001b[39miloc[test_index]\n\u001b[1;32m     10\u001b[0m     y_train, y_test \u001b[38;5;241m=\u001b[39m y\u001b[38;5;241m.\u001b[39miloc[train_index], y\u001b[38;5;241m.\u001b[39miloc[test_index]\n",
      "\u001b[0;31mNameError\u001b[0m: name 'X' is not defined"
     ]
    }
   ],
   "source": [
    "#Initiate logistic regression model\n",
    "logit = LogisticRegression(penalty='l2', max_iter=2000, C=0.1)\n",
    "\n",
    "#Create list for accuracy scores\n",
    "cv_scores3 = []\n",
    "\n",
    "#Iterate over train-test splits\n",
    "for train_index, test_index in tscv.split(X):\n",
    "    X_train, X_test = X.iloc[train_index], X.iloc[test_index]\n",
    "    y_train, y_test = y.iloc[train_index], y.iloc[test_index]\n",
    "    \n",
    "    #Fit the model                   \n",
    "    logit.fit(X_train, y_train)\n",
    "    \n",
    "    #Predict test set\n",
    "    y_pred = logit.predict(X_test)\n",
    "    \n",
    "    #Get accuracy score\n",
    "    accuracy = accuracy_score(y_test, y_pred)\n",
    "    \n",
    "    #Append the scores\n",
    "    cv_scores3.append(accuracy)"
   ]
  },
  {
   "cell_type": "code",
   "execution_count": 45,
   "id": "27bf20ab",
   "metadata": {},
   "outputs": [
    {
     "name": "stdout",
     "output_type": "stream",
     "text": [
      "0.5476817119665478\n"
     ]
    }
   ],
   "source": [
    "accuracy_logit = np.mean(cv_scores3)\n",
    "print(accuracy_logit)"
   ]
  },
  {
   "cell_type": "markdown",
   "id": "48197979",
   "metadata": {},
   "source": [
    "# K-Nearest Neighbors"
   ]
  },
  {
   "cell_type": "code",
   "execution_count": 48,
   "id": "49322d45",
   "metadata": {},
   "outputs": [],
   "source": [
    "#Initiate KNN model\n",
    "knn = knn = KNeighborsClassifier(n_neighbors=2)\n",
    "\n",
    "#Create list for accuracy scores\n",
    "cv_scores4 = []\n",
    "\n",
    "#Iterate over train-test splits\n",
    "for train_index, test_index in tscv.split(X):\n",
    "    X_train, X_test = X.iloc[train_index], X.iloc[test_index]\n",
    "    y_train, y_test = y.iloc[train_index], y.iloc[test_index]\n",
    "    \n",
    "    #Fit the model                   \n",
    "    knn.fit(X_train, y_train)\n",
    "    \n",
    "    #Predict test set\n",
    "    y_pred = knn.predict(X_test)\n",
    "    \n",
    "    #Get accuracy score\n",
    "    accuracy = accuracy_score(y_test, y_pred)\n",
    "    \n",
    "    #Append the scores\n",
    "    cv_scores4.append(accuracy)"
   ]
  },
  {
   "cell_type": "code",
   "execution_count": 49,
   "id": "b871d701",
   "metadata": {},
   "outputs": [
    {
     "name": "stdout",
     "output_type": "stream",
     "text": [
      "0.531521338088796\n"
     ]
    }
   ],
   "source": [
    "accuracy_knn = np.mean(cv_scores4)\n",
    "print(accuracy_knn)"
   ]
  }
 ],
 "metadata": {
  "kernelspec": {
   "display_name": "Python 3 (ipykernel)",
   "language": "python",
   "name": "python3"
  },
  "language_info": {
   "codemirror_mode": {
    "name": "ipython",
    "version": 3
   },
   "file_extension": ".py",
   "mimetype": "text/x-python",
   "name": "python",
   "nbconvert_exporter": "python",
   "pygments_lexer": "ipython3",
   "version": "3.9.12"
  }
 },
 "nbformat": 4,
 "nbformat_minor": 5
}
